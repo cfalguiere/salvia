{
 "cells": [
  {
   "cell_type": "markdown",
   "id": "4be53f08-689d-4441-b916-e45e5f67d1c4",
   "metadata": {},
   "source": [
    "# LangChain Demo - Large documents"
   ]
  },
  {
   "cell_type": "markdown",
   "id": "4e4855ea-f9ce-4ef2-8ab0-6ce1d561229c",
   "metadata": {},
   "source": [
    "## This notebook\n",
    "\n",
    "This notebook collects Python examples using LangChain on large documents, especially those that are larger than the token number limitation.\n",
    "\n",
    "This notebook has been tested in June 2023 on AWS SageMaker using DataScience 3.0 image.\n",
    "\n",
    "Test environment:\n",
    "> - AWS SageMaker Studio's notebook \n",
    ">> - Kernel image Data Science 3.0\n",
    ">> - t3.medium 2CPU - 4GB\n",
    ">> - Python 3.9.15\n",
    ">> - Linux default 4.14.304-226.531.amzn2.x86_64"
   ]
  },
  {
   "cell_type": "markdown",
   "id": "4f6bc8d1-7040-474b-8409-14eaad21a82e",
   "metadata": {},
   "source": [
    "More informatioon about Langchain and dedicated examples in other notebooksof the same folder."
   ]
  },
  {
   "cell_type": "markdown",
   "id": "ee5bcf3c-d1bf-47b8-80f4-7593c7763d5c",
   "metadata": {
    "tags": []
   },
   "source": [
    "---\n",
    "<div style=\"background-color:green;color:black;text-align:center;padding:1rem;font-size:1.5rem;\">NOTEBOOK SETUP</div>\n",
    "\n"
   ]
  },
  {
   "cell_type": "markdown",
   "id": "44ce4588-2b08-40bf-88b7-76da7fa28f4b",
   "metadata": {},
   "source": [
    "**Instructions**\n",
    "\n",
    "All setups are at the top of the notebook so that you can run all this section initialize the notebook.\n",
    "\n",
    "Before running the setup you may need to create the following resources\n",
    "- request an OpenAI API keys. OpenAI APIs are not free.\n",
    "\n",
    "Confer to the setup sections for instruction on how to create those resources."
   ]
  },
  {
   "cell_type": "markdown",
   "id": "1b63b30a-99b8-4cb8-a1c9-83804d5a4897",
   "metadata": {},
   "source": [
    "---\n",
    "## API keys and environment\n",
    "\n",
    "Langchain will get the API keys from environment variables or function parameters.\n",
    "\n",
    "**Instructions**\n",
    "\n",
    "- Never show the keys in shared notebooks, whether it part of the code or a log. A simple way to avoid key leakage, is to use environement variables.  You set the environment variable in the terminal or some local configuration. If so you do not have to set the key here.\n",
    "\n",
    "- If it is easier for you to set the key here by assigning the value, do not forget to empty the string right after you run this block. The environment will be kept in memory as long as the kernel runs.\n",
    "\n",
    "- Be careful when printing the keys. Ensure that you remove the outputs. \n",
    "\n",
    "- Before sharing check that the keys are not printed out by some features of the libraries. Avoid to print libraries' objects. They often hold the API keys as a property and may disclose the key value."
   ]
  },
  {
   "cell_type": "markdown",
   "id": "4e3446dc-e402-46df-9ad1-ddd035c5176d",
   "metadata": {},
   "source": [
    "\n",
    "I Store API keys and configuration information in AWS Secrets Manager. The code below retrieves the secret holding the keys. The secret is a JSON string consisting in key/value pairs. It will be used later to set various environnement variables.\n",
    "\n",
    "When using Notebooks and SageMaker do not forget to give permissions to read this secret to SageMaker execution role."
   ]
  },
  {
   "cell_type": "code",
   "execution_count": 49,
   "id": "455dc55c-95fd-4e97-b1e0-ac6cad6720cc",
   "metadata": {},
   "outputs": [
    {
     "name": "stdout",
     "output_type": "stream",
     "text": [
      "Hit:1 http://deb.debian.org/debian bullseye InRelease\n",
      "Hit:2 http://deb.debian.org/debian bullseye-updates InRelease\n",
      "Hit:3 http://security.debian.org/debian-security bullseye-security InRelease\n",
      "Reading package lists... Done                           \n"
     ]
    }
   ],
   "source": [
    "!apt-get update && apt-get install -y jq 1>/dev/null"
   ]
  },
  {
   "cell_type": "code",
   "execution_count": 50,
   "id": "05387504-2a95-48d9-a140-bf1214113419",
   "metadata": {},
   "outputs": [],
   "source": [
    "%%bash --out secrets \n",
    "# using AWS's Secret Manager to store keys\n",
    "# garb the keys and store it into a Pytthon variable\n",
    "export RESPONSE=$(aws secretsmanager get-secret-value --secret-id 'salvia/labbench/tests' )\n",
    "export SECRETS=$( echo $RESPONSE | jq '.SecretString | fromjson')\n",
    "\n",
    "echo $SECRETS"
   ]
  },
  {
   "cell_type": "markdown",
   "id": "3afda12d-e8d0-4b56-97b8-cc2bb9b11886",
   "metadata": {},
   "source": [
    "---\n",
    "## pip upgrade"
   ]
  },
  {
   "cell_type": "code",
   "execution_count": 51,
   "id": "cedac5a8-cbb3-4944-9588-70bba96b5427",
   "metadata": {},
   "outputs": [
    {
     "name": "stdout",
     "output_type": "stream",
     "text": [
      "\u001b[33mWARNING: Running pip as the 'root' user can result in broken permissions and conflicting behaviour with the system package manager. It is recommended to use a virtual environment instead: https://pip.pypa.io/warnings/venv\u001b[0m\u001b[33m\n",
      "\u001b[0m"
     ]
    }
   ],
   "source": [
    "!pip install --upgrade pip  1>/dev/null"
   ]
  },
  {
   "cell_type": "markdown",
   "id": "c9d191a9-20a6-4936-bfff-bd7af4a6d841",
   "metadata": {},
   "source": [
    "---\n",
    "## LangChain Setup\n",
    "\n",
    "**Resources**\n",
    "> - [LangChain GetStarted](https://python.langchain.com/docs/get_started/quickstart)"
   ]
  },
  {
   "cell_type": "code",
   "execution_count": 52,
   "id": "182a1dfe-8dd0-43df-896e-b55cc1082d8b",
   "metadata": {},
   "outputs": [
    {
     "name": "stdout",
     "output_type": "stream",
     "text": [
      "\u001b[33mWARNING: Running pip as the 'root' user can result in broken permissions and conflicting behaviour with the system package manager. It is recommended to use a virtual environment instead: https://pip.pypa.io/warnings/venv\u001b[0m\u001b[33m\n",
      "\u001b[0m"
     ]
    }
   ],
   "source": [
    "!pip install langchain==0.0.230 1>/dev/null"
   ]
  },
  {
   "cell_type": "markdown",
   "id": "beb12210-e03e-484b-a9a1-99bde5c89e07",
   "metadata": {},
   "source": [
    "---\n",
    "## OpenAI Setup\n",
    "\n",
    "**Resources**\n",
    "> - [OpenAI tutorial on API keys](https://platform.openai.com/docs/quickstart)\n",
    "> - [OpenAI package on Pypi](https://pypi.org/project/openai/)"
   ]
  },
  {
   "cell_type": "code",
   "execution_count": 53,
   "id": "49c8600b-40c2-436f-9b6d-877acbc6772a",
   "metadata": {},
   "outputs": [],
   "source": [
    "import os\n",
    "\n",
    "os.environ[\"OPENAI_API_KEY\"] = eval(secrets)[\"OPENAI_API_KEY\"]\n"
   ]
  },
  {
   "cell_type": "code",
   "execution_count": 54,
   "id": "76830f58-508e-400b-83e6-aedd8a608041",
   "metadata": {},
   "outputs": [
    {
     "name": "stdout",
     "output_type": "stream",
     "text": [
      "\u001b[33mWARNING: Running pip as the 'root' user can result in broken permissions and conflicting behaviour with the system package manager. It is recommended to use a virtual environment instead: https://pip.pypa.io/warnings/venv\u001b[0m\u001b[33m\n",
      "\u001b[0m"
     ]
    }
   ],
   "source": [
    "!pip install openai==0.27.8 1>/dev/null"
   ]
  },
  {
   "cell_type": "markdown",
   "id": "8ada3f8d-28b9-45dc-ac51-d84c9f5eeb8a",
   "metadata": {},
   "source": [
    "---\n",
    "## Setup Annoy as a vector database \n",
    "\n",
    "Some examples requires a Vector Database (document selector, document retrieval).\n",
    "\n",
    "LangChain use ChromaDB by default. For whatever reason it failed to install. Used Annoy instead. An alterntive is FAIIS. You may also want to use online Vector database like Pinecone or Weaviate. \n",
    "\n",
    "Most of these packages include c++ code and requires GCC at the install time. It is not included in SageMaker DataScience 3 image. So the first step is installing GCC. \n",
    "\n",
    "NOTE: Annoy is read-only - once the index is built you cannot add any more emebddings.\n",
    "\n",
    "<br/>\n",
    "\n",
    "**Resources**\n",
    "> - [Annoy package on Pypi](https://pypi.org/project/annoy/)"
   ]
  },
  {
   "cell_type": "markdown",
   "id": "0a2480e2-c802-41c1-9259-0b5ab309e92c",
   "metadata": {},
   "source": [
    "***Note***\n",
    "\n",
    "having some issues with ChromaDB. Langchain and ChromaDB seems to require different versions of pydantic."
   ]
  },
  {
   "cell_type": "markdown",
   "id": "ae69710b-6a99-4c3d-b0de-3676f18705c3",
   "metadata": {},
   "source": [
    "Install GCC C++ compiler"
   ]
  },
  {
   "cell_type": "code",
   "execution_count": 55,
   "id": "2673009f-b132-487b-9640-c8451a523fcd",
   "metadata": {},
   "outputs": [
    {
     "name": "stdout",
     "output_type": "stream",
     "text": [
      "Hit:1 http://deb.debian.org/debian bullseye InRelease\n",
      "Hit:2 http://deb.debian.org/debian bullseye-updates InRelease\n",
      "Hit:3 http://security.debian.org/debian-security bullseye-security InRelease\n",
      "Reading package lists... Done\n"
     ]
    }
   ],
   "source": [
    "!apt-get update && apt-get install -y build-essential 1>/dev/null"
   ]
  },
  {
   "cell_type": "markdown",
   "id": "774afcaa-ed03-4243-9df2-bff4b1874055",
   "metadata": {},
   "source": [
    "Install Annoy"
   ]
  },
  {
   "cell_type": "code",
   "execution_count": 56,
   "id": "f551d3b3-f808-4aa8-821c-0e812e4be533",
   "metadata": {},
   "outputs": [
    {
     "name": "stdout",
     "output_type": "stream",
     "text": [
      "\u001b[33mWARNING: Running pip as the 'root' user can result in broken permissions and conflicting behaviour with the system package manager. It is recommended to use a virtual environment instead: https://pip.pypa.io/warnings/venv\u001b[0m\u001b[33m\n",
      "\u001b[0mNote: you may need to restart the kernel to use updated packages.\n"
     ]
    }
   ],
   "source": [
    "pip install annoy==1.17.3 1>/dev/null"
   ]
  },
  {
   "cell_type": "markdown",
   "id": "65d5c621-68b9-4921-99ba-b938798336e6",
   "metadata": {},
   "source": [
    "---\n",
    "## Setup ChromaDB as a vector database \n",
    "\n",
    "force the vrsion in order to workaround the issue with Pydanic version"
   ]
  },
  {
   "cell_type": "code",
   "execution_count": 57,
   "id": "93ad2ac6-a92c-4302-8f21-df49ffbfe921",
   "metadata": {
    "tags": []
   },
   "outputs": [
    {
     "name": "stdout",
     "output_type": "stream",
     "text": [
      "\u001b[33mWARNING: Running pip as the 'root' user can result in broken permissions and conflicting behaviour with the system package manager. It is recommended to use a virtual environment instead: https://pip.pypa.io/warnings/venv\u001b[0m\u001b[33m\n",
      "\u001b[0mNote: you may need to restart the kernel to use updated packages.\n"
     ]
    }
   ],
   "source": [
    "pip install chromadb==0.3.26 1>/dev/null"
   ]
  },
  {
   "cell_type": "markdown",
   "id": "94b22ddd-695d-466f-8e79-de34d9153d0e",
   "metadata": {},
   "source": [
    "## Setup additional text managelment tools\n",
    "\n",
    "When working with embeddings additonal packages are required.\n",
    "\n",
    "- tiktoken, as a encoder and tokenizer\n",
    "\n",
    "**Resources**\n",
    "> - [Tiktoken package on Pypi](https://pypi.org/project/tiktoken/)\n",
    "\n",
    " "
   ]
  },
  {
   "cell_type": "code",
   "execution_count": 58,
   "id": "93824e53-9959-4921-99e9-a625ec41c92d",
   "metadata": {
    "tags": []
   },
   "outputs": [
    {
     "name": "stdout",
     "output_type": "stream",
     "text": [
      "\u001b[33mWARNING: Running pip as the 'root' user can result in broken permissions and conflicting behaviour with the system package manager. It is recommended to use a virtual environment instead: https://pip.pypa.io/warnings/venv\u001b[0m\u001b[33m\n",
      "\u001b[0m"
     ]
    }
   ],
   "source": [
    "!pip install tiktoken==0.4.0 1>/dev/null"
   ]
  },
  {
   "cell_type": "markdown",
   "id": "3d87fde9-0bf5-48f8-8d42-4cc5bf9fa07a",
   "metadata": {},
   "source": [
    "---\n",
    "<div style=\"background-color:green;color:black;text-align:center;padding:1rem;font-size:1.5rem;\">\n",
    "INITIALIZARION\n",
    "</div>\n",
    "\n",
    "https://archive.org/details/AliceInWonderland1951\n",
    "\n",
    "https://archive.org/details/alicesadventur00carr\n",
    "\n",
    "https://archive.org/stream/alicesadventur00carr/alicesadventur00carr_djvu.txt\n",
    "\n",
    "https://archive.org/download/alicesadventur00carr/alicesadventur00carr.pdf\n",
    "\n",
    "https://archive.org/download/alicesadventur00carr/alicesadventur00carr_meta.xml"
   ]
  },
  {
   "cell_type": "markdown",
   "id": "5e9c5719-b435-4460-aee5-e404edf2f00e",
   "metadata": {},
   "source": [
    "---\n",
    "## Download example documents once\n",
    "\n",
    "Download a book from the Internet Archive"
   ]
  },
  {
   "cell_type": "code",
   "execution_count": 59,
   "id": "f69f9aff-6860-453d-ae13-76734a456939",
   "metadata": {
    "tags": []
   },
   "outputs": [],
   "source": [
    "!mkdir -p work/largedoc/data"
   ]
  },
  {
   "cell_type": "code",
   "execution_count": 60,
   "id": "632173ea-cc57-49bc-926e-e7ab7070a993",
   "metadata": {
    "tags": []
   },
   "outputs": [
    {
     "name": "stdout",
     "output_type": "stream",
     "text": [
      "  % Total    % Received % Xferd  Average Speed   Time    Time     Time  Current\n",
      "                                 Dload  Upload   Total   Spent    Left  Speed\n",
      "100 29923  100 29923    0     0  40513      0 --:--:-- --:--:-- --:--:-- 40491\n"
     ]
    }
   ],
   "source": [
    "!curl  https://ia800307.us.archive.org/17/items/aliceinwonderlan00carriala/aliceinwonderlan00carriala_djvu.txt \\\n",
    " -o work/largedoc/data/alice_in_wonderland.txt"
   ]
  },
  {
   "cell_type": "code",
   "execution_count": 89,
   "id": "0314ff47-ade7-4eb6-8672-80dbd982eb06",
   "metadata": {
    "tags": []
   },
   "outputs": [
    {
     "name": "stdout",
     "output_type": "stream",
     "text": [
      "  % Total    % Received % Xferd  Average Speed   Time    Time     Time  Current\n",
      "                                 Dload  Upload   Total   Spent    Left  Speed\n",
      "100 12.6M  100 12.6M    0     0   960k      0  0:00:13  0:00:13 --:--:--  480k\n"
     ]
    }
   ],
   "source": [
    "!curl https://ia800502.us.archive.org/22/items/alicesadventur00carr/alicesadventur00carr.pdf \\\n",
    " -o work/largedoc/data/alice_in_wonderland.pdf"
   ]
  },
  {
   "cell_type": "code",
   "execution_count": 92,
   "id": "c160ef5f-23c8-434c-bfe1-d2558239d549",
   "metadata": {
    "tags": []
   },
   "outputs": [
    {
     "name": "stdout",
     "output_type": "stream",
     "text": [
      "total 13248\n",
      "-rw-r--r-- 1 root root 13241956 Jul 16 19:34 alice_in_wonderland.pdf\n",
      "-rw-r--r-- 1 root root    29923 Jul 16 19:25 alice_in_wonderland.txt\n",
      "-rw-r--r-- 1 root root   289013 Jul 12 21:14 alice_in_wonderland_bak.html\n"
     ]
    }
   ],
   "source": [
    "!ls -l work/largedoc/data"
   ]
  },
  {
   "cell_type": "markdown",
   "id": "cf85d6f3-4cb8-49ed-9198-5a87f42c78ca",
   "metadata": {},
   "source": [
    "---\n",
    "## Common initializations"
   ]
  },
  {
   "cell_type": "code",
   "execution_count": 63,
   "id": "998fea8a-6f86-4604-a776-03af2620248f",
   "metadata": {
    "tags": []
   },
   "outputs": [
    {
     "name": "stdout",
     "output_type": "stream",
     "text": [
      "work/largedoc/data\n"
     ]
    }
   ],
   "source": [
    "notebook_folder = \"work/largedoc\"\n",
    "documents_folder = f\"{notebook_folder}/data\"\n",
    "\n",
    "print(documents_folder)"
   ]
  },
  {
   "cell_type": "markdown",
   "id": "0141c00f-7d88-42a6-9693-5ba39a9cdfdf",
   "metadata": {},
   "source": [
    "---\n",
    "<div style=\"background-color:green;color:black;text-align:center;padding:1rem;font-size:1.5rem;\">\n",
    "BASIC CONCEPTS\n",
    "</div>\n"
   ]
  },
  {
   "cell_type": "markdown",
   "id": "0c0d7d88-1b52-45e6-93c8-ddb1c5500b26",
   "metadata": {},
   "source": [
    "---\n",
    "# Document loaders\n",
    "\n",
    "Loaders are an easy ways to import documents from other sources \n",
    "and make it available for use in your language models. There are lot of loadre type.\n",
    "\n",
    "**Resources**\n",
    "> - Document Loaders: https://python.langchain.com/docs/modules/data_connection/document_loaders\n",
    "> - List of loaders: https://github.com/hwchase17/langchain/tree/master/langchain/document_loaders"
   ]
  },
  {
   "cell_type": "code",
   "execution_count": 64,
   "id": "b1f07304-fb6e-4021-8aa6-4c5998f57a5f",
   "metadata": {
    "tags": []
   },
   "outputs": [
    {
     "name": "stdout",
     "output_type": "stream",
     "text": [
      "length=29258\n",
      "num_tokens=20373\n"
     ]
    }
   ],
   "source": [
    "from langchain.llms import OpenAI\n",
    "from langchain.document_loaders import TextLoader\n",
    "\n",
    "# Note, the default model is already 'text-davinci-003' \n",
    "# temperature 0 means no randomness\n",
    "llm = OpenAI(temperature=0, model_name='text-davinci-003')\n",
    "\n",
    "# This is the source document.    \n",
    "document_path = f\"{documents_folder}/alice_in_wonderland.txt\"\n",
    " \n",
    "# Setup a text loader\n",
    "loader = TextLoader(document_path)\n",
    "alice_documents = loader.load()\n",
    "\n",
    "text = alice_documents[0].page_content\n",
    "\n",
    "# check the length\n",
    "length = len(text)\n",
    "print(f\"{length=}\")\n",
    "\n",
    "# check the number of tokens\n",
    "num_tokens = llm.get_num_tokens(text)\n",
    "print(f\"{num_tokens=}\")"
   ]
  },
  {
   "cell_type": "markdown",
   "id": "8f3a172b-2d10-4d93-870b-c190736ea184",
   "metadata": {},
   "source": [
    "---\n",
    "# Summaries Of Long Text\n",
    "If the text is longer than the limit in tokens, the text must be splitted in chunks. \n",
    "Langchain components will take care of splitting and chaining the summarization tasks.\n",
    "\n",
    "The Summarization Chain breaks the text into smaller chunks and summarizing each chunk, creating a final summary based on the individual summaries.\n",
    "\n",
    "In this example, the chain first splits the essay into chunks of 2000 characters. It then generates summaries for each chunk and creates a final concise summary based on these individual summaries.\n",
    "\n",
    "<br/>\n",
    "**Resources**\n",
    "\n",
    "> - Qummarization quickstart: https://python.langchain.com/docs/modules/chains/popular/summarize"
   ]
  },
  {
   "cell_type": "markdown",
   "id": "97399e9b-972d-43a5-9344-c707e3cd7168",
   "metadata": {},
   "source": [
    "---\n",
    "## Summary with default prompt"
   ]
  },
  {
   "cell_type": "code",
   "execution_count": 65,
   "id": "d9cf1066-edc4-4877-ab5a-e23cb9940317",
   "metadata": {
    "tags": []
   },
   "outputs": [
    {
     "name": "stdout",
     "output_type": "stream",
     "text": [
      "num_texts=16\n"
     ]
    }
   ],
   "source": [
    "from langchain.text_splitter import RecursiveCharacterTextSplitter\n",
    "\n",
    "# Get your splitter ready\n",
    "text_splitter = RecursiveCharacterTextSplitter(chunk_size=2000, chunk_overlap=100)\n",
    " \n",
    "# Split your docs into texts\n",
    "texts = text_splitter.split_documents(alice_documents)\n",
    "\n",
    "# check texts\n",
    "num_texts = len(texts)\n",
    "print(f\"{num_texts=}\")\n"
   ]
  },
  {
   "cell_type": "code",
   "execution_count": 66,
   "id": "d6e5c3c0-f928-43be-8519-c480d6848f3f",
   "metadata": {
    "tags": []
   },
   "outputs": [
    {
     "name": "stdout",
     "output_type": "stream",
     "text": [
      " Alice in Wonderland is a classic novel by Lewis Carroll about a young girl who falls down a rabbit hole and finds herself in a strange world full of talking animals and other odd creatures. She embarks on a series of adventures, meets a variety of characters, and solves the mystery of who stole the tarts. The University of California Los Angeles has digitized the book, which was printed in Gregg Shorthand and published by the Gregg Publishing Company.\n"
     ]
    }
   ],
   "source": [
    "from langchain import PromptTemplate\n",
    "from langchain.chains.summarize import load_summarize_chain\n",
    "\n",
    "# the attribute map_reduce instruct the chain to \n",
    "# - first apply the model to each chunck (map stage) \n",
    "# - then all map results and apply the model (reduce stage)\n",
    "chain = load_summarize_chain(\n",
    "    llm, \n",
    "    chain_type=\"map_reduce\", \n",
    "    verbose=False)\n",
    "\n",
    "# run the chain against all the document chunks\n",
    "summary = chain.run(texts)\n",
    "\n",
    "print(summary)"
   ]
  },
  {
   "cell_type": "markdown",
   "id": "95914e6c-68a4-46db-8767-138eb4c17722",
   "metadata": {},
   "source": [
    "**ÖUTPUT**\n",
    "\n",
    "Typical response\n",
    "\n",
    " Alice in Wonderland is a classic novel by Lewis Carroll about a girl named Alice who falls down a rabbit hole and embarks on a journey of self-discovery. Along the way, she meets a variety of strange creatures and experiences surreal events. The book has been digitized by the University of California Los Angeles and contains a poem, \"Down the Rabbit-Hole,\" and other stories such as \"The Pool of Tears,\" \"A Caucus Race and a Long Tale,\" and \"Alice's Evidence.\" Alice must use her wit and courage to make it through the strange and mysterious world of Wonderland."
   ]
  },
  {
   "cell_type": "markdown",
   "id": "5b11d9e1-dcf0-49d7-b262-4911644a87fc",
   "metadata": {},
   "source": [
    "---\n",
    "## Summary with prompt engineering"
   ]
  },
  {
   "cell_type": "code",
   "execution_count": 67,
   "id": "48b4eb9d-23a2-4f26-a77b-2d8d4ba8cde4",
   "metadata": {
    "tags": []
   },
   "outputs": [
    {
     "name": "stdout",
     "output_type": "stream",
     "text": [
      "\n",
      "Alice in Wonderland is a classic novel by Lewis Carroll that follows the story of Alice, a young girl who falls down a rabbit hole and finds herself in a strange and magical world. Along the way, she meets a variety of characters, including the White Rabbit, the Caterpillar, the Cheshire Cat, the Mad Hatter, the Queen of Hearts, and the Mock Turtle. Through her adventures, Alice learns valuable lessons about life and the importance of being true to oneself. The characters in the story are diverse and unique, each with their own personalities and motivations. Alice is depicted as being curious and adventurous, as she is willing to explore the unknown and take risks.\n"
     ]
    }
   ],
   "source": [
    "from langchain import PromptTemplate\n",
    "from langchain.chains.summarize import load_summarize_chain\n",
    "\n",
    "# setup a custom prompt\n",
    "# the Summarization Chain provides a defaults prompt: write a concise summary.\n",
    "prompt_template = \"\"\"Write a pedantic summary of the following text. \n",
    "Describe characters.\n",
    "\n",
    "% TEXT:\n",
    "\n",
    "{text}\n",
    "\"\"\"\n",
    "\n",
    "prompt = PromptTemplate(template=prompt_template, input_variables=[\"text\"])\n",
    "\n",
    "# the attribute map_reduce instruct the chain to \n",
    "# - first apply the model to each chunck (map stage) \n",
    "# - then all map results and apply the model (reduce stage)\n",
    "chain = load_summarize_chain(\n",
    "    llm, \n",
    "    chain_type=\"map_reduce\", \n",
    "    map_prompt=prompt, \n",
    "    combine_prompt=prompt, \n",
    "    verbose=False)\n",
    "\n",
    "# run the chain against all the document chunks\n",
    "summary = chain.run(texts)\n",
    "\n",
    "print(summary)"
   ]
  },
  {
   "cell_type": "markdown",
   "id": "3fd5539d-41f5-4f4c-8919-7e8be5eaf040",
   "metadata": {},
   "source": [
    "**OUTPUT**\n",
    "\n",
    "Typical response\n",
    "\n",
    "\n",
    "Alice in Wonderland is a classic novel by Lewis Carroll that follows the story of Alice, a young girl who falls down a rabbit hole and finds herself in a strange and magical world. Along the way, she meets a variety of characters, including the White Rabbit, the Caterpillar, the Cheshire Cat, the Mad Hatter, the Queen of Hearts, and the Mock Turtle. Through her adventures, Alice learns valuable lessons about life and the importance of being true to oneself. The characters in the story are Alice, the White Rabbit, the Caterpillar, the Cheshire Cat, the Mad Hatter, the Queen of Hearts, and the Mock Turtle. Each character has their own unique personality and provides Alice with advice and guidance as she navigates her way through Wonderland."
   ]
  },
  {
   "cell_type": "markdown",
   "id": "096fff5c-350b-46c9-a5ef-307b5706bd6b",
   "metadata": {},
   "source": [
    "---\n",
    "<div style=\"background-color:green;color:black;text-align:center;padding:1rem;font-size:1.5rem;\">\n",
    "DEMO COMPLEX SEARCH\n",
    "</div>\n"
   ]
  },
  {
   "cell_type": "markdown",
   "id": "ed4cc32a-4479-4164-bd60-7763a1613e58",
   "metadata": {},
   "source": [
    "---\n",
    "# Complex search on large document\n",
    "\n",
    "Document is too long tto fit into a query.\n",
    "\n",
    "Mist summarize the doc with map reduce of use multiple steps.\n"
   ]
  },
  {
   "cell_type": "markdown",
   "id": "971f88a8-fb81-44ec-ac2d-bb8778482ea7",
   "metadata": {},
   "source": [
    "---\n",
    "## List characters using summary and a prompt"
   ]
  },
  {
   "cell_type": "code",
   "execution_count": 69,
   "id": "b7983751-bf7c-4aa3-8913-613dc34610ab",
   "metadata": {
    "tags": []
   },
   "outputs": [
    {
     "name": "stdout",
     "output_type": "stream",
     "text": [
      "\n",
      "- The Cheshire Cat: A mischievous cat who appears and disappears at will. He is often seen grinning and is known for his clever riddles. \n",
      "\n",
      "- The Queen of Hearts: The ruler of Wonderland who is often seen shouting orders and demanding justice. She is a powerful and intimidating figure. \n",
      "\n",
      "- The Mad Hatter: A strange character who Alice meets at the Mad Tea Party. He is often seen wearing a top hat and is known for his nonsensical riddles.\n"
     ]
    }
   ],
   "source": [
    "from langchain import PromptTemplate\n",
    "from langchain.chains.summarize import load_summarize_chain\n",
    "\n",
    "# setup a custom prompt\n",
    "# the Summarization Chain provides a defaults prompt: write a concise summary.\n",
    "prompt_template = \"\"\"\n",
    "Output a list of all characters. Describe each character. \n",
    "\n",
    "Expected response format:\n",
    "- character name: character description\n",
    "\n",
    "% TEXT:\n",
    "\n",
    "{text}\n",
    "\"\"\"\n",
    "\n",
    "prompt = PromptTemplate(template=prompt_template, input_variables=[\"text\"])\n",
    "\n",
    "# the attribute map_reduce instruct the chain to \n",
    "# - first apply the model to each chunck (map stage) \n",
    "# - then all map results and apply the model (reduce stage)\n",
    "chain = load_summarize_chain(\n",
    "    llm, \n",
    "    chain_type=\"map_reduce\", \n",
    "    map_prompt=prompt, \n",
    "    combine_prompt=prompt, \n",
    "    verbose=False)\n",
    "\n",
    "# run the chain against all the document chunks\n",
    "summary = chain.run(texts)\n",
    "\n",
    "print(summary)"
   ]
  },
  {
   "cell_type": "markdown",
   "id": "e3090fe5-8777-42cc-814c-6120e2d8e2da",
   "metadata": {},
   "source": [
    "**OUTPUT**\n",
    "\n",
    "Weird response. Alice is missing.\n",
    "\n",
    "```\n",
    "- The White Rabbit: The White Rabbit is a character who Alice meets in the woods. He is known for his frantic behavior and his tendency to be late. \n",
    "\n",
    "- The Cheshire Cat: The Cheshire Cat is a mysterious creature who Alice meets in the woods. He is known for his mischievous behavior and his ability to disappear and reappear at will.\n",
    "```"
   ]
  },
  {
   "cell_type": "markdown",
   "id": "199a92b3-024e-4b9e-a784-20070ef9415a",
   "metadata": {},
   "source": [
    "---\n",
    "## List characters using summary and two prompt"
   ]
  },
  {
   "cell_type": "code",
   "execution_count": 70,
   "id": "d42bfa0b-9872-4368-af12-6610dbd9b459",
   "metadata": {
    "tags": []
   },
   "outputs": [
    {
     "name": "stdout",
     "output_type": "stream",
     "text": [
      "\n",
      "Found 16 part(s)\n",
      "• The Mock Turtle – A creature who is half-turtle, half-sad creature who tells Alice stories about his school days.\n",
      "\n",
      "• The White Rabbit – A white rabbit who wears a waistcoat and is always in a hurry. \n",
      "\n",
      "• The Cheshire Cat – A mysterious cat with a wide grin who appears and disappears at will. \n",
      "\n",
      "• The Queen of Hearts – A tyrannical ruler who is always shouting “Off with their heads!” \n",
      "\n",
      "• The Mad Hatter – A strange character who hosts a tea party and is always asking nonsensical questions. \n",
      "\n",
      "• The March Hare – A mad character who joins the Mad Hatter at the tea party. \n",
      "\n",
      "• The Caterpillar – A wise creature who sits on a mushroom and smokes a hookah. \n",
      "\n",
      "• The Dormouse – A sleepy character who joins the Mad Hatter and March Hare at the tea party. \n",
      "\n",
      "• The Red Queen – A powerful ruler who Alice meets in the chess game. \n",
      "\n",
      "• The Jabberwocky – A fearsome creature that Alice must battle in the final chapter.\n"
     ]
    }
   ],
   "source": [
    "from langchain.llms import OpenAI\n",
    "from langchain import PromptTemplate\n",
    "from langchain.chains.summarize import load_summarize_chain\n",
    "from langchain.text_splitter import RecursiveCharacterTextSplitter\n",
    " \n",
    "# Note, the default model is already 'text-davinci-003' \n",
    "# temperature 0 means no randomness\n",
    "llm = OpenAI(temperature=0.3, model_name='text-davinci-003')\n",
    "\n",
    "# Get your splitter ready\n",
    "text_splitter = RecursiveCharacterTextSplitter(chunk_size=2000, chunk_overlap=100)\n",
    " \n",
    "# Split your docs into texts\n",
    "texts = text_splitter.split_documents(alice_documents)\n",
    "print(f\"\\nFound {len(texts)} part(s)\")\n",
    "\n",
    "\n",
    "# setup. a custom prompt\n",
    "# the Summarization Chain provides a defaults prompt: write a concise summary.\n",
    "map_prompt_template = \"\"\"\n",
    "List all the characters.\n",
    "Output the list of characters as a bullet points list which shows the name and description of the characters. \n",
    "\n",
    "% TEXT:\n",
    "\n",
    "{text}\n",
    "\"\"\"\n",
    "\n",
    "map_prompt = PromptTemplate(template=map_prompt_template, input_variables=[\"text\"])\n",
    "\n",
    "\n",
    "# setup. a custom prompt\n",
    "# the Summarization Chain provides a defaults prompt: write a concise summary.\n",
    "# elements of the list of sample will diseapper from the list \n",
    "combine_prompt_template = \"\"\"\n",
    "Merge all characters lists.\n",
    "Output the list of characters as a bullet points list which shows the name and description of the characters. \n",
    "\n",
    "% TEXT:\n",
    "\n",
    "{text}\n",
    "\"\"\"\n",
    "\n",
    "combine_prompt = PromptTemplate(template=combine_prompt_template, input_variables=[\"text\"])\n",
    "\n",
    "\n",
    "# the attribute map_reduce instruct the chain to \n",
    "# - first apply the model to each chunck (map stage) \n",
    "# - then all map results and apply the model (reduce stage)\n",
    "chain = load_summarize_chain(\n",
    "    llm, \n",
    "    chain_type=\"map_reduce\", \n",
    "    map_prompt=map_prompt, \n",
    "    combine_prompt=combine_prompt, \n",
    "    verbose=False)\n",
    "\n",
    "# run the chain against all the document chunks\n",
    "summary = chain.run(texts)\n",
    "\n",
    "print(summary)"
   ]
  },
  {
   "cell_type": "markdown",
   "id": "84ff2d29-e97c-4eae-a868-597be7bcb72f",
   "metadata": {},
   "source": [
    "**OUTPUT**\n",
    "\n",
    "May give random answers\n",
    "\n",
    "```\n",
    "- Muff Potter: An alcoholic who is falsely accused of murder.\n",
    "- Widow Douglas: A kind woman who takes in Huckleberry Finn and tries to civilize him.\n",
    "\n",
    "Merged Character List:\n",
    "- Wayback Machine: a digital archive of the World Wide Web and other information on the Internet. \n",
    "- Internet Archive: a non-profit organization that maintains the Wayback Machine. \n",
    "- Safari: a web archiving service. \n",
    "- Edge: a web archiving service. \n",
    "- Archive-It: a subscription service for archiving websites. \n",
    "- Michael Hart: Founder of Project Gutenberg\n",
    "- Volunteers: People from around the world who contribute to the project\n",
    "- Tom Sawyer: A young, mischievous boy growing up in the fictional town of St. Petersburg.\n",
    "- Joe Harper: Tom's best friend.\n",
    "- Huckleberry Finn: Tom's other best friend.\n",
    "- Becky Thatcher: A girl Tom has a crush on.\n",
    "- Aunt Polly: Tom's strict but loving guardian.\n",
    "- Injun Joe: The villain of the novel, Injun Joe is a dangerous and cruel man.\n",
    "- Alice: protagonist of the story; she is a young girl who falls down a rabbit-\n",
    "```\n",
    "\n",
    "```\n",
    "- The Duke and the King: Two con artists who Huck meets on his journey.\n",
    "- Pap Finn: Huck's drunken and abusive father.\n",
    "- Widow Douglas and Miss Watson: Two kind-hearted women who take Huck in.\n",
    "- Tom Sawyer: Huck's best friend and a mischievous young boy.\n",
    "- The Shepherdson Family: A rival family of the Grangerfords.\n",
    "- The Judge: A kind-hearted judge who helps Huck and Jim.\n",
    "- The Grangerford Children: A large family of children who Huck meets on his journey.\n",
    "- The Wilks Sisters: Three young girls who Huck meets on his journey.\n",
    "- The Grangerford Servants: A group of servants who work for the Grangerfords.\n",
    "- The Grangerford Dogs: A pack of dogs who accompany the Grangerfords on their travels.\n",
    "- The Boggs Family: A family of farmers who Huck meets on his journey.\n",
    "- The Phelps Family: A family of farmers who Huck meets on his journey.\n",
    "```"
   ]
  },
  {
   "cell_type": "markdown",
   "id": "57896107-ff51-4bb3-bc38-4cea0bb7f030",
   "metadata": {},
   "source": [
    "---\n",
    "## List characters using formatted output"
   ]
  },
  {
   "cell_type": "code",
   "execution_count": 72,
   "id": "eed9ef0b-560d-49c9-9515-68d481484544",
   "metadata": {
    "tags": []
   },
   "outputs": [
    {
     "name": "stdout",
     "output_type": "stream",
     "text": [
      "\n",
      "Found 16 part(s)\n",
      "\n",
      "Response\n",
      "Gryphon, Duchess, Bill the Lizard, Cook, Gardeners, Fish Footman, Frog Footman, Executioner, Knave of Hearts.\n",
      "\n",
      "Characters\n",
      "['Gryphon', 'Duchess', 'Bill the Lizard', 'Cook', 'Gardeners', 'Fish Footman', 'Frog Footman', 'Executioner', 'Knave of Hearts.']\n"
     ]
    }
   ],
   "source": [
    "from langchain.llms import OpenAI\n",
    "from langchain import PromptTemplate\n",
    "from langchain.chains.summarize import load_summarize_chain\n",
    "from langchain.text_splitter import RecursiveCharacterTextSplitter\n",
    "from langchain.output_parsers import CommaSeparatedListOutputParser\n",
    "\n",
    "\n",
    "# Note, the default model is already 'text-davinci-003' \n",
    "# temperature 0 means no randomness\n",
    "llm = OpenAI(temperature=0.3, model_name='text-davinci-003')\n",
    "\n",
    "# Get your splitter ready\n",
    "text_splitter = RecursiveCharacterTextSplitter(chunk_size=2000, chunk_overlap=100)\n",
    " \n",
    "# Split your docs into texts\n",
    "texts = text_splitter.split_documents(alice_documents)\n",
    "print(f\"\\nFound {len(texts)} part(s)\")\n",
    "\n",
    "# stup a parser\n",
    "output_parser = CommaSeparatedListOutputParser()\n",
    "format_instructions = output_parser.get_format_instructions()\n",
    "\n",
    "# setup. a custom prompt\n",
    "# the Summarization Chain provides a defaults prompt: write a concise summary.\n",
    "map_prompt_template = \"\"\"\n",
    "List all the characters.\n",
    "Output the name and description of the characters. \n",
    "\n",
    "{format_instructions}\n",
    "\n",
    "% TEXT:\n",
    "\n",
    "{text}\n",
    "\"\"\"\n",
    "\n",
    "map_prompt = PromptTemplate(template=map_prompt_template, \n",
    "                        input_variables=[\"text\"],\n",
    "                        partial_variables={\"format_instructions\": format_instructions}\n",
    "                       )\n",
    "\n",
    "# setup. a custom prompt\n",
    "# the Summarization Chain provides a defaults prompt: write a concise summary.\n",
    "# elements of the list of sample will diseapper from the list \n",
    "combine_prompt_template = \"\"\"\n",
    "Merge all characters lists.\n",
    "Output the list of characters as a bullet points list which shows the name and description of the characters. \n",
    "\n",
    "{format_instructions}\n",
    "\n",
    "% TEXT:\n",
    "\n",
    "{text}\n",
    "\"\"\"\n",
    "\n",
    "combine_prompt = PromptTemplate(template=combine_prompt_template, \n",
    "                        input_variables=[\"text\"],\n",
    "                        partial_variables={\"format_instructions\": format_instructions}\n",
    "                       )\n",
    "\n",
    "\n",
    "# the attribute map_reduce instruct the chain to \n",
    "# - first apply the model to each chunck (map stage) \n",
    "# - then all map results and apply the model (reduce stage)\n",
    "chain = load_summarize_chain(\n",
    "    llm, \n",
    "    chain_type=\"map_reduce\", \n",
    "    map_prompt=map_prompt, \n",
    "    combine_prompt=combine_prompt, \n",
    "    verbose=False)\n",
    "\n",
    "# run the chain against all the document chunks\n",
    "response = chain.run(texts)\n",
    "\n",
    "\n",
    "print(\"\\nResponse\")\n",
    "print(response)\n",
    "\n",
    "characters = output_parser.parse(response)\n",
    "\n",
    "print(\"\\nCharacters\")\n",
    "print(characters)"
   ]
  },
  {
   "cell_type": "markdown",
   "id": "3be24559-f9c3-4b6d-b764-332335c26bce",
   "metadata": {},
   "source": [
    "---\n",
    "## List characters using the vector DB\n",
    "- first get a list\n",
    "- then query each character"
   ]
  },
  {
   "cell_type": "code",
   "execution_count": 73,
   "id": "f415e54e-6d73-4753-a0a9-510805011cf7",
   "metadata": {
    "tags": []
   },
   "outputs": [
    {
     "name": "stdout",
     "output_type": "stream",
     "text": [
      "\n",
      "Found 49 part(s)\n",
      "\n",
      "Map Prompt\n",
      "input_variables=['text'] output_parser=None partial_variables={'format_instructions': 'Your response should be a list of comma separated values, eg: `foo, bar, baz`'} template='\\nYou will be given a text.\\nExtract the characters\\'s names.\\nIgnore details of Project Gutenberg.\\n\\n{format_instructions}. Add \"characters:\" in front of the list.\\n\\n% TEXT:\\n\\n{text}\\n' template_format='f-string' validate_template=True\n",
      "\n",
      "Part 1 Characters: ['Alice', 'Lewis Carroll', 'Georgie Gregg']\n",
      "\n",
      "Part 2 Characters: ['Alice', 'Caterpillar', 'Pig', 'Pepper', 'Queen', 'Mock Turtle', 'Lobster', 'Tarts']\n",
      "\n",
      "Part 3 Characters: ['Alice', 'Rabbit-Hole']\n",
      "\n",
      "Part 4 Characters: ['Alice', 'Rabbit-Hole', 'Alice In Wonderland']\n",
      "\n",
      "Part 5 Characters: ['Alice', 'Rabbit-Hole']\n",
      "\n",
      "Part 6 Characters: ['Alice']\n",
      "\n",
      "Part 7 Characters: ['Alice', 'Alice in Wonderland']\n",
      "\n",
      "Part 8 Characters: ['Alice,']\n",
      "\n",
      "Part 9 Characters: ['Alice', 'Wonderland']\n",
      "\n",
      "Part 10 Characters: ['Alice', 'Caucus Race Participants']\n",
      "\n",
      "Part 11 Characters: ['Alice', 'White Rabbit', 'Dodo', 'Lory', 'Eaglet', 'Duck', 'Mouse', 'Bill', 'Caterpillar', 'Cheshire Cat', 'Queen of Hearts.']\n",
      "\n",
      "Part 12 Characters: ['Alice', 'Caucus Race', 'Long Tale']\n",
      "\n",
      "Part 13 Characters: ['Alice', 'Rabbit']\n",
      "\n",
      "Part 14 Characters: ['Alice', 'Rabbit', 'Bill']\n",
      "\n",
      "Part 15 Characters: ['Alice', 'Rabbit']\n",
      "\n",
      "Part 16 Characters: ['Alice', 'Rabbit']\n",
      "\n",
      "Part 17 Characters: ['Alice', 'Rabbit', 'Caterpillar']\n",
      "\n",
      "Part 18 Characters: ['Alice', 'Caterpillar']\n",
      "\n",
      "Part 19 Characters: ['Alice', 'Caterpillar']\n",
      "\n",
      "Part 20 Characters: ['Alice', 'Caterpillar']\n",
      "\n",
      "Part 21 Characters: ['Alice', 'Caterpillar', 'Pig', 'Pepper']\n",
      "\n",
      "Part 22 Characters: ['Pig', 'Pepper', 'Alice']\n",
      "\n",
      "Part 23 Characters: ['Alice', 'Pig', 'Pepper']\n",
      "\n",
      "Part 24 Characters: ['Alice', 'Pig', 'Pepper']\n",
      "\n",
      "Part 25 Characters: ['Alice', 'Pig', 'Pepper']\n",
      "\n",
      "Part 26 Characters: ['Alice', 'The Mad Hatter', 'The March Hare', 'The Dormouse.']\n",
      "\n",
      "Part 27 Characters: ['Alice', 'Mad Hatter', 'March Hare', 'Dormouse']\n",
      "\n",
      "Part 28 Characters: ['Alice', 'Mad Hatter', 'March Hare', 'Dormouse']\n",
      "\n",
      "Part 29 Characters: ['Alice,']\n",
      "\n",
      "Part 30 Characters: ['Alice', 'The Queen']\n",
      "\n",
      "Part 31 Characters: ['Alice', 'Queen', 'Croquet-Ground']\n",
      "\n",
      "Part 32 Characters: ['Alice', 'Queen', 'Croquet-Ground']\n",
      "\n",
      "Part 33 Characters: ['Alice', 'Queen', 'King', 'Cheshire Cat', 'White Rabbit', 'Mock Turtle', 'Gryphon', \"Mock Turtle's friend.\"]\n",
      "\n",
      "Part 34 Characters: ['Alice', 'Queen']\n",
      "\n",
      "Part 35 Characters: ['Alice', 'Mock Turtle']\n",
      "\n",
      "Part 36 Characters: ['Alice', 'Mock Turtle']\n",
      "\n",
      "Part 37 Characters: ['Alice', 'Mock Turtle']\n",
      "\n",
      "Part 38 Characters: ['Alice', 'Mock Turtle', 'Lobster']\n",
      "\n",
      "Part 39 Characters: ['Alice', 'Lobster Quadrille']\n",
      "\n",
      "Part 40 Characters: ['Alice', 'Lobster']\n",
      "\n",
      "Part 41 Characters: ['Alice', 'Lobster Quadrille']\n",
      "\n",
      "Part 42 Characters: ['Alice', 'The Tarts']\n",
      "\n",
      "Part 43 Characters: ['Alice', 'The Queen of Hearts', 'The King of Hearts', 'The Knave of Hearts']\n",
      "\n",
      "Part 44 Characters: ['Alice', 'The Queen of Hearts', 'The King of Hearts', 'The Knave of Hearts']\n",
      "\n",
      "Part 45 Characters: ['Alice', \"Alice's Evidence\"]\n",
      "\n",
      "Part 46 Characters: ['Alice', 'Evidence']\n",
      "\n",
      "Part 47 Characters: ['Alice', \"Alice's Evidence\"]\n",
      "\n",
      "Part 48 Characters: ['Alice', 'Evidence']\n",
      "\n",
      "Part 49 Characters: ['']\n"
     ]
    }
   ],
   "source": [
    "from langchain.llms import OpenAI\n",
    "from langchain import PromptTemplate\n",
    "from langchain.chains.summarize import load_summarize_chain\n",
    "from langchain.text_splitter import RecursiveCharacterTextSplitter\n",
    "from langchain.output_parsers import CommaSeparatedListOutputParser\n",
    "from langchain.schema import Document\n",
    "from pprint import pprint\n",
    "\n",
    "# Note, the default model is already 'text-davinci-003' \n",
    "# temperature 0 means no randomness\n",
    "#model_name=\"gpt-3.5-turbo\" # fdoes not work with map reduce\n",
    "model_name='text-davinci-003'\n",
    "llm = OpenAI(temperature=0.3, model_name=model_name)\n",
    "\n",
    "# Get your splitter ready\n",
    "text_splitter = RecursiveCharacterTextSplitter(chunk_size=700, chunk_overlap=100)\n",
    " \n",
    "# Split your docs into texts\n",
    "texts = text_splitter.split_documents(alice_documents)\n",
    "print(f\"\\nFound {len(texts)} part(s)\")\n",
    "\n",
    "output_parser = CommaSeparatedListOutputParser()\n",
    "format_instructions = output_parser.get_format_instructions()\n",
    "\n",
    "# setup. a custom prompt\n",
    "# the Summarization Chain provides a defaults prompt: write a concise summary.\n",
    "map_prompt_template = \"\"\"\n",
    "You will be given a text.\n",
    "Extract the characters's names.\n",
    "Ignore details of Project Gutenberg.\n",
    "\n",
    "{format_instructions}. Add \"characters:\" in front of the list.\n",
    "\n",
    "% TEXT:\n",
    "\n",
    "{text}\n",
    "\"\"\"\n",
    "\n",
    "map_prompt = PromptTemplate(template=map_prompt_template, \n",
    "                        input_variables=[\"text\"],\n",
    "                        partial_variables={\"format_instructions\": format_instructions}\n",
    "                       )\n",
    "\n",
    "print(\"\\nMap Prompt\")\n",
    "print(map_prompt)\n",
    "\n",
    "\n",
    "# the attribute map_reduce instruct the chain to \n",
    "# - first apply the model to each chunck (map stage) \n",
    "# - then all map results and apply the model (reduce stage)\n",
    "chain = load_summarize_chain(\n",
    "    llm, \n",
    "    chain_type=\"stuff\", \n",
    "    prompt=map_prompt,  \n",
    "    verbose=False)\n",
    "\n",
    "i = 0\n",
    "characters = {}\n",
    "prefix = \"Characters:\"\n",
    "for text in texts:\n",
    "    i += 1\n",
    "    \n",
    "    # run the chain against all the document chunks\n",
    "    # chain expect a list of documents\n",
    "    response = chain.run([text])\n",
    "\n",
    "    #print(f\"\\nResponse {i}\")\n",
    "    #print(response)\n",
    "\n",
    "    lines = response.split('\\n')\n",
    "    #print(f\"\\nlines {i}\")\n",
    "    #print(lines)\n",
    "    for line in lines:\n",
    "        #print(f\"\\nline {i}\")\n",
    "        #print(line)\n",
    "        if line.startswith(prefix):\n",
    "            part_characters = output_parser.parse(line.replace(prefix, ''))\n",
    "\n",
    "            print(f\"\\nPart {i} Characters: {part_characters}\")\n",
    " \n",
    "            #characters.extend(part_characters)\n",
    "            for character in part_characters:\n",
    "                if character in characters:\n",
    "                    characters[character] += 1\n",
    "                else:\n",
    "                    characters.update({character: 1})\n",
    "\n"
   ]
  },
  {
   "cell_type": "code",
   "execution_count": 74,
   "id": "4338f47d-796e-4ebf-9816-a89c2b0cf4e6",
   "metadata": {
    "tags": []
   },
   "outputs": [
    {
     "name": "stdout",
     "output_type": "stream",
     "text": [
      "\n",
      "All Characters\n",
      "{'': 1,\n",
      " 'Alice': 46,\n",
      " 'Alice In Wonderland': 1,\n",
      " 'Alice in Wonderland': 1,\n",
      " \"Alice's Evidence\": 2,\n",
      " 'Alice,': 2,\n",
      " 'Bill': 2,\n",
      " 'Caterpillar': 7,\n",
      " 'Caucus Race': 1,\n",
      " 'Caucus Race Participants': 1,\n",
      " 'Cheshire Cat': 2,\n",
      " 'Croquet-Ground': 2,\n",
      " 'Dodo': 1,\n",
      " 'Dormouse': 2,\n",
      " 'Duck': 1,\n",
      " 'Eaglet': 1,\n",
      " 'Evidence': 2,\n",
      " 'Georgie Gregg': 1,\n",
      " 'Gryphon': 1,\n",
      " 'King': 1,\n",
      " 'Lewis Carroll': 1,\n",
      " 'Lobster': 3,\n",
      " 'Lobster Quadrille': 2,\n",
      " 'Long Tale': 1,\n",
      " 'Lory': 1,\n",
      " 'Mad Hatter': 2,\n",
      " 'March Hare': 2,\n",
      " 'Mock Turtle': 6,\n",
      " \"Mock Turtle's friend.\": 1,\n",
      " 'Mouse': 1,\n",
      " 'Pepper': 6,\n",
      " 'Pig': 6,\n",
      " 'Queen': 5,\n",
      " 'Queen of Hearts.': 1,\n",
      " 'Rabbit': 5,\n",
      " 'Rabbit-Hole': 3,\n",
      " 'Tarts': 1,\n",
      " 'The Dormouse.': 1,\n",
      " 'The King of Hearts': 2,\n",
      " 'The Knave of Hearts': 2,\n",
      " 'The Mad Hatter': 1,\n",
      " 'The March Hare': 1,\n",
      " 'The Queen': 1,\n",
      " 'The Queen of Hearts': 2,\n",
      " 'The Tarts': 1,\n",
      " 'White Rabbit': 2,\n",
      " 'Wonderland': 1}\n"
     ]
    }
   ],
   "source": [
    "from pprint import pformat\n",
    "\n",
    "print(f\"\\nAll Characters\")\n",
    "pprint(characters)"
   ]
  },
  {
   "cell_type": "code",
   "execution_count": 75,
   "id": "303f8086-37ff-42b6-84b1-b247c320b87d",
   "metadata": {
    "tags": []
   },
   "outputs": [
    {
     "name": "stdout",
     "output_type": "stream",
     "text": [
      "['Alice', 'Caterpillar', 'Pig', 'Pepper', 'Queen', 'Mock Turtle', 'Lobster', 'Rabbit-Hole', 'Alice,', 'White Rabbit', 'Bill', 'Cheshire Cat', 'Rabbit', 'Mad Hatter', 'March Hare', 'Dormouse', 'Croquet-Ground', 'Lobster Quadrille', 'The Queen of Hearts', 'The King of Hearts', 'The Knave of Hearts', \"Alice's Evidence\", 'Evidence']\n"
     ]
    }
   ],
   "source": [
    "## fikter out empty values, weird characters and less frequent names\n",
    "# the result is sensible to the chunck size as larger chunk will reduce the number of occurences\n",
    "\n",
    "characters_list = [ c for (c,v) in characters.items()\n",
    "                   if c != '' and c != 'None' and c != 'none' \n",
    "                   and v > 1 and len(c) > 2]\n",
    "\n",
    "print(characters_list)"
   ]
  },
  {
   "cell_type": "code",
   "execution_count": 76,
   "id": "c1c526cf-f23b-4e60-92d5-5d549883437c",
   "metadata": {
    "tags": []
   },
   "outputs": [
    {
     "name": "stdout",
     "output_type": "stream",
     "text": [
      "(1) - Found 5 relevant documen(s) for Croquet-Ground\n",
      "(2) - Found 5 relevant documen(s) for Lobster\n",
      "(3) - Found 5 relevant documen(s) for The King of Hearts\n",
      "(4) - Found 5 relevant documen(s) for March Hare\n",
      "(5) - Found 5 relevant documen(s) for Bill\n",
      "(6) - Found 5 relevant documen(s) for Mad Hatter\n",
      "(7) - Found 5 relevant documen(s) for Lobster Quadrille\n",
      "(8) - Found 5 relevant documen(s) for Pepper\n",
      "(9) - Found 5 relevant documen(s) for Alice,\n",
      "(10) - Found 5 relevant documen(s) for Mock Turtle\n",
      "(11) - Found 5 relevant documen(s) for Caterpillar\n",
      "(12) - Found 5 relevant documen(s) for Queen\n",
      "(13) - Found 5 relevant documen(s) for The Knave of Hearts\n",
      "(14) - Found 5 relevant documen(s) for Evidence\n",
      "(15) - Found 5 relevant documen(s) for Rabbit\n",
      "(16) - Found 5 relevant documen(s) for The Queen of Hearts\n",
      "(17) - Found 5 relevant documen(s) for Rabbit-Hole\n",
      "(18) - Found 5 relevant documen(s) for Dormouse\n",
      "(19) - Found 5 relevant documen(s) for Pig\n",
      "(20) - Found 5 relevant documen(s) for Alice\n",
      "(21) - Found 5 relevant documen(s) for Cheshire Cat\n",
      "(22) - Found 5 relevant documen(s) for White Rabbit\n",
      "(23) - Found 5 relevant documen(s) for Alice's Evidence\n",
      "\n",
      "\n",
      "{'Alice': {'query': 'Who is Alice? . Give a funny answer 30 words long.',\n",
      "           'result': ' Alice is the curious young girl who goes on a wild '\n",
      "                     'adventure full of strange and wonderful creatures. She '\n",
      "                     'meets a talking rabbit, fights a jabberwocky, and even '\n",
      "                     \"attends a tea party with the Mad Hatter! Alice's journey \"\n",
      "                     'is full of surprises, but she never loses her sense of '\n",
      "                     'wonder and curiosity.'},\n",
      " \"Alice's Evidence\": {'query': \"Who is Alice's Evidence? . Give a funny answer \"\n",
      "                               '30 words long.',\n",
      "                      'result': \" Alice's Evidence is none other than the \"\n",
      "                                \"White Rabbit! He's always late and always \"\n",
      "                                \"stressed, but he's always there to provide \"\n",
      "                                \"Alice with evidence of her adventures. He's \"\n",
      "                                'the perfect witness - if only he could '\n",
      "                                'remember where he put his glasses!'},\n",
      " 'Alice,': {'query': 'Who is Alice,? . Give a funny answer 30 words long.',\n",
      "            'result': '\\n'\n",
      "                      '\\n'\n",
      "                      'Alice is a curious and adventurous young girl who took '\n",
      "                      'a tumble down a rabbit hole and found herself in the '\n",
      "                      'fantastical world of Wonderland. There, she encountered '\n",
      "                      'a number of peculiar characters, such as the Cheshire '\n",
      "                      'Cat, the Mad Hatter, and the Queen of Hearts. She had '\n",
      "                      'many wild adventures with these characters, learning a '\n",
      "                      \"few lessons along the way. Alice's story is a classic \"\n",
      "                      'example of how to never stop pursuing your dreams, no '\n",
      "                      'matter how strange they may seem.'},\n",
      " 'Bill': {'query': 'Who is Bill? . Give a funny answer 30 words long.',\n",
      "          'result': ' Bill is a little rabbit who is sent by Alice to deliver '\n",
      "                    \"a bill to the Queen of Hearts. He's a very brave bunny, \"\n",
      "                    'and has a penchant for wearing bright red bowties and top '\n",
      "                    'hats. He loves to hop around Wonderland, and often gets '\n",
      "                    \"into mischief along the way. He's quite the character \"\n",
      "                    'among the locals, and always manages to get himself out '\n",
      "                    'of a tight spot.'},\n",
      " 'Caterpillar': {'query': 'Who is Caterpillar? . Give a funny answer 30 words '\n",
      "                          'long.',\n",
      "                 'result': '\\n'\n",
      "                           'Caterpillar is an old wise sage who has been '\n",
      "                           'around for hundreds of years. He is a mysterious '\n",
      "                           'creature with an ever-changing form, and he is '\n",
      "                           'always willing to dispense advice to any who are '\n",
      "                           'brave enough to seek it out. He is wise beyond his '\n",
      "                           'years, but he also has a mischievous side. He '\n",
      "                           'loves to make jokes and play pranks on '\n",
      "                           'unsuspecting Alice as she makes her way through '\n",
      "                           'Wonderland.'},\n",
      " 'Cheshire Cat': {'query': 'Who is Cheshire Cat? . Give a funny answer 30 '\n",
      "                           'words long.',\n",
      "                  'result': ' The Cheshire Cat is a mysterious and mischievous '\n",
      "                            'creature who loves to play pranks on Alice and '\n",
      "                            'the other characters in Alice in Wonderland! He '\n",
      "                            'is fond of disappearing and reappearing, often in '\n",
      "                            \"the strangest places, much to Alice's surprise. \"\n",
      "                            'He is also fond of making curious and clever '\n",
      "                            'remarks, which often leave Alice scratching her '\n",
      "                            'head in confusion!'},\n",
      " 'Croquet-Ground': {'query': 'Who is Croquet-Ground? . Give a funny answer 30 '\n",
      "                             'words long.',\n",
      "                    'result': '\\n'\n",
      "                              '\\n'\n",
      "                              \"Croquet-Ground is the Queen's wise and witty \"\n",
      "                              'advisor, who has an uncanny ability to help her '\n",
      "                              'solve any problem she faces with a clever '\n",
      "                              'croquet-based solution. Whenever the Queen '\n",
      "                              'finds herself in a sticky situation, she always '\n",
      "                              'turns to Croquet-Ground for the perfect '\n",
      "                              'croquet-ingredient to get her out of it!'},\n",
      " 'Dormouse': {'query': 'Who is Dormouse? . Give a funny answer 30 words long.',\n",
      "              'result': '\\n'\n",
      "                        '\\n'\n",
      "                        'The Dormouse is a sleepy, snoozing creature who loves '\n",
      "                        \"to tell long, winding stories. He's often found \"\n",
      "                        'dozing in tea cups or snuggled up with a teddy bear. '\n",
      "                        \"He's the comic relief of Alice's adventures, with his \"\n",
      "                        \"silly stories and sleepy antics. He's always up for a \"\n",
      "                        'nap, but always ready to share a funny story or two.'},\n",
      " 'Evidence': {'query': 'Who is Evidence? . Give a funny answer 30 words long.',\n",
      "              'result': \" Evidence is Alice's invisible twin sister who is \"\n",
      "                        'always getting her into trouble. Whenever Alice is '\n",
      "                        'blamed for something, Evidence is usually the one who '\n",
      "                        'did it! She loves to play pranks and is always '\n",
      "                        'stirring up mischief.'},\n",
      " 'Lobster': {'query': 'Who is Lobster? . Give a funny answer 30 words long.',\n",
      "             'result': ' Lobster is a mysterious crustacean who loves to dance '\n",
      "                       \"the Quadrille. He's quite the socialite, and loves to \"\n",
      "                       \"show off his moves at the local Lobster Ball. He's \"\n",
      "                       'also known for his witty puns and unique style of '\n",
      "                       'dress, often seen wearing a top hat and a bowtie.'},\n",
      " 'Lobster Quadrille': {'query': 'Who is Lobster Quadrille? . Give a funny '\n",
      "                                'answer 30 words long.',\n",
      "                       'result': '\\n'\n",
      "                                 'Lobster Quadrille is an eccentric band of '\n",
      "                                 'crustaceans who love to dance the night '\n",
      "                                 'away! They can often be found twirling and '\n",
      "                                 'tapping their way across the ocean floor, '\n",
      "                                 'their shiny shells shimmering in the '\n",
      "                                 \"moonlight. They've been known to put on \"\n",
      "                                 'quite the show, so if you ever get the '\n",
      "                                 'chance, be sure to catch a glimpse of the '\n",
      "                                 'Lobster Quadrille!'},\n",
      " 'Mad Hatter': {'query': 'Who is Mad Hatter? . Give a funny answer 30 words '\n",
      "                         'long.',\n",
      "                'result': ' The Mad Hatter is a character from Alice in '\n",
      "                          'Wonderland who loves to throw mad tea-parties with '\n",
      "                          'his friends, the March Hare and the Dormouse. He is '\n",
      "                          'always dressed in the craziest outfits, and loves '\n",
      "                          'to talk in riddles and ask nonsensical questions. '\n",
      "                          'He is always full of surprises and his parties are '\n",
      "                          'never dull!'},\n",
      " 'March Hare': {'query': 'Who is March Hare? . Give a funny answer 30 words '\n",
      "                         'long.',\n",
      "                'result': ' The March Hare is a strange character who loves to '\n",
      "                          'party! He is always hosting wild tea parties with '\n",
      "                          'his friends, Alice and the Mad Hatter. He loves to '\n",
      "                          'dance and sing, and his favorite activity is '\n",
      "                          'playing croquet with flamingo mallets. When he’s '\n",
      "                          'not partying, the March Hare is typically found '\n",
      "                          'napping in the sun or chasing rabbits around the '\n",
      "                          'garden. He’s a funny fellow who always brings a '\n",
      "                          'smile to everyone’s face!'},\n",
      " 'Mock Turtle': {'query': 'Who is Mock Turtle? . Give a funny answer 30 words '\n",
      "                          'long.',\n",
      "                 'result': '\\n'\n",
      "                           '\\n'\n",
      "                           'Mock Turtle is an imaginary creature who loves to '\n",
      "                           'tell stories and make people laugh. He is a bit of '\n",
      "                           'a silly character who always has a new joke or '\n",
      "                           'funny story to tell. He is a big fan of Alice in '\n",
      "                           'Wonderland and loves to be the center of '\n",
      "                           'attention. He loves to entertain and make people '\n",
      "                           'laugh, and his stories are always full of '\n",
      "                           'surprises and plenty of laughter.'},\n",
      " 'Pepper': {'query': 'Who is Pepper? . Give a funny answer 30 words long.',\n",
      "            'result': ' Pepper is a mischievous pig who loves to cause trouble '\n",
      "                      \"and get into Alice's adventures. He often appears when \"\n",
      "                      'Alice least expects it and loves to stir up trouble and '\n",
      "                      \"chaos. He's always full of energy and is always up for \"\n",
      "                      'an adventure with Alice and her friends. He loves to '\n",
      "                      'laugh and have a good time, and is always ready to help '\n",
      "                      'Alice out when she needs it.'},\n",
      " 'Pig': {'query': 'Who is Pig? . Give a funny answer 30 words long.',\n",
      "         'result': \" Pig is a beloved character from Alice's Adventures in \"\n",
      "                   'Wonderland. He is a mischievous little pig and is often '\n",
      "                   'the cause of a lot of trouble. He loves to play pranks on '\n",
      "                   'Alice and the other characters, and is usually getting '\n",
      "                   'into some kind of trouble. He is known for being a bit of '\n",
      "                   'a mischief-maker, and he always seems to be up to '\n",
      "                   'something!'},\n",
      " 'Queen': {'query': 'Who is Queen? . Give a funny answer 30 words long.',\n",
      "           'result': ' The Queen of Wonderland is a powerful and mysterious '\n",
      "                     'figure who rules the land with an iron fist. She is '\n",
      "                     'known for her grandiose parties, where she can often be '\n",
      "                     'found shouting orders and demanding absolute obedience. '\n",
      "                     'Her favorite game is croquet, a game she plays with a '\n",
      "                     'rather unorthodox set of rules that only she '\n",
      "                     'understands. She is a force to be reckoned with and a '\n",
      "                     'formidable opponent in any situation.'},\n",
      " 'Rabbit': {'query': 'Who is Rabbit? . Give a funny answer 30 words long.',\n",
      "            'result': ' Rabbit is a mischievous character in Alice in '\n",
      "                      'Wonderland who is always trying to stir up trouble. He '\n",
      "                      'loves to send little bills to Alice and her friends, '\n",
      "                      'and he always seems to have something up his sleeve. He '\n",
      "                      \"is always up to something, so it's no surprise that he \"\n",
      "                      'is a bit of a troublemaker!'},\n",
      " 'Rabbit-Hole': {'query': 'Who is Rabbit-Hole? . Give a funny answer 30 words '\n",
      "                          'long.',\n",
      "                 'result': ' Rabbit-Hole is a mischievous character that loves '\n",
      "                           'to cause chaos and confusion. He loves to play '\n",
      "                           'pranks and tricks on people and is always up for a '\n",
      "                           \"good laugh. He's the life of the party and makes \"\n",
      "                           \"sure everyone is having a good time. He's also \"\n",
      "                           'known for his love of carrots and his ability to '\n",
      "                           'dig the deepest and most complex rabbit-holes.'},\n",
      " 'The King of Hearts': {'query': 'Who is The King of Hearts? . Give a funny '\n",
      "                                 'answer 30 words long.',\n",
      "                        'result': ' The King of Hearts is a quirky and '\n",
      "                                  'fun-loving monarch who loves to go on wild '\n",
      "                                  \"adventures and solve puzzles. He's the life \"\n",
      "                                  \"of any party, and when there's a problem to \"\n",
      "                                  'solve, the King of Hearts always knows just '\n",
      "                                  'what to do!'},\n",
      " 'The Knave of Hearts': {'query': 'Who is The Knave of Hearts? . Give a funny '\n",
      "                                  'answer 30 words long.',\n",
      "                         'result': '\\n'\n",
      "                                   '\\n'\n",
      "                                   'The Knave of Hearts is a mysterious '\n",
      "                                   'character from the Alice in Wonderland '\n",
      "                                   'story. He is often seen causing a bit of '\n",
      "                                   'mischief, usually involving the theft of '\n",
      "                                   'the Queen of Hearts’ delicious tarts. He '\n",
      "                                   'is a bit of a trickster, but he always '\n",
      "                                   'manages to get away in the end. He is a '\n",
      "                                   'lovable rogue and one of the most beloved '\n",
      "                                   'characters from the story.'},\n",
      " 'The Queen of Hearts': {'query': 'Who is The Queen of Hearts? . Give a funny '\n",
      "                                  'answer 30 words long.',\n",
      "                         'result': ' The Queen of Hearts is a mysterious and '\n",
      "                                   'comical figure who reigns over Wonderland '\n",
      "                                   'with an iron fist. She is often seen '\n",
      "                                   'carrying her magical croquet mallet, which '\n",
      "                                   'she uses to make her wishes come true. She '\n",
      "                                   'has an infamous temper and is known for '\n",
      "                                   'her impulsive outbursts and bizarre '\n",
      "                                   'punishments.'},\n",
      " 'White Rabbit': {'query': 'Who is White Rabbit? . Give a funny answer 30 '\n",
      "                           'words long.',\n",
      "                  'result': ' White Rabbit is an anxious, time-obsessed '\n",
      "                            'character from Alice in Wonderland who is always '\n",
      "                            'running late and is constantly in a hurry. He is '\n",
      "                            'always worrying about being late and is always '\n",
      "                            'trying to make up for it by sprinting around, '\n",
      "                            'which often leads him to get himself into even '\n",
      "                            'more trouble. He is the ultimate example of '\n",
      "                            'someone who is always hurriedly rushing around '\n",
      "                            'and never seems to be able to catch up.'}}\n"
     ]
    }
   ],
   "source": [
    "from langchain.chains import RetrievalQA\n",
    "from langchain.vectorstores import Annoy\n",
    "from langchain.embeddings import OpenAIEmbeddings\n",
    "\n",
    "# Get embedding engine ready\n",
    "embeddings = OpenAIEmbeddings()\n",
    " \n",
    "# Embedd your texts andd store them in the vector database\n",
    "# dtabase is in memory. it might be savecd to a file and loader later on.\n",
    "db = Annoy.from_documents(texts, embeddings)\n",
    "\n",
    "# Init a retriever for this db\n",
    "# lookup for trelevqnt parts\n",
    "retriever = db.as_retriever(search_type=\"similarity\", \n",
    "                            search_kwargs={\"k\":5,\n",
    "                                           \"score_threshold\": 0.9\n",
    "                                          })\n",
    " \n",
    "instructions = \". Give a funny answer 30 words long.\"\n",
    "\n",
    "summary = {}\n",
    "i = 0\n",
    "\n",
    "\n",
    "# set remove duplicate strings\n",
    "for character in set(characters_list):\n",
    "    i += 1\n",
    "\n",
    "    # ra query\n",
    "    query = f\"Who is {character}? {instructions}\"\n",
    "\n",
    "    # retrieve and count indexed documents relevant for the query\n",
    "    docs = retriever.get_relevant_documents(query)\n",
    "    print(f\"({i}) - Found {len(docs)} relevant documen(s) for {character}\")\n",
    "\n",
    "   # NOTE score threshold not implemnted in Annoy\n",
    "   # if len(docs) < 10:\n",
    "   #   continue\n",
    "                                           \n",
    "\n",
    "    #samples = \"\\n\\n\".join([x.page_content[:200] for x in docs[:5]])\n",
    "    #print(samples)\n",
    "    \n",
    "\n",
    "    # create a chain to answer questions \n",
    "    qa = RetrievalQA.from_chain_type(\n",
    "        llm=OpenAI(), \n",
    "        chain_type=\"stuff\", \n",
    "        retriever=retriever, \n",
    "        return_source_documents=False)\n",
    "\n",
    "    response = qa({\"query\": query})\n",
    "    \n",
    "    summary[character] = response\n",
    "\n",
    "with open(f'{notebook_folder}/alice_characters_summary_annoy.txt', 'w') as file:\n",
    "    file.write(pformat(summary))\n",
    "\n",
    "print('\\n')\n",
    "pprint(summary)"
   ]
  },
  {
   "cell_type": "code",
   "execution_count": null,
   "id": "e6a94f92-2305-4cfd-94ff-521972e9e287",
   "metadata": {},
   "outputs": [],
   "source": []
  },
  {
   "cell_type": "code",
   "execution_count": 77,
   "id": "9c558a63-141d-44d7-88fb-008aed2c7e42",
   "metadata": {},
   "outputs": [],
   "source": [
    "# TODO make it readable"
   ]
  },
  {
   "cell_type": "markdown",
   "id": "800d04cf-f5d4-4815-96e3-ca4985017e40",
   "metadata": {},
   "source": [
    "---\n",
    "## Same using chroma and similarity threshold\n",
    "\n",
    "**Resources**\n",
    "> - https://python.langchain.com/docs/modules/data_connection/vectorstores/integrations/chroma"
   ]
  },
  {
   "cell_type": "code",
   "execution_count": 79,
   "id": "74838e3c-bbe6-4380-9f83-8fa9c4b6eb1d",
   "metadata": {
    "tags": []
   },
   "outputs": [
    {
     "name": "stdout",
     "output_type": "stream",
     "text": [
      "(1) - Found 1 relevant document(s) for Croquet-Ground\n"
     ]
    },
    {
     "name": "stderr",
     "output_type": "stream",
     "text": [
      "/opt/conda/lib/python3.10/site-packages/langchain/vectorstores/base.py:257: UserWarning: No relevant docs were retrieved using the relevance score threshold 0.7\n",
      "  warnings.warn(\n"
     ]
    },
    {
     "name": "stdout",
     "output_type": "stream",
     "text": [
      "(2) - Found 0 relevant document(s) for Lobster\n",
      "(3) - Found 0 relevant document(s) for The King of Hearts\n",
      "(4) - Found 1 relevant document(s) for March Hare\n",
      "(5) - Found 0 relevant document(s) for Bill\n",
      "(6) - Found 5 relevant document(s) for Mad Hatter\n",
      "(7) - Found 1 relevant document(s) for Lobster Quadrille\n",
      "(8) - Found 0 relevant document(s) for Pepper\n",
      "(9) - Found 5 relevant document(s) for Alice,\n",
      "(10) - Found 3 relevant document(s) for Mock Turtle\n",
      "(11) - Found 1 relevant document(s) for Caterpillar\n",
      "(12) - Found 0 relevant document(s) for Queen\n",
      "(13) - Found 0 relevant document(s) for The Knave of Hearts\n",
      "(14) - Found 0 relevant document(s) for Evidence\n",
      "(15) - Found 5 relevant document(s) for Rabbit\n",
      "(16) - Found 0 relevant document(s) for The Queen of Hearts\n",
      "(17) - Found 5 relevant document(s) for Rabbit-Hole\n",
      "(18) - Found 0 relevant document(s) for Dormouse\n",
      "(19) - Found 1 relevant document(s) for Pig\n",
      "(20) - Found 5 relevant document(s) for Alice\n",
      "(21) - Found 3 relevant document(s) for Cheshire Cat\n",
      "(22) - Found 5 relevant document(s) for White Rabbit\n",
      "(23) - Found 5 relevant document(s) for Alice's Evidence\n",
      "\n",
      "\n",
      "{'Alice': {'query': 'Who is Alice? . Give a funny answer 30 words long.',\n",
      "           'result': ' Alice is a brave and curious young girl who has a knack '\n",
      "                     'for getting herself into all sorts of peculiar '\n",
      "                     'situations. She has a knack for making friends with all '\n",
      "                     'sorts of strange creatures, both human and non-human. '\n",
      "                     'She loves to explore and find new things, and she never '\n",
      "                     'stops looking for adventure!'},\n",
      " \"Alice's Evidence\": {'query': \"Who is Alice's Evidence? . Give a funny answer \"\n",
      "                               '30 words long.',\n",
      "                      'result': \" Alice's Evidence is a team of seven brave \"\n",
      "                                'and curious rabbits, all wearing top hats and '\n",
      "                                'monocles, who are tirelessly gathering facts '\n",
      "                                \"and clues to prove Alice's innocence in the \"\n",
      "                                'Court of Wonderland. They never give up, no '\n",
      "                                'matter how difficult the case, and always '\n",
      "                                'carry a pocket watch to ensure they never '\n",
      "                                'miss an important deadline.'},\n",
      " 'Alice,': {'query': 'Who is Alice,? . Give a funny answer 30 words long.',\n",
      "            'result': '\\n'\n",
      "                      '\\n'\n",
      "                      'Alice is a curious young girl who often finds herself '\n",
      "                      'in extraordinary situations. She is an adventurous '\n",
      "                      'spirit who is always looking for a good time, no matter '\n",
      "                      'how big or small. She loves getting into trouble, '\n",
      "                      'especially when it involves exploring new places and '\n",
      "                      'meeting new people. Alice is a real go-getter who is '\n",
      "                      'always ready for a new challenge!'},\n",
      " 'Caterpillar': {'query': 'Who is Caterpillar? . Give a funny answer 30 words '\n",
      "                          'long.',\n",
      "                 'result': ' Caterpillar is an old, wise and funny caterpillar '\n",
      "                           'who lives in the magical world of Wonderland. He '\n",
      "                           'is known for his wise advice, although sometimes '\n",
      "                           'it can come out a bit strange and he likes to tell '\n",
      "                           'long stories and riddles. He is always ready to '\n",
      "                           'help Alice with her journey and his funny sayings '\n",
      "                           'often make her laugh.'},\n",
      " 'Cheshire Cat': {'query': 'Who is Cheshire Cat? . Give a funny answer 30 '\n",
      "                           'words long.',\n",
      "                  'result': ' The Cheshire Cat is a mysterious, mischievous '\n",
      "                            'character who loves to play pranks and confuse '\n",
      "                            'people. He is known for his wide, toothy grin and '\n",
      "                            'his ability to appear and disappear at will. He '\n",
      "                            'loves to laugh and often offers strange advice to '\n",
      "                            'Alice, such as, \"If you don\\'t know where you\\'re '\n",
      "                            'going, any road will take you there.\" He is a '\n",
      "                            'curious creature who is always up for an '\n",
      "                            'adventure!'},\n",
      " 'Croquet-Ground': {'query': 'Who is Croquet-Ground? . Give a funny answer 30 '\n",
      "                             'words long.',\n",
      "                    'result': ' Croquet-Ground is a very sweet and helpful '\n",
      "                              'monarch who loves nothing more than to play '\n",
      "                              'croquet with her subjects. She is always '\n",
      "                              'willing to lend a hand and is known for her '\n",
      "                              'delicious croquet-related snacks. In her spare '\n",
      "                              'time, she enjoys playing croquet with her pet '\n",
      "                              'hedgehog, and her croquet-playing skills are '\n",
      "                              'the envy of all the other monarchs in the land. '\n",
      "                              'She is a beloved ruler, and her subjects love '\n",
      "                              'her dearly.'},\n",
      " 'Lobster Quadrille': {'query': 'Who is Lobster Quadrille? . Give a funny '\n",
      "                                'answer 30 words long.',\n",
      "                       'result': ' Lobster Quadrille is an old crustacean who '\n",
      "                                 'loves to dance. He loves to wear a top-hat '\n",
      "                                 'and tap shoes and dance the night away. '\n",
      "                                 'Whenever someone says they want to dance, '\n",
      "                                 'Lobster Quadrille is always ready to join '\n",
      "                                 \"them. He's quite a character and always \"\n",
      "                                 'makes sure everyone has a great time!'},\n",
      " 'Mad Hatter': {'query': 'Who is Mad Hatter? . Give a funny answer 30 words '\n",
      "                         'long.',\n",
      "                'result': ' Mad Hatter is a character from Alice in Wonderland '\n",
      "                          'who is known for his wild and quirky behavior. He '\n",
      "                          'likes to throw wild tea parties, and is always '\n",
      "                          'doing something strange and unexpected. He is also '\n",
      "                          'known for his iconic hat, which is always decorated '\n",
      "                          'with a bright ribbon or bow. He is always ready to '\n",
      "                          'have a laugh and a good time!'},\n",
      " 'March Hare': {'query': 'Who is March Hare? . Give a funny answer 30 words '\n",
      "                         'long.',\n",
      "                'result': ' The March Hare is an anthropomorphic character in '\n",
      "                          'Alice in Wonderland. He is quite mad and has an '\n",
      "                          'obsession with tea parties. He is always late and '\n",
      "                          'is often seen wearing a pocket watch and a '\n",
      "                          'frustrated expression. He is always talking nonstop '\n",
      "                          'and never makes much sense, but he is a great '\n",
      "                          'source of entertainment for Alice and her friends!'},\n",
      " 'Mock Turtle': {'query': 'Who is Mock Turtle? . Give a funny answer 30 words '\n",
      "                          'long.',\n",
      "                 'result': ' The Mock Turtle is a very silly creature indeed! '\n",
      "                           'He is a mix between a turtle and a cow, and he has '\n",
      "                           'a penchant for telling long, drawn-out stories '\n",
      "                           \"that don't seem to make much sense. He loves to \"\n",
      "                           'sing, dance, and play music, but he also loves to '\n",
      "                           \"make everyone around him laugh. He's a bit of a \"\n",
      "                           \"misfit, but that's what makes him so special and \"\n",
      "                           'unique!'},\n",
      " 'Pig': {'query': 'Who is Pig? . Give a funny answer 30 words long.',\n",
      "         'result': '\\n'\n",
      "                   '\\n'\n",
      "                   'Pig is an adventurous pig who loves to explore and try new '\n",
      "                   \"things. He's always getting himself into trouble but he \"\n",
      "                   'always manages to get out of it, usually with the help of '\n",
      "                   \"his best friend Pepper. He's always looking for the next \"\n",
      "                   'big adventure, and he loves to get into trouble and have a '\n",
      "                   \"good time. He's a bit mischievous, but he always means \"\n",
      "                   'well. With a heart of gold and a big appetite, Pig is the '\n",
      "                   'life of the party!'},\n",
      " 'Rabbit': {'query': 'Who is Rabbit? . Give a funny answer 30 words long.',\n",
      "            'result': ' Rabbit is a mischievous and sly creature who loves to '\n",
      "                      'send in surprise bills to Alice. He loves to hide in '\n",
      "                      \"dark corners and watch Alice's reactions to his \"\n",
      "                      \"surprise bills with glee. He's a bit of a troublemaker \"\n",
      "                      'and loves to cause confusion and chaos!'},\n",
      " 'Rabbit-Hole': {'query': 'Who is Rabbit-Hole? . Give a funny answer 30 words '\n",
      "                          'long.',\n",
      "                 'result': '\\n'\n",
      "                           'Rabbit-Hole is a mysterious character who loves '\n",
      "                           \"sending little bills and giving Alice advice. He's \"\n",
      "                           'a mischievous, furry creature scurrying around '\n",
      "                           'Wonderland, causing trouble and generally having a '\n",
      "                           'good time while Alice is trying to make sense of '\n",
      "                           \"it all. He's a bit of a prankster but also a good \"\n",
      "                           'friend to Alice, always there when she needs a bit '\n",
      "                           'of guidance.'},\n",
      " 'White Rabbit': {'query': 'Who is White Rabbit? . Give a funny answer 30 '\n",
      "                           'words long.',\n",
      "                  'result': ' The White Rabbit is an eccentric character from '\n",
      "                            \"Alice in Wonderland. He's always running late and \"\n",
      "                            \"is usually seen carrying a pocket watch. He's \"\n",
      "                            'always in a rush and has an air of frantic '\n",
      "                            \"energy. He's always telling Alice to hurry up, \"\n",
      "                            'and he is known for his iconic catchphrase, \"I\\'m '\n",
      "                            'late! I\\'m late! For a very important date!\"'}}\n"
     ]
    }
   ],
   "source": [
    "from langchain.chains import RetrievalQA\n",
    "from langchain.vectorstores import Chroma\n",
    "from langchain.embeddings import OpenAIEmbeddings\n",
    "\n",
    "\n",
    "# Get embedding engine ready\n",
    "embeddings = OpenAIEmbeddings()\n",
    " \n",
    "# Embedd your texts andd store them in the vector database\n",
    "# dtabase is in memory. it might be savecd to a file and loader later on.\n",
    "chroma_db = Chroma.from_documents(texts, embeddings)\n",
    "\n",
    "# Init a retriever for this db\n",
    "# lookup for trelevqnt parts\n",
    "retriever = chroma_db.as_retriever(search_type=\"similarity_score_threshold\", \n",
    "                            search_kwargs={\"k\":5,\n",
    "                                           \"score_threshold\": 0.7\n",
    "                                          })\n",
    "     \n",
    "instructions = \". Give a funny answer 30 words long.\"\n",
    "\n",
    "summary = {}\n",
    "i = 0\n",
    "\n",
    "\n",
    "# set remove duplicate strings\n",
    "for character in set(characters_list):\n",
    "    i += 1\n",
    "\n",
    "    # ra query\n",
    "    query = f\"Who is {character}? {instructions}\"\n",
    "\n",
    "    # retrieve and count indexed documents relevant for the query\n",
    "    docs = retriever.get_relevant_documents(query)\n",
    "    print(f\"({i}) - Found {len(docs)} relevant document(s) for {character}\")\n",
    "\n",
    "    # NOTE score threshold not implemnted in Annoy\n",
    "    if len(docs) < 1:\n",
    "        continue\n",
    "                                           \n",
    "\n",
    "    #samples = \"\\n\\n\".join([x.page_content[:200] for x in docs[:5]])\n",
    "    #print(samples)\n",
    "    \n",
    "\n",
    "    # create a chain to answer questions \n",
    "    qa = RetrievalQA.from_chain_type(\n",
    "        llm=OpenAI(), \n",
    "        chain_type=\"stuff\", \n",
    "        retriever=retriever, \n",
    "        return_source_documents=False)\n",
    "\n",
    "    response = qa({\"query\": query})\n",
    "    \n",
    "    summary[character] = response\n",
    "\n",
    "with open(f'{notebook_folder}/alice_characters_summary_chroma.txt', 'w') as file:\n",
    "    file.write(pformat(summary))\n",
    "\n",
    "print('\\n')\n",
    "pprint(summary)"
   ]
  },
  {
   "cell_type": "markdown",
   "id": "594d78a2-69c0-4473-bd47-1d10b0d0de1f",
   "metadata": {},
   "source": [
    "---\n",
    "## Turn into a readable response using summarization \n",
    "\n",
    "wrao the response into a document and display the result.\n",
    "\n",
    "It actually summarizes the dict response. "
   ]
  },
  {
   "cell_type": "code",
   "execution_count": 80,
   "id": "436396af-8bd6-4b31-9981-debf01c208b6",
   "metadata": {
    "tags": []
   },
   "outputs": [],
   "source": [
    "from langchain.schema import Document\n",
    "from pprint import pformat\n",
    "\n",
    "document = Document(\n",
    "    page_content=pformat(summary)\n",
    ")\n",
    "\n",
    "response =[document]"
   ]
  },
  {
   "cell_type": "code",
   "execution_count": 81,
   "id": "6e4b8002-8d5b-4534-a331-a962dfc0d45d",
   "metadata": {
    "tags": []
   },
   "outputs": [
    {
     "name": "stdout",
     "output_type": "stream",
     "text": [
      "\n",
      "- Alice: A brave and curious young girl who has a knack for getting herself into all sorts of peculiar situations.\n",
      "- Alice's Evidence: A team of seven brave and curious rabbits, all wearing top hats and monocles, who are tirelessly gathering facts and clues to prove Alice's innocence in the Court of Wonderland.\n",
      "- Caterpillar: An old, wise and funny caterpillar who lives in the magical world of Wonderland.\n",
      "- Cheshire Cat: A mysterious, mischievous character who loves to play pranks and confuse people.\n",
      "- Croquet-Ground: A very sweet and helpful monarch who loves nothing more than to play croquet with her subjects.\n",
      "- Lobster Quadrille: An old crustacean who loves to dance and wear a top-hat and tap shoes.\n",
      "- Mad Hatter: A character from Alice in Wonderland who is known for his wild and quirky behavior.\n",
      "- March Hare: An anthropomorphic character in Alice in Wonderland who is quite mad and has an obsession with tea parties.\n",
      "- Mock Turtle: A very silly creature who is a mix between a turtle and a cow and loves to tell long, drawn-out stories.\n",
      "- Pig: An adventurous pig who loves to explore and try new things\n"
     ]
    }
   ],
   "source": [
    "from langchain import PromptTemplate\n",
    "from langchain.chains.summarize import load_summarize_chain\n",
    "\n",
    "# setup a custom prompt\n",
    "# the Summarization Chain provides a defaults prompt: write a concise summary.\n",
    "prompt_template = \"\"\"\n",
    "Return a pretty list of names and description.\n",
    "\n",
    "Expected response format:\n",
    "- character name: character description\n",
    "\n",
    "% TEXT:\n",
    "\n",
    "{text}\n",
    "\"\"\"\n",
    "\n",
    "prompt = PromptTemplate(template=prompt_template, input_variables=[\"text\"])\n",
    "\n",
    "# the attribute map_reduce instruct the chain to \n",
    "# - first apply the model to each chunck (map stage) \n",
    "# - then all map results and apply the model (reduce stage)\n",
    "chain = load_summarize_chain(\n",
    "    llm, \n",
    "    chain_type=\"stuff\", \n",
    "    prompt=prompt, \n",
    "    verbose=False)\n",
    "\n",
    "# run the chain against all the document chunks\n",
    "output = chain.run(response)\n",
    "\n",
    "print(output)"
   ]
  },
  {
   "cell_type": "markdown",
   "id": "c53cc494-1f40-4547-8a06-ac24216ad2a0",
   "metadata": {},
   "source": [
    "**OUTPUT**\n",
    "\n",
    "- Alice: A curious girl who loves to explore and has a wild imagination. \n",
    "- Alice's Evidence: A jury of Alice's peers from Wonderland, including the White Rabbit, the Cheshire Cat, the Mad Hatter, and the Caterpillar. \n",
    "- Caterpillar: A wise and witty creature who has an affinity for smoking hookah. \n",
    "- Croquet-Ground: The Queen's loyal butler and faithful servant, made of croquet hoops, mallets, and balls. \n",
    "- Lobster Quadrille: A famous lobster who loves to dance and show off his moves. \n",
    "- Mad Hatter: A wild and eccentric character who loves to throw wild tea parties and ask nonsensical questions. \n",
    "- March Hare: A wild hare who is always late and loves to tell silly stories. \n",
    "- Mock Turtle: An incredibly mysterious creature that has been known to make people laugh uncontrollably. \n",
    "- Pig: A very silly character who loves to have fun and make people laugh. \n",
    "- Rabbit: A wise little creature who is always on the lookout for Alice's shenanigans. \n",
    "- Rabbit-Hole: An adventurous bunny who loves to explore and have a good time. \n",
    "- The Mock"
   ]
  },
  {
   "cell_type": "markdown",
   "id": "4740a71c-f6cc-45fe-b8cb-4d44b3c13729",
   "metadata": {},
   "source": [
    "---\n",
    "## Turn into a readable response using the chat model"
   ]
  },
  {
   "cell_type": "code",
   "execution_count": 82,
   "id": "e3638c8e-4af2-4476-8e45-a817254990b1",
   "metadata": {
    "tags": []
   },
   "outputs": [
    {
     "name": "stdout",
     "output_type": "stream",
     "text": [
      "- Alice: Alice is a brave and curious young girl who has a knack for getting herself into all sorts of peculiar situations. She loves to explore and find new things, and she never stops looking for adventure!\n",
      "- Alice's Evidence: Alice's Evidence is a team of seven brave and curious rabbits, all wearing top hats and monocles, who are tirelessly gathering facts and clues to prove Alice's innocence in the Court of Wonderland. They never give up, no matter how difficult the case, and always carry a pocket watch to ensure they never miss an important deadline.\n",
      "- Alice,: Alice is a curious young girl who often finds herself in extraordinary situations. She is an adventurous spirit who is always looking for a good time, no matter how big or small. She loves getting into trouble, especially when it involves exploring new places and meeting new people. Alice is a real go-getter who is always ready for a new challenge!\n",
      "- Caterpillar: Caterpillar is an old, wise and funny caterpillar who lives in the magical world of Wonderland. He is known for his wise advice, although sometimes it can come out a bit strange. He loves to tell long stories and riddles. He is always ready to help Alice with her journey and his funny sayings often make her laugh.\n",
      "- Cheshire Cat: The Cheshire Cat is a mysterious, mischievous character who loves to play pranks and confuse people. He is known for his wide, toothy grin and his ability to appear and disappear at will. He loves to laugh and often offers strange advice to Alice. He is a curious creature who is always up for an adventure!\n",
      "- Croquet-Ground: Croquet-Ground is a very sweet and helpful monarch who loves nothing more than to play croquet with her subjects. She is always willing to lend a hand and is known for her delicious croquet-related snacks. In her spare time, she enjoys playing croquet with her pet hedgehog, and her croquet-playing skills are the envy of all the other monarchs in the land. She is a beloved ruler, and her subjects love her dearly.\n",
      "- Lobster Quadrille: Lobster Quadrille is an old crustacean who loves to dance. He loves to wear a top-hat and tap shoes and dance the night away. Whenever someone says they want to dance, Lobster Quadrille is always ready to join them. He's quite a character and always makes sure everyone has a great time!\n",
      "- Mad Hatter: Mad Hatter is a character from Alice in Wonderland who is known for his wild and quirky behavior. He likes to throw wild tea parties and is always doing something strange and unexpected. He is also known for his iconic hat, which is always decorated with a bright ribbon or bow. He is always ready to have a laugh and a good time!\n",
      "- March Hare: The March Hare is an anthropomorphic character in Alice in Wonderland. He is quite mad and has an obsession with tea parties. He is always late and is often seen wearing a pocket watch and a frustrated expression. He is always talking nonstop and never makes much sense, but he is a great source of entertainment for Alice and her friends!\n",
      "- Mock Turtle: The Mock Turtle is a very silly creature indeed! He is a mix between a turtle and a cow, and he has a penchant for telling long, drawn-out stories that don't seem to make much sense. He loves to sing, dance, and play music, but he also loves to make everyone around him laugh. He's a bit of a misfit, but that's what makes him so special and unique!\n",
      "- Pig: Pig is an adventurous pig who loves to explore and try new things. He's always getting himself into trouble but he always manages to get out of it, usually with the help of his best friend Pepper. He's always looking for the next big adventure, and he loves to get into trouble and have a good time. He's a bit mischievous, but he always means well. With a heart of gold and a big appetite, Pig is the life of the party!\n",
      "- Rabbit: Rabbit is a mischievous and sly creature who loves to send in surprise bills to Alice. He loves to hide in dark corners and watch Alice's reactions to his surprise bills with glee. He's a bit of a troublemaker and loves to cause confusion and chaos!\n",
      "- Rabbit-Hole: Rabbit-Hole is a mysterious character who loves sending little bills and giving Alice advice. He's a mischievous, furry creature scurrying around Wonderland, causing trouble and generally having a good time while Alice is trying to make sense of it all. He's a bit of a prankster but also a good friend to Alice, always there when she needs a bit of guidance.\n",
      "- White Rabbit: The White Rabbit is an eccentric character from Alice in Wonderland. He's always running late and is usually seen carrying a pocket watch. He's always in a rush and has an air of frantic energy. He's always telling Alice to hurry up, and he is known for his iconic catchphrase, \"I'm late! I'm late! For a very important date!\"\n"
     ]
    }
   ],
   "source": [
    "# To help construct our Chat Messages\n",
    "from langchain.schema import HumanMessage\n",
    "from langchain.prompts import PromptTemplate, ChatPromptTemplate, HumanMessagePromptTemplate\n",
    "\n",
    "# We will be using a chat model, defaults to gpt-3.5-turbo\n",
    "from langchain.chat_models import ChatOpenAI\n",
    "\n",
    "chat_model = ChatOpenAI(temperature=0, model_name='gpt-3.5-turbo')\n",
    "instructions = \"\"\"\n",
    "You will be given a python dictionnary with character names as key and description in the field result. \n",
    "Return a pretty list of names and description.\n",
    "\"\"\"\n",
    "\n",
    "characters = pformat(summary)\n",
    "\n",
    "# Make your prompt which combines the instructions w/ the trxt\n",
    "prompt = (instructions + characters)\n",
    "\n",
    "# Call the LLM\n",
    "output = chat_model([HumanMessage(content=prompt)])\n",
    "\n",
    "print (output.content)\n"
   ]
  },
  {
   "cell_type": "markdown",
   "id": "bdaf1189-4d93-4102-b5ac-df6cd04645bb",
   "metadata": {},
   "source": [
    "---\n",
    "## Using the PDF loader\n",
    "\n",
    "The text document is noisy. Leyt's try the PDF document instead.\n",
    "\n",
    "Langchain allow various PDF loaders"
   ]
  },
  {
   "cell_type": "code",
   "execution_count": null,
   "id": "221e640e-f2e3-4349-92b6-b30a110206d9",
   "metadata": {},
   "outputs": [],
   "source": [
    "## Using unstructured"
   ]
  },
  {
   "cell_type": "code",
   "execution_count": 84,
   "id": "0a8c8a36-f003-4df2-971d-0a40592227df",
   "metadata": {
    "tags": []
   },
   "outputs": [
    {
     "name": "stdout",
     "output_type": "stream",
     "text": [
      "Collecting unstructured\n",
      "  Obtaining dependency information for unstructured from https://files.pythonhosted.org/packages/a3/5a/bd99d64c254e6d500618946acb78ec1809708cc31760c0465636548de0a1/unstructured-0.8.1-py3-none-any.whl.metadata\n",
      "  Downloading unstructured-0.8.1-py3-none-any.whl.metadata (18 kB)\n",
      "Requirement already satisfied: chardet in /opt/conda/lib/python3.10/site-packages (from unstructured) (4.0.0)\n",
      "Collecting filetype (from unstructured)\n",
      "  Downloading filetype-1.2.0-py2.py3-none-any.whl (19 kB)\n",
      "Requirement already satisfied: lxml in /opt/conda/lib/python3.10/site-packages (from unstructured) (4.9.2)\n",
      "Collecting msg-parser (from unstructured)\n",
      "  Downloading msg_parser-1.2.0-py2.py3-none-any.whl (101 kB)\n",
      "\u001b[2K     \u001b[90m━━━━━━━━━━━━━━━━━━━━━━━━━━━━━━━━━━━━━━━\u001b[0m \u001b[32m101.8/101.8 kB\u001b[0m \u001b[31m2.1 MB/s\u001b[0m eta \u001b[36m0:00:00\u001b[0ma \u001b[36m0:00:01\u001b[0m\n",
      "\u001b[?25hRequirement already satisfied: nltk in /opt/conda/lib/python3.10/site-packages (from unstructured) (3.7)\n",
      "Requirement already satisfied: openpyxl in /opt/conda/lib/python3.10/site-packages (from unstructured) (3.0.10)\n",
      "Requirement already satisfied: pandas in /opt/conda/lib/python3.10/site-packages (from unstructured) (1.4.4)\n",
      "Collecting pdf2image (from unstructured)\n",
      "  Downloading pdf2image-1.16.3-py3-none-any.whl (11 kB)\n",
      "Collecting pdfminer.six (from unstructured)\n",
      "  Downloading pdfminer.six-20221105-py3-none-any.whl (5.6 MB)\n",
      "\u001b[2K     \u001b[90m━━━━━━━━━━━━━━━━━━━━━━━━━━━━━━━━━━━━━━━━\u001b[0m \u001b[32m5.6/5.6 MB\u001b[0m \u001b[31m35.1 MB/s\u001b[0m eta \u001b[36m0:00:00\u001b[0m:00:01\u001b[0m\n",
      "\u001b[?25hRequirement already satisfied: pillow in /opt/conda/lib/python3.10/site-packages (from unstructured) (9.5.0)\n",
      "Collecting pypandoc (from unstructured)\n",
      "  Downloading pypandoc-1.11-py3-none-any.whl (20 kB)\n",
      "Collecting python-docx (from unstructured)\n",
      "  Downloading python-docx-0.8.11.tar.gz (5.6 MB)\n",
      "\u001b[2K     \u001b[90m━━━━━━━━━━━━━━━━━━━━━━━━━━━━━━━━━━━━━━━━\u001b[0m \u001b[32m5.6/5.6 MB\u001b[0m \u001b[31m31.8 MB/s\u001b[0m eta \u001b[36m0:00:00\u001b[0m:00:01\u001b[0m\n",
      "\u001b[?25h  Preparing metadata (setup.py) ... \u001b[?25ldone\n",
      "\u001b[?25hCollecting python-pptx (from unstructured)\n",
      "  Downloading python-pptx-0.6.21.tar.gz (10.1 MB)\n",
      "\u001b[2K     \u001b[90m━━━━━━━━━━━━━━━━━━━━━━━━━━━━━━━━━━━━━━━━\u001b[0m \u001b[32m10.1/10.1 MB\u001b[0m \u001b[31m43.2 MB/s\u001b[0m eta \u001b[36m0:00:00\u001b[0m00:01\u001b[0m00:01\u001b[0m\n",
      "\u001b[?25h  Preparing metadata (setup.py) ... \u001b[?25ldone\n",
      "\u001b[?25hCollecting python-magic (from unstructured)\n",
      "  Downloading python_magic-0.4.27-py2.py3-none-any.whl (13 kB)\n",
      "Requirement already satisfied: markdown in /opt/conda/lib/python3.10/site-packages (from unstructured) (3.3.4)\n",
      "Requirement already satisfied: requests in /opt/conda/lib/python3.10/site-packages (from unstructured) (2.31.0)\n",
      "Requirement already satisfied: tabulate in /opt/conda/lib/python3.10/site-packages (from unstructured) (0.8.10)\n",
      "Requirement already satisfied: xlrd in /opt/conda/lib/python3.10/site-packages (from unstructured) (2.0.1)\n",
      "Requirement already satisfied: olefile>=0.46 in /opt/conda/lib/python3.10/site-packages (from msg-parser->unstructured) (0.46)\n",
      "Requirement already satisfied: click in /opt/conda/lib/python3.10/site-packages (from nltk->unstructured) (8.1.3)\n",
      "Requirement already satisfied: joblib in /opt/conda/lib/python3.10/site-packages (from nltk->unstructured) (1.2.0)\n",
      "Requirement already satisfied: regex>=2021.8.3 in /opt/conda/lib/python3.10/site-packages (from nltk->unstructured) (2022.7.9)\n",
      "Requirement already satisfied: tqdm in /opt/conda/lib/python3.10/site-packages (from nltk->unstructured) (4.65.0)\n",
      "Requirement already satisfied: et_xmlfile in /opt/conda/lib/python3.10/site-packages (from openpyxl->unstructured) (1.1.0)\n",
      "Requirement already satisfied: python-dateutil>=2.8.1 in /opt/conda/lib/python3.10/site-packages (from pandas->unstructured) (2.8.2)\n",
      "Requirement already satisfied: pytz>=2020.1 in /opt/conda/lib/python3.10/site-packages (from pandas->unstructured) (2022.1)\n",
      "Requirement already satisfied: numpy>=1.21.0 in /opt/conda/lib/python3.10/site-packages (from pandas->unstructured) (1.24.3)\n",
      "Requirement already satisfied: charset-normalizer>=2.0.0 in /opt/conda/lib/python3.10/site-packages (from pdfminer.six->unstructured) (2.0.4)\n",
      "Requirement already satisfied: cryptography>=36.0.0 in /opt/conda/lib/python3.10/site-packages (from pdfminer.six->unstructured) (41.0.1)\n",
      "Requirement already satisfied: XlsxWriter>=0.5.7 in /opt/conda/lib/python3.10/site-packages (from python-pptx->unstructured) (3.0.3)\n",
      "Requirement already satisfied: idna<4,>=2.5 in /opt/conda/lib/python3.10/site-packages (from requests->unstructured) (3.3)\n",
      "Requirement already satisfied: urllib3<3,>=1.21.1 in /opt/conda/lib/python3.10/site-packages (from requests->unstructured) (2.0.3)\n",
      "Requirement already satisfied: certifi>=2017.4.17 in /opt/conda/lib/python3.10/site-packages (from requests->unstructured) (2023.5.7)\n",
      "Requirement already satisfied: cffi>=1.12 in /opt/conda/lib/python3.10/site-packages (from cryptography>=36.0.0->pdfminer.six->unstructured) (1.15.1)\n",
      "Requirement already satisfied: six>=1.5 in /opt/conda/lib/python3.10/site-packages (from python-dateutil>=2.8.1->pandas->unstructured) (1.16.0)\n",
      "Requirement already satisfied: pycparser in /opt/conda/lib/python3.10/site-packages (from cffi>=1.12->cryptography>=36.0.0->pdfminer.six->unstructured) (2.21)\n",
      "Downloading unstructured-0.8.1-py3-none-any.whl (1.4 MB)\n",
      "\u001b[2K   \u001b[90m━━━━━━━━━━━━━━━━━━━━━━━━━━━━━━━━━━━━━━━━\u001b[0m \u001b[32m1.4/1.4 MB\u001b[0m \u001b[31m12.6 MB/s\u001b[0m eta \u001b[36m0:00:00\u001b[0m:00:01\u001b[0m\n",
      "\u001b[?25hBuilding wheels for collected packages: python-docx, python-pptx\n",
      "  Building wheel for python-docx (setup.py) ... \u001b[?25ldone\n",
      "\u001b[?25h  Created wheel for python-docx: filename=python_docx-0.8.11-py3-none-any.whl size=184491 sha256=66e288f943bed704e36be42192312df55b0bfccf9eb59323bb6a47d37df397ee\n",
      "  Stored in directory: /root/.cache/pip/wheels/80/27/06/837436d4c3bd989b957a91679966f207bfd71d358d63a8194d\n",
      "  Building wheel for python-pptx (setup.py) ... \u001b[?25ldone\n",
      "\u001b[?25h  Created wheel for python-pptx: filename=python_pptx-0.6.21-py3-none-any.whl size=470935 sha256=836e8cd149556fc836aa4ea999fdf0588a16877ec7c6a595ba2d649d4e321dd6\n",
      "  Stored in directory: /root/.cache/pip/wheels/ea/dd/74/01b3ec7256a0800b99384e9a0f7620e358afc3a51a59bf9b49\n",
      "Successfully built python-docx python-pptx\n",
      "Installing collected packages: filetype, python-pptx, python-magic, python-docx, pypandoc, pdf2image, msg-parser, pdfminer.six, unstructured\n",
      "Successfully installed filetype-1.2.0 msg-parser-1.2.0 pdf2image-1.16.3 pdfminer.six-20221105 pypandoc-1.11 python-docx-0.8.11 python-magic-0.4.27 python-pptx-0.6.21 unstructured-0.8.1\n",
      "\u001b[33mWARNING: Running pip as the 'root' user can result in broken permissions and conflicting behaviour with the system package manager. It is recommended to use a virtual environment instead: https://pip.pypa.io/warnings/venv\u001b[0m\u001b[33m\n",
      "\u001b[0m"
     ]
    }
   ],
   "source": [
    "!pip install unstructured"
   ]
  },
  {
   "cell_type": "code",
   "execution_count": 93,
   "id": "aa863647-7744-4494-814d-5149560bfcef",
   "metadata": {
    "tags": []
   },
   "outputs": [
    {
     "name": "stdout",
     "output_type": "stream",
     "text": [
      "length=157160\n",
      "num_tokens=52790\n"
     ]
    }
   ],
   "source": [
    "from langchain.llms import OpenAI\n",
    "from langchain.document_loaders import UnstructuredPDFLoader\n",
    "\n",
    "# Note, the default model is already 'text-davinci-003' \n",
    "# temperature 0 means no randomness\n",
    "llm = OpenAI(temperature=0, model_name='text-davinci-003')\n",
    "\n",
    "# This is the source document.    \n",
    "document_path = f\"{documents_folder}/alice_in_wonderland.pdf\"\n",
    " \n",
    "# Setup a PDF loader\n",
    "loader = UnstructuredPDFLoader(document_path)\n",
    "alice_documents = loader.load()\n",
    "\n",
    "text = alice_documents[0].page_content\n",
    "\n",
    "# check the length\n",
    "length = len(text)\n",
    "print(f\"{length=}\")\n",
    "\n",
    "# check the number of tokens\n",
    "num_tokens = llm.get_num_tokens(text)\n",
    "print(f\"{num_tokens=}\")"
   ]
  },
  {
   "cell_type": "code",
   "execution_count": 96,
   "id": "360cca19-058b-431d-b6e4-dd8861cd7893",
   "metadata": {
    "tags": []
   },
   "outputs": [
    {
     "name": "stdout",
     "output_type": "stream",
     "text": [
      "±\n",
      "\n",
      "T,i-T>«,I^^L—\n",
      "\n",
      "mk\n",
      "\n",
      "'A A ' :\n",
      "\n",
      "^-^^i^— c\n",
      "\n",
      "i^aiT\"\n",
      "\n",
      "»s-3;\n",
      "\n",
      "m\n",
      "\n",
      "!^^*b>^\n",
      "\n",
      "'m^i\n",
      "\n",
      "'iS>\n",
      "\n",
      "A\n",
      "\n",
      "\\\\\n",
      "\n",
      "t^.f\".\n",
      "\n",
      "Gettysburg College\n",
      "\n",
      "Library\n",
      "\n",
      "GETTYSBURG, PA.\n",
      "\n",
      "COOPER MEMORIAL\n",
      "\n",
      "This book is presented from the library of THOMAS Y. COOPER in affectionate nnennory\n",
      "\n",
      "of his parents M. COOPER, M.D. & KATE MILLER COOPER\n",
      "\n",
      "Accession \\ 'Z 5 1 Z 5\n",
      "\n",
      "^'^^^ ^^^^ ^^^^\n",
      "\n",
      "Shelf\n",
      "\n",
      ".ASM\n",
      "\n",
      "ALICE'S ADVENTUEES IN WONDEELAND.\n",
      "\n",
      "ALICE'S ADVENTURES\n",
      "\n",
      "IN WONDERLAND.\n",
      "\n",
      "LEWIS CARROLL.\n",
      "\n",
      "WITH FORTY-TWO ILLUSTRATIONS\n",
      "\n",
      "BY JOHN TENNIEL.\n",
      "\n",
      "M A C M I L L A N AND CO.\n",
      "\n",
      "1806.\n",
      "\n",
      "[The Right vf Trnnslation and Rcprnduclion is Reserved.]\n",
      "\n",
      "!\n",
      "\n",
      "All in the golden afternoon\n",
      "\n",
      "Full leisurely we glide ;\n",
      "\n",
      "For both our oars, with little skill,\n",
      "\n",
      "By little arms are plied,\n",
      "\n",
      "While little hands make vain pretence\n",
      "\n",
      "Our wanderings to guide.\n",
      "\n",
      "Ah, cruel Three !\n",
      "\n",
      "In such an hour.\n",
      "\n",
      "Beneath such dreamy weather.\n",
      "\n",
      "To beg a tale of breath too weak\n",
      "\n",
      "To stir the tiniest feather\n",
      "\n",
      "Yet what can one poor voice avail\n",
      "\n",
      "Against three tongues together 1\n",
      "\n",
      "—\n",
      "\n",
      "—\n",
      "\n",
      "!\n",
      "\n",
      "Imperious Prima flashes forth\n",
      "\n",
      "Her edict \"to hegin it\"\n",
      "\n",
      "In gentler tone Secimda hopes\n",
      "\n",
      "\" There will he nonsense in it\n",
      "\n",
      "While Tertia interrupts the tale\n",
      "\n",
      "Xot more than once a minute.\n",
      "\n",
      "Anon, to sudden silence won,\n",
      "\n",
      "In fancy they pursue\n",
      "\n",
      "The dream-child moving through a land\n",
      "\n",
      "Of wonders wild and new,\n",
      "\n",
      "In friendly chat with bird or beast\n",
      "\n",
      "And half believe it true.\n",
      "\n",
      "And ever, as the story drained\n",
      "\n",
      "The wells of fancy dry,\n",
      "\n",
      "And fnintly strove that Aveary one\n",
      "\n",
      "To put the subject by,\n",
      "\n",
      "\" The rest next time—\" \" It\n",
      "\n",
      "The happy voices cry.\n",
      "\n",
      "Thus grew the tale of Wonderland :\n",
      "\n",
      "Thus slowly, one by one,\n",
      "\n",
      "Its (|uamt events were hammered out-\n",
      "\n",
      "And now the tale is done,\n",
      "\n",
      "And home we steer, a merry crew,\n",
      "\n",
      "Beneath the setting' sun.\n",
      "\n",
      "Alice ! a childish story take,\n",
      "\n",
      "And with a gentle hand\n",
      "\n",
      "Lay it where Childhood's dreams are twined\n",
      "\n",
      "In Memory's mystic band,\n",
      "\n",
      "Like pilgrim's wither'd wreath of flowers\n",
      "\n",
      "Pluck'd in a far-off land.\n",
      "\n",
      "CONTENTS.\n",
      "\n",
      "PAGE\n",
      "\n",
      "DOWN TIIK HAlilJIT-IIOLE THE POOL OF TEARS ....\n",
      "\n",
      "1\n",
      "\n",
      "I.\n",
      "\n",
      ".\n",
      "\n",
      "15\n",
      "\n",
      "II.\n",
      "\n",
      "A CAUCUS-RACE AN1> \n"
     ]
    }
   ],
   "source": [
    "print(text[:2000])"
   ]
  },
  {
   "cell_type": "markdown",
   "id": "334a59e8-a931-4cf4-bd6a-3cd3c924ec19",
   "metadata": {},
   "source": [
    "---"
   ]
  },
  {
   "cell_type": "code",
   "execution_count": 83,
   "id": "3bf75b76-6ddb-46a5-a452-5ad57458e7a9",
   "metadata": {
    "tags": []
   },
   "outputs": [
    {
     "name": "stdout",
     "output_type": "stream",
     "text": [
      "DONR\n"
     ]
    }
   ],
   "source": [
    "print('DONR')"
   ]
  },
  {
   "cell_type": "code",
   "execution_count": null,
   "id": "253e87bb-39dc-4472-9aa9-18a58bf60878",
   "metadata": {},
   "outputs": [],
   "source": []
  }
 ],
 "metadata": {
  "availableInstances": [
   {
    "_defaultOrder": 0,
    "_isFastLaunch": true,
    "category": "General purpose",
    "gpuNum": 0,
    "memoryGiB": 4,
    "name": "ml.t3.medium",
    "vcpuNum": 2
   },
   {
    "_defaultOrder": 1,
    "_isFastLaunch": false,
    "category": "General purpose",
    "gpuNum": 0,
    "memoryGiB": 8,
    "name": "ml.t3.large",
    "vcpuNum": 2
   },
   {
    "_defaultOrder": 2,
    "_isFastLaunch": false,
    "category": "General purpose",
    "gpuNum": 0,
    "memoryGiB": 16,
    "name": "ml.t3.xlarge",
    "vcpuNum": 4
   },
   {
    "_defaultOrder": 3,
    "_isFastLaunch": false,
    "category": "General purpose",
    "gpuNum": 0,
    "memoryGiB": 32,
    "name": "ml.t3.2xlarge",
    "vcpuNum": 8
   },
   {
    "_defaultOrder": 4,
    "_isFastLaunch": true,
    "category": "General purpose",
    "gpuNum": 0,
    "memoryGiB": 8,
    "name": "ml.m5.large",
    "vcpuNum": 2
   },
   {
    "_defaultOrder": 5,
    "_isFastLaunch": false,
    "category": "General purpose",
    "gpuNum": 0,
    "memoryGiB": 16,
    "name": "ml.m5.xlarge",
    "vcpuNum": 4
   },
   {
    "_defaultOrder": 6,
    "_isFastLaunch": false,
    "category": "General purpose",
    "gpuNum": 0,
    "memoryGiB": 32,
    "name": "ml.m5.2xlarge",
    "vcpuNum": 8
   },
   {
    "_defaultOrder": 7,
    "_isFastLaunch": false,
    "category": "General purpose",
    "gpuNum": 0,
    "memoryGiB": 64,
    "name": "ml.m5.4xlarge",
    "vcpuNum": 16
   },
   {
    "_defaultOrder": 8,
    "_isFastLaunch": false,
    "category": "General purpose",
    "gpuNum": 0,
    "memoryGiB": 128,
    "name": "ml.m5.8xlarge",
    "vcpuNum": 32
   },
   {
    "_defaultOrder": 9,
    "_isFastLaunch": false,
    "category": "General purpose",
    "gpuNum": 0,
    "memoryGiB": 192,
    "name": "ml.m5.12xlarge",
    "vcpuNum": 48
   },
   {
    "_defaultOrder": 10,
    "_isFastLaunch": false,
    "category": "General purpose",
    "gpuNum": 0,
    "memoryGiB": 256,
    "name": "ml.m5.16xlarge",
    "vcpuNum": 64
   },
   {
    "_defaultOrder": 11,
    "_isFastLaunch": false,
    "category": "General purpose",
    "gpuNum": 0,
    "memoryGiB": 384,
    "name": "ml.m5.24xlarge",
    "vcpuNum": 96
   },
   {
    "_defaultOrder": 12,
    "_isFastLaunch": false,
    "category": "General purpose",
    "gpuNum": 0,
    "memoryGiB": 8,
    "name": "ml.m5d.large",
    "vcpuNum": 2
   },
   {
    "_defaultOrder": 13,
    "_isFastLaunch": false,
    "category": "General purpose",
    "gpuNum": 0,
    "memoryGiB": 16,
    "name": "ml.m5d.xlarge",
    "vcpuNum": 4
   },
   {
    "_defaultOrder": 14,
    "_isFastLaunch": false,
    "category": "General purpose",
    "gpuNum": 0,
    "memoryGiB": 32,
    "name": "ml.m5d.2xlarge",
    "vcpuNum": 8
   },
   {
    "_defaultOrder": 15,
    "_isFastLaunch": false,
    "category": "General purpose",
    "gpuNum": 0,
    "memoryGiB": 64,
    "name": "ml.m5d.4xlarge",
    "vcpuNum": 16
   },
   {
    "_defaultOrder": 16,
    "_isFastLaunch": false,
    "category": "General purpose",
    "gpuNum": 0,
    "memoryGiB": 128,
    "name": "ml.m5d.8xlarge",
    "vcpuNum": 32
   },
   {
    "_defaultOrder": 17,
    "_isFastLaunch": false,
    "category": "General purpose",
    "gpuNum": 0,
    "memoryGiB": 192,
    "name": "ml.m5d.12xlarge",
    "vcpuNum": 48
   },
   {
    "_defaultOrder": 18,
    "_isFastLaunch": false,
    "category": "General purpose",
    "gpuNum": 0,
    "memoryGiB": 256,
    "name": "ml.m5d.16xlarge",
    "vcpuNum": 64
   },
   {
    "_defaultOrder": 19,
    "_isFastLaunch": false,
    "category": "General purpose",
    "gpuNum": 0,
    "memoryGiB": 384,
    "name": "ml.m5d.24xlarge",
    "vcpuNum": 96
   },
   {
    "_defaultOrder": 20,
    "_isFastLaunch": true,
    "category": "Compute optimized",
    "gpuNum": 0,
    "memoryGiB": 4,
    "name": "ml.c5.large",
    "vcpuNum": 2
   },
   {
    "_defaultOrder": 21,
    "_isFastLaunch": false,
    "category": "Compute optimized",
    "gpuNum": 0,
    "memoryGiB": 8,
    "name": "ml.c5.xlarge",
    "vcpuNum": 4
   },
   {
    "_defaultOrder": 22,
    "_isFastLaunch": false,
    "category": "Compute optimized",
    "gpuNum": 0,
    "memoryGiB": 16,
    "name": "ml.c5.2xlarge",
    "vcpuNum": 8
   },
   {
    "_defaultOrder": 23,
    "_isFastLaunch": false,
    "category": "Compute optimized",
    "gpuNum": 0,
    "memoryGiB": 32,
    "name": "ml.c5.4xlarge",
    "vcpuNum": 16
   },
   {
    "_defaultOrder": 24,
    "_isFastLaunch": false,
    "category": "Compute optimized",
    "gpuNum": 0,
    "memoryGiB": 72,
    "name": "ml.c5.9xlarge",
    "vcpuNum": 36
   },
   {
    "_defaultOrder": 25,
    "_isFastLaunch": false,
    "category": "Compute optimized",
    "gpuNum": 0,
    "memoryGiB": 96,
    "name": "ml.c5.12xlarge",
    "vcpuNum": 48
   },
   {
    "_defaultOrder": 26,
    "_isFastLaunch": false,
    "category": "Compute optimized",
    "gpuNum": 0,
    "memoryGiB": 144,
    "name": "ml.c5.18xlarge",
    "vcpuNum": 72
   },
   {
    "_defaultOrder": 27,
    "_isFastLaunch": false,
    "category": "Compute optimized",
    "gpuNum": 0,
    "memoryGiB": 192,
    "name": "ml.c5.24xlarge",
    "vcpuNum": 96
   },
   {
    "_defaultOrder": 28,
    "_isFastLaunch": true,
    "category": "Accelerated computing",
    "gpuNum": 1,
    "memoryGiB": 16,
    "name": "ml.g4dn.xlarge",
    "vcpuNum": 4
   },
   {
    "_defaultOrder": 29,
    "_isFastLaunch": false,
    "category": "Accelerated computing",
    "gpuNum": 1,
    "memoryGiB": 32,
    "name": "ml.g4dn.2xlarge",
    "vcpuNum": 8
   },
   {
    "_defaultOrder": 30,
    "_isFastLaunch": false,
    "category": "Accelerated computing",
    "gpuNum": 1,
    "memoryGiB": 64,
    "name": "ml.g4dn.4xlarge",
    "vcpuNum": 16
   },
   {
    "_defaultOrder": 31,
    "_isFastLaunch": false,
    "category": "Accelerated computing",
    "gpuNum": 1,
    "memoryGiB": 128,
    "name": "ml.g4dn.8xlarge",
    "vcpuNum": 32
   },
   {
    "_defaultOrder": 32,
    "_isFastLaunch": false,
    "category": "Accelerated computing",
    "gpuNum": 4,
    "memoryGiB": 192,
    "name": "ml.g4dn.12xlarge",
    "vcpuNum": 48
   },
   {
    "_defaultOrder": 33,
    "_isFastLaunch": false,
    "category": "Accelerated computing",
    "gpuNum": 1,
    "memoryGiB": 256,
    "name": "ml.g4dn.16xlarge",
    "vcpuNum": 64
   },
   {
    "_defaultOrder": 34,
    "_isFastLaunch": false,
    "category": "Accelerated computing",
    "gpuNum": 1,
    "memoryGiB": 61,
    "name": "ml.p3.2xlarge",
    "vcpuNum": 8
   },
   {
    "_defaultOrder": 35,
    "_isFastLaunch": false,
    "category": "Accelerated computing",
    "gpuNum": 4,
    "memoryGiB": 244,
    "name": "ml.p3.8xlarge",
    "vcpuNum": 32
   },
   {
    "_defaultOrder": 36,
    "_isFastLaunch": false,
    "category": "Accelerated computing",
    "gpuNum": 8,
    "memoryGiB": 488,
    "name": "ml.p3.16xlarge",
    "vcpuNum": 64
   },
   {
    "_defaultOrder": 37,
    "_isFastLaunch": false,
    "category": "Accelerated computing",
    "gpuNum": 8,
    "memoryGiB": 768,
    "name": "ml.p3dn.24xlarge",
    "vcpuNum": 96
   },
   {
    "_defaultOrder": 38,
    "_isFastLaunch": false,
    "category": "Memory Optimized",
    "gpuNum": 0,
    "memoryGiB": 16,
    "name": "ml.r5.large",
    "vcpuNum": 2
   },
   {
    "_defaultOrder": 39,
    "_isFastLaunch": false,
    "category": "Memory Optimized",
    "gpuNum": 0,
    "memoryGiB": 32,
    "name": "ml.r5.xlarge",
    "vcpuNum": 4
   },
   {
    "_defaultOrder": 40,
    "_isFastLaunch": false,
    "category": "Memory Optimized",
    "gpuNum": 0,
    "memoryGiB": 64,
    "name": "ml.r5.2xlarge",
    "vcpuNum": 8
   },
   {
    "_defaultOrder": 41,
    "_isFastLaunch": false,
    "category": "Memory Optimized",
    "gpuNum": 0,
    "memoryGiB": 128,
    "name": "ml.r5.4xlarge",
    "vcpuNum": 16
   },
   {
    "_defaultOrder": 42,
    "_isFastLaunch": false,
    "category": "Memory Optimized",
    "gpuNum": 0,
    "memoryGiB": 256,
    "name": "ml.r5.8xlarge",
    "vcpuNum": 32
   },
   {
    "_defaultOrder": 43,
    "_isFastLaunch": false,
    "category": "Memory Optimized",
    "gpuNum": 0,
    "memoryGiB": 384,
    "name": "ml.r5.12xlarge",
    "vcpuNum": 48
   },
   {
    "_defaultOrder": 44,
    "_isFastLaunch": false,
    "category": "Memory Optimized",
    "gpuNum": 0,
    "memoryGiB": 512,
    "name": "ml.r5.16xlarge",
    "vcpuNum": 64
   },
   {
    "_defaultOrder": 45,
    "_isFastLaunch": false,
    "category": "Memory Optimized",
    "gpuNum": 0,
    "memoryGiB": 768,
    "name": "ml.r5.24xlarge",
    "vcpuNum": 96
   },
   {
    "_defaultOrder": 46,
    "_isFastLaunch": false,
    "category": "Accelerated computing",
    "gpuNum": 1,
    "memoryGiB": 16,
    "name": "ml.g5.xlarge",
    "vcpuNum": 4
   },
   {
    "_defaultOrder": 47,
    "_isFastLaunch": false,
    "category": "Accelerated computing",
    "gpuNum": 1,
    "memoryGiB": 32,
    "name": "ml.g5.2xlarge",
    "vcpuNum": 8
   },
   {
    "_defaultOrder": 48,
    "_isFastLaunch": false,
    "category": "Accelerated computing",
    "gpuNum": 1,
    "memoryGiB": 64,
    "name": "ml.g5.4xlarge",
    "vcpuNum": 16
   },
   {
    "_defaultOrder": 49,
    "_isFastLaunch": false,
    "category": "Accelerated computing",
    "gpuNum": 1,
    "memoryGiB": 128,
    "name": "ml.g5.8xlarge",
    "vcpuNum": 32
   },
   {
    "_defaultOrder": 50,
    "_isFastLaunch": false,
    "category": "Accelerated computing",
    "gpuNum": 1,
    "memoryGiB": 256,
    "name": "ml.g5.16xlarge",
    "vcpuNum": 64
   },
   {
    "_defaultOrder": 51,
    "_isFastLaunch": false,
    "category": "Accelerated computing",
    "gpuNum": 4,
    "memoryGiB": 192,
    "name": "ml.g5.12xlarge",
    "vcpuNum": 48
   },
   {
    "_defaultOrder": 52,
    "_isFastLaunch": false,
    "category": "Accelerated computing",
    "gpuNum": 4,
    "memoryGiB": 384,
    "name": "ml.g5.24xlarge",
    "vcpuNum": 96
   },
   {
    "_defaultOrder": 53,
    "_isFastLaunch": false,
    "category": "Accelerated computing",
    "gpuNum": 8,
    "memoryGiB": 768,
    "name": "ml.g5.48xlarge",
    "vcpuNum": 192
   }
  ],
  "instance_type": "ml.t3.medium",
  "kernelspec": {
   "display_name": "Python 3 (Data Science 3.0)",
   "language": "python",
   "name": "python3__SAGEMAKER_INTERNAL__arn:aws:sagemaker:eu-west-3:615547856133:image/sagemaker-data-science-310-v1"
  },
  "language_info": {
   "codemirror_mode": {
    "name": "ipython",
    "version": 3
   },
   "file_extension": ".py",
   "mimetype": "text/x-python",
   "name": "python",
   "nbconvert_exporter": "python",
   "pygments_lexer": "ipython3",
   "version": "3.10.6"
  }
 },
 "nbformat": 4,
 "nbformat_minor": 5
}
