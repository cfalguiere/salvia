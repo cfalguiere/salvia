{
 "cells": [
  {
   "cell_type": "markdown",
   "id": "4be53f08-689d-4441-b916-e45e5f67d1c4",
   "metadata": {},
   "source": [
    "# LangChain Demo - Large documents"
   ]
  },
  {
   "cell_type": "markdown",
   "id": "4e4855ea-f9ce-4ef2-8ab0-6ce1d561229c",
   "metadata": {},
   "source": [
    "## This notebook\n",
    "\n",
    "This notebook collects Python examples using LangChain on large documents, especially those that are larger than the token number limitation.\n",
    "\n",
    "Some changes though:\n",
    "- use Annoy instead of FAISS as a vector database\n",
    "- use Google Search API instead of SerpAPI\n",
    "- change in examples and additional examples \n",
    "- change in API keys setup\n",
    "\n",
    "This notebook has been tested in June 2023 on AWS SageMaker using DataScience 3.0 image.\n",
    "\n",
    "Test environment:\n",
    "> - AWS SageMaker Studio's notebook \n",
    ">> - Kernel image Data Science 3.0\n",
    ">> - t3.medium 2CPU - 4GB\n",
    ">> - Python 3.9.15\n",
    ">> - Linux default 4.14.304-226.531.amzn2.x86_64"
   ]
  },
  {
   "cell_type": "markdown",
   "id": "4f6bc8d1-7040-474b-8409-14eaad21a82e",
   "metadata": {},
   "source": [
    "More informatioon about Langchain and dedicated examples in other bookmarks of the same folder."
   ]
  },
  {
   "cell_type": "markdown",
   "id": "ee5bcf3c-d1bf-47b8-80f4-7593c7763d5c",
   "metadata": {
    "tags": []
   },
   "source": [
    "---\n",
    "<div style=\"background-color:green;color:black;text-align:center;padding:1rem;font-size:1.5rem;\">NOTEBOOK SETUP</div>\n",
    "\n"
   ]
  },
  {
   "cell_type": "markdown",
   "id": "44ce4588-2b08-40bf-88b7-76da7fa28f4b",
   "metadata": {},
   "source": [
    "**Instructions**\n",
    "\n",
    "All setups are at the top of the notebook so that you can run all this section initialize the notebook.\n",
    "\n",
    "Before running the setup you may need to create the following resources\n",
    "- request an OpenAI API keys. OpenAI APIs are not free.\n",
    "\n",
    "Confer to the setup sections for instruction on how to create those resources."
   ]
  },
  {
   "cell_type": "markdown",
   "id": "1b63b30a-99b8-4cb8-a1c9-83804d5a4897",
   "metadata": {},
   "source": [
    "---\n",
    "## API keys and environment\n",
    "\n",
    "Langchain will get the API keys from environment variables or function parameters.\n",
    "\n",
    "**Instructions**\n",
    "\n",
    "- Never show the keys in shared notebooks, whether it part of the code or a log. A simple way to avoid key leakage, is to use environement variables.  You set the environment variable in the terminal or some local configuration. If so you do not have to set the key here.\n",
    "\n",
    "- If it is easier for you to set the key here by assigning the value, do not forget to empty the string right after you run this block. The environment will be kept in memory as long as the kernel runs.\n",
    "\n",
    "- Be careful when printing the keys. Ensure that you remove the outputs. \n",
    "\n",
    "- Before sharing check that the keys are not printed out by some features of the libraries. Avoid to print libraries' objects. They often hold the API keys as a property and may disclose the key value."
   ]
  },
  {
   "cell_type": "markdown",
   "id": "4e3446dc-e402-46df-9ad1-ddd035c5176d",
   "metadata": {},
   "source": [
    "\n",
    "I Store API keys and configuration information in AWS Secrets Manager. The code below retrieves the secret holding the keys. The secret is a JSON string consisting in key/value pairs. It will be used later to set various environnement variables.\n",
    "\n",
    "When using Notebooks and SageMaker do not forget to give permissions to read this secret to SageMaker execution role."
   ]
  },
  {
   "cell_type": "code",
   "execution_count": 4,
   "id": "455dc55c-95fd-4e97-b1e0-ac6cad6720cc",
   "metadata": {},
   "outputs": [
    {
     "name": "stdout",
     "output_type": "stream",
     "text": [
      "Get:1 http://deb.debian.org/debian bullseye InRelease [116 kB]\n",
      "Get:2 http://deb.debian.org/debian-security bullseye-security InRelease [48.4 kB]\n",
      "Get:3 http://deb.debian.org/debian bullseye-updates InRelease [44.1 kB]\n",
      "Get:4 http://deb.debian.org/debian bullseye/main amd64 Packages [8183 kB]\n",
      "Get:5 http://deb.debian.org/debian-security bullseye-security/main amd64 Packages [252 kB]\n",
      "Get:6 http://deb.debian.org/debian bullseye-updates/main amd64 Packages [14.8 kB]\n",
      "Fetched 8658 kB in 2s (4805 kB/s)\n",
      "Reading package lists... Done\n",
      "debconf: delaying package configuration, since apt-utils is not installed\n"
     ]
    }
   ],
   "source": [
    "!apt-get update && apt-get install -y jq 1>/dev/null"
   ]
  },
  {
   "cell_type": "code",
   "execution_count": 5,
   "id": "05387504-2a95-48d9-a140-bf1214113419",
   "metadata": {},
   "outputs": [],
   "source": [
    "%%bash --out secrets \n",
    "# using AWS's Secret Manager to store keys\n",
    "# garb the keys and store it into a Pytthon variable\n",
    "export RESPONSE=$(aws secretsmanager get-secret-value --secret-id 'salvia/labbench/tests' )\n",
    "export SECRETS=$( echo $RESPONSE | jq '.SecretString | fromjson')\n",
    "\n",
    "echo $SECRETS"
   ]
  },
  {
   "cell_type": "markdown",
   "id": "3afda12d-e8d0-4b56-97b8-cc2bb9b11886",
   "metadata": {},
   "source": [
    "---\n",
    "## pip upgrade"
   ]
  },
  {
   "cell_type": "code",
   "execution_count": 6,
   "id": "cedac5a8-cbb3-4944-9588-70bba96b5427",
   "metadata": {},
   "outputs": [
    {
     "name": "stdout",
     "output_type": "stream",
     "text": [
      "\u001b[33mWARNING: Running pip as the 'root' user can result in broken permissions and conflicting behaviour with the system package manager. It is recommended to use a virtual environment instead: https://pip.pypa.io/warnings/venv\u001b[0m\u001b[33m\n",
      "\u001b[0m"
     ]
    }
   ],
   "source": [
    "!pip install --upgrade pip  1>/dev/null"
   ]
  },
  {
   "cell_type": "markdown",
   "id": "c9d191a9-20a6-4936-bfff-bd7af4a6d841",
   "metadata": {},
   "source": [
    "---\n",
    "## LangChain Setup\n",
    "\n",
    "**Resources**\n",
    "> - [LangChain GetStarted](https://python.langchain.com/docs/get_started/quickstart)"
   ]
  },
  {
   "cell_type": "code",
   "execution_count": 7,
   "id": "182a1dfe-8dd0-43df-896e-b55cc1082d8b",
   "metadata": {},
   "outputs": [
    {
     "name": "stdout",
     "output_type": "stream",
     "text": [
      "\u001b[33mWARNING: Running pip as the 'root' user can result in broken permissions and conflicting behaviour with the system package manager. It is recommended to use a virtual environment instead: https://pip.pypa.io/warnings/venv\u001b[0m\u001b[33m\n",
      "\u001b[0m"
     ]
    }
   ],
   "source": [
    "!pip install langchain==0.0.230 1>/dev/null"
   ]
  },
  {
   "cell_type": "markdown",
   "id": "beb12210-e03e-484b-a9a1-99bde5c89e07",
   "metadata": {},
   "source": [
    "---\n",
    "## OpenAI Setup\n",
    "\n",
    "**Resources**\n",
    "> - [OpenAI tutorial on API keys](https://platform.openai.com/docs/quickstart)\n",
    "> - [OpenAI package on Pypi](https://pypi.org/project/openai/)"
   ]
  },
  {
   "cell_type": "code",
   "execution_count": 8,
   "id": "49c8600b-40c2-436f-9b6d-877acbc6772a",
   "metadata": {},
   "outputs": [],
   "source": [
    "import os\n",
    "\n",
    "os.environ[\"OPENAI_API_KEY\"] = eval(secrets)[\"OPENAI_API_KEY\"]\n"
   ]
  },
  {
   "cell_type": "code",
   "execution_count": 9,
   "id": "76830f58-508e-400b-83e6-aedd8a608041",
   "metadata": {},
   "outputs": [
    {
     "name": "stdout",
     "output_type": "stream",
     "text": [
      "\u001b[33mWARNING: Running pip as the 'root' user can result in broken permissions and conflicting behaviour with the system package manager. It is recommended to use a virtual environment instead: https://pip.pypa.io/warnings/venv\u001b[0m\u001b[33m\n",
      "\u001b[0m"
     ]
    }
   ],
   "source": [
    "!pip install openai==0.27.8 1>/dev/null"
   ]
  },
  {
   "cell_type": "markdown",
   "id": "8ada3f8d-28b9-45dc-ac51-d84c9f5eeb8a",
   "metadata": {},
   "source": [
    "---\n",
    "## Setup Annoy as a vector database \n",
    "\n",
    "Some examples requires a Vector Database (document selector, document retrieval).\n",
    "\n",
    "LangChain use ChromaDB by default. For whatever reason it failed to install. Used Annoy instead. An alterntive is FAIIS. You may also want to use online Vector database like Pinecone or Weaviate. \n",
    "\n",
    "Most of these packages include c++ code and requires GCC at the install time. It is not included in SageMaker DataScience 3 image. So the first step is installing GCC. \n",
    "\n",
    "NOTE: Annoy is read-only - once the index is built you cannot add any more emebddings.\n",
    "\n",
    "<br/>\n",
    "\n",
    "**Resources**\n",
    "> - [Annoy package on Pypi](https://pypi.org/project/annoy/)"
   ]
  },
  {
   "cell_type": "markdown",
   "id": "0a2480e2-c802-41c1-9259-0b5ab309e92c",
   "metadata": {},
   "source": [
    "***Note***\n",
    "\n",
    "having some issues with ChromaDB. Langchain and ChromaDB seems to require different versions of pydantic."
   ]
  },
  {
   "cell_type": "markdown",
   "id": "ae69710b-6a99-4c3d-b0de-3676f18705c3",
   "metadata": {},
   "source": [
    "Install GCC C++ compiler"
   ]
  },
  {
   "cell_type": "code",
   "execution_count": 10,
   "id": "2673009f-b132-487b-9640-c8451a523fcd",
   "metadata": {},
   "outputs": [
    {
     "name": "stdout",
     "output_type": "stream",
     "text": [
      "Hit:1 http://deb.debian.org/debian bullseye InRelease\n",
      "Hit:2 http://deb.debian.org/debian-security bullseye-security InRelease\n",
      "Hit:3 http://deb.debian.org/debian bullseye-updates InRelease\n",
      "Reading package lists... Done\n",
      "debconf: delaying package configuration, since apt-utils is not installed\n"
     ]
    }
   ],
   "source": [
    "!apt-get update && apt-get install -y build-essential 1>/dev/null"
   ]
  },
  {
   "cell_type": "markdown",
   "id": "774afcaa-ed03-4243-9df2-bff4b1874055",
   "metadata": {},
   "source": [
    "Install Annoy"
   ]
  },
  {
   "cell_type": "code",
   "execution_count": 11,
   "id": "f551d3b3-f808-4aa8-821c-0e812e4be533",
   "metadata": {},
   "outputs": [
    {
     "name": "stdout",
     "output_type": "stream",
     "text": [
      "\u001b[33mWARNING: Running pip as the 'root' user can result in broken permissions and conflicting behaviour with the system package manager. It is recommended to use a virtual environment instead: https://pip.pypa.io/warnings/venv\u001b[0m\u001b[33m\n",
      "\u001b[0mNote: you may need to restart the kernel to use updated packages.\n"
     ]
    }
   ],
   "source": [
    "pip install annoy==1.17.3 1>/dev/null"
   ]
  },
  {
   "cell_type": "markdown",
   "id": "65d5c621-68b9-4921-99ba-b938798336e6",
   "metadata": {},
   "source": [
    "---\n",
    "## Setup ChromaDB as a vector database \n",
    "\n",
    "force the vrsion in order to workaround the issue with Pydanic version"
   ]
  },
  {
   "cell_type": "code",
   "execution_count": 12,
   "id": "93ad2ac6-a92c-4302-8f21-df49ffbfe921",
   "metadata": {
    "tags": []
   },
   "outputs": [
    {
     "name": "stdout",
     "output_type": "stream",
     "text": [
      "\u001b[33mWARNING: Running pip as the 'root' user can result in broken permissions and conflicting behaviour with the system package manager. It is recommended to use a virtual environment instead: https://pip.pypa.io/warnings/venv\u001b[0m\u001b[33m\n",
      "\u001b[0mNote: you may need to restart the kernel to use updated packages.\n"
     ]
    }
   ],
   "source": [
    "pip install chromadb==0.3.26 1>/dev/null"
   ]
  },
  {
   "cell_type": "markdown",
   "id": "94b22ddd-695d-466f-8e79-de34d9153d0e",
   "metadata": {},
   "source": [
    "## Setup additional text managelment tools\n",
    "\n",
    "When working with embeddings additonal packages are required.\n",
    "\n",
    "- tiktoken, as a encoder and tokenizer\n",
    "\n",
    "**Resources**\n",
    "> - [Tiktoken package on Pypi](https://pypi.org/project/tiktoken/)\n",
    "\n",
    " "
   ]
  },
  {
   "cell_type": "code",
   "execution_count": 13,
   "id": "93824e53-9959-4921-99e9-a625ec41c92d",
   "metadata": {
    "tags": []
   },
   "outputs": [
    {
     "name": "stdout",
     "output_type": "stream",
     "text": [
      "\u001b[33mWARNING: Running pip as the 'root' user can result in broken permissions and conflicting behaviour with the system package manager. It is recommended to use a virtual environment instead: https://pip.pypa.io/warnings/venv\u001b[0m\u001b[33m\n",
      "\u001b[0m"
     ]
    }
   ],
   "source": [
    "!pip install tiktoken==0.4.0 1>/dev/null"
   ]
  },
  {
   "cell_type": "markdown",
   "id": "3d87fde9-0bf5-48f8-8d42-4cc5bf9fa07a",
   "metadata": {},
   "source": [
    "---\n",
    "<div style=\"background-color:green;color:black;text-align:center;padding:1rem;font-size:1.5rem;\">\n",
    "BASIC CONCEPTS\n",
    "</div>\n",
    "\n",
    "https://archive.org/stream/alicesadventur00carr/alicesadventur00carr_djvu.txt\n",
    "\n",
    "https://archive.org/download/alicesadventur00carr/alicesadventur00carr.pdf\n",
    "\n",
    "https://archive.org/download/alicesadventur00carr/alicesadventur00carr_meta.xml"
   ]
  },
  {
   "cell_type": "markdown",
   "id": "5e9c5719-b435-4460-aee5-e404edf2f00e",
   "metadata": {},
   "source": [
    "---\n",
    "## Download example documents once\n",
    "\n",
    "Download a book from the Internet Archive"
   ]
  },
  {
   "cell_type": "code",
   "execution_count": 23,
   "id": "f69f9aff-6860-453d-ae13-76734a456939",
   "metadata": {
    "tags": []
   },
   "outputs": [],
   "source": [
    "!mkdir -p work/largedoc/data"
   ]
  },
  {
   "cell_type": "code",
   "execution_count": 20,
   "id": "632173ea-cc57-49bc-926e-e7ab7070a993",
   "metadata": {
    "tags": []
   },
   "outputs": [
    {
     "name": "stdout",
     "output_type": "stream",
     "text": [
      "  % Total    % Received % Xferd  Average Speed   Time    Time     Time  Current\n",
      "                                 Dload  Upload   Total   Spent    Left  Speed\n",
      "100 29923  100 29923    0     0  29509      0  0:00:01  0:00:01 --:--:-- 29509\n"
     ]
    }
   ],
   "source": [
    "!curl  https://ia800307.us.archive.org/17/items/aliceinwonderlan00carriala/aliceinwonderlan00carriala_djvu.txt \\\n",
    " -o work/largedoc/data/alice_in_wonderland.txt"
   ]
  },
  {
   "cell_type": "code",
   "execution_count": 6,
   "id": "c160ef5f-23c8-434c-bfe1-d2558239d549",
   "metadata": {
    "tags": []
   },
   "outputs": [
    {
     "name": "stdout",
     "output_type": "stream",
     "text": [
      "alice_in_wonderland.txt\n"
     ]
    }
   ],
   "source": [
    "!ls work/largedoc/data"
   ]
  },
  {
   "cell_type": "markdown",
   "id": "cf85d6f3-4cb8-49ed-9198-5a87f42c78ca",
   "metadata": {},
   "source": [
    "---\n",
    "## Common initializations"
   ]
  },
  {
   "cell_type": "code",
   "execution_count": 14,
   "id": "998fea8a-6f86-4604-a776-03af2620248f",
   "metadata": {
    "tags": []
   },
   "outputs": [
    {
     "name": "stdout",
     "output_type": "stream",
     "text": [
      "work/largedoc/data\n"
     ]
    }
   ],
   "source": [
    "notebook_folder = \"work/largedoc\"\n",
    "documents_folder = f\"{notebook_folder}/data\"\n",
    "\n",
    "print(documents_folder)"
   ]
  },
  {
   "cell_type": "markdown",
   "id": "0c0d7d88-1b52-45e6-93c8-ddb1c5500b26",
   "metadata": {},
   "source": [
    "---\n",
    "# Document loaders\n",
    "\n",
    "Loaders are an easy ways to import documents from other sources \n",
    "and make it available for use in your language models. There are lot of loadre type.\n",
    "\n",
    "**Resources**\n",
    "> - Document Loaders: https://python.langchain.com/docs/modules/data_connection/document_loaders\n",
    "> - List of loaders: https://github.com/hwchase17/langchain/tree/master/langchain/document_loaders"
   ]
  },
  {
   "cell_type": "code",
   "execution_count": 22,
   "id": "b1f07304-fb6e-4021-8aa6-4c5998f57a5f",
   "metadata": {
    "tags": []
   },
   "outputs": [
    {
     "name": "stdout",
     "output_type": "stream",
     "text": [
      "length=29258\n",
      "num_tokens=20373\n"
     ]
    }
   ],
   "source": [
    "from langchain.llms import OpenAI\n",
    "from langchain.document_loaders import TextLoader\n",
    "\n",
    "# Note, the default model is already 'text-davinci-003' \n",
    "# temperature 0 means no randomness\n",
    "llm = OpenAI(temperature=0, model_name='text-davinci-003')\n",
    "\n",
    "# This is the source document.    \n",
    "document_path = f\"{documents_folder}/alice_in_wonderland.txt\"\n",
    " \n",
    "# Setup a text loader\n",
    "loader = TextLoader(document_path)\n",
    "alice_documents = loader.load()\n",
    "\n",
    "text = alice_documents[0].page_content\n",
    "\n",
    "# check the length\n",
    "length = len(text)\n",
    "print(f\"{length=}\")\n",
    "\n",
    "# check the number of tokens\n",
    "num_tokens = llm.get_num_tokens(text)\n",
    "print(f\"{num_tokens=}\")"
   ]
  },
  {
   "cell_type": "markdown",
   "id": "8f3a172b-2d10-4d93-870b-c190736ea184",
   "metadata": {},
   "source": [
    "---\n",
    "# Summaries Of long Text\n",
    "If the text is longer than the limit in tokens, the text must be splitted in chunks. \n",
    "Langchain components will take care of splitting and chaining the summarization tasks.\n",
    "\n",
    "The Summarization Chain breaks the text into smaller chunks and summarizing each chunk, creating a final summary based on the individual summaries.\n",
    "\n",
    "In this example, the chain first splits the essay into chunks of 2000 characters. It then generates summaries for each chunk and creates a final concise summary based on these individual summaries.\n",
    "\n",
    "<br/>\n",
    "**Resources**\n",
    "\n",
    "> - Qummarization quickstart: https://python.langchain.com/docs/modules/chains/popular/summarize"
   ]
  },
  {
   "cell_type": "markdown",
   "id": "97399e9b-972d-43a5-9344-c707e3cd7168",
   "metadata": {},
   "source": [
    "## Summary with default prompt"
   ]
  },
  {
   "cell_type": "code",
   "execution_count": 24,
   "id": "d9cf1066-edc4-4877-ab5a-e23cb9940317",
   "metadata": {
    "tags": []
   },
   "outputs": [
    {
     "name": "stdout",
     "output_type": "stream",
     "text": [
      "num_texts=16\n"
     ]
    }
   ],
   "source": [
    "from langchain.text_splitter import RecursiveCharacterTextSplitter\n",
    "\n",
    "# Get your splitter ready\n",
    "text_splitter = RecursiveCharacterTextSplitter(chunk_size=2000, chunk_overlap=100)\n",
    " \n",
    "# Split your docs into texts\n",
    "texts = text_splitter.split_documents(alice_documents)\n",
    "\n",
    "# check texts\n",
    "num_texts = len(texts)\n",
    "print(f\"{num_texts=}\")\n"
   ]
  },
  {
   "cell_type": "code",
   "execution_count": 25,
   "id": "d6e5c3c0-f928-43be-8519-c480d6848f3f",
   "metadata": {
    "tags": []
   },
   "outputs": [
    {
     "name": "stdout",
     "output_type": "stream",
     "text": [
      " Alice in Wonderland is a classic novel by Lewis Carroll about a girl named Alice who falls down a rabbit hole and embarks on a journey of self-discovery. Along the way, she meets a variety of strange creatures and experiences surreal events. The book has been digitized by the University of California Los Angeles and contains a poem, \"Down the Rabbit-Hole,\" and other stories such as \"The Pool of Tears,\" \"A Caucus Race and a Long Tale,\" and \"Alice's Evidence.\" Alice must use her wit and courage to make it through the strange and mysterious world of Wonderland.\n"
     ]
    }
   ],
   "source": [
    "from langchain import PromptTemplate\n",
    "from langchain.chains.summarize import load_summarize_chain\n",
    "\n",
    "# the attribute map_reduce instruct the chain to \n",
    "# - first apply the model to each chunck (map stage) \n",
    "# - then all map results and apply the model (reduce stage)\n",
    "chain = load_summarize_chain(\n",
    "    llm, \n",
    "    chain_type=\"map_reduce\", \n",
    "    verbose=False)\n",
    "\n",
    "# run the chain against all the document chunks\n",
    "summary = chain.run(texts)\n",
    "\n",
    "print(summary)"
   ]
  },
  {
   "cell_type": "markdown",
   "id": "95914e6c-68a4-46db-8767-138eb4c17722",
   "metadata": {},
   "source": [
    "**ÖUTPUT**\n",
    "\n",
    "Typical response\n",
    "\n",
    " Alice in Wonderland is a classic novel by Lewis Carroll about a girl named Alice who falls down a rabbit hole and embarks on a journey of self-discovery. Along the way, she meets a variety of strange creatures and experiences surreal events. The book has been digitized by the University of California Los Angeles and contains a poem, \"Down the Rabbit-Hole,\" and other stories such as \"The Pool of Tears,\" \"A Caucus Race and a Long Tale,\" and \"Alice's Evidence.\" Alice must use her wit and courage to make it through the strange and mysterious world of Wonderland."
   ]
  },
  {
   "cell_type": "markdown",
   "id": "5b11d9e1-dcf0-49d7-b262-4911644a87fc",
   "metadata": {},
   "source": [
    "## Summary with prompt engineering"
   ]
  },
  {
   "cell_type": "code",
   "execution_count": 28,
   "id": "48b4eb9d-23a2-4f26-a77b-2d8d4ba8cde4",
   "metadata": {
    "tags": []
   },
   "outputs": [
    {
     "name": "stdout",
     "output_type": "stream",
     "text": [
      "\n",
      "Alice in Wonderland is a classic novel by Lewis Carroll that follows the story of Alice, a young girl who falls down a rabbit hole and finds herself in a strange and magical world. Along the way, she meets a variety of characters, including the White Rabbit, the Caterpillar, the Cheshire Cat, the Mad Hatter, the Queen of Hearts, and the Mock Turtle. Through her adventures, Alice learns valuable lessons about life and the importance of being true to oneself. The characters in the story are Alice, the White Rabbit, the Caterpillar, the Cheshire Cat, the Mad Hatter, the Queen of Hearts, and the Mock Turtle. Each character has their own unique personality and provides Alice with advice and guidance as she navigates her way through Wonderland.\n"
     ]
    }
   ],
   "source": [
    "from langchain import PromptTemplate\n",
    "from langchain.chains.summarize import load_summarize_chain\n",
    "\n",
    "# setup a custom prompt\n",
    "# the Summarization Chain provides a defaults prompt: write a concise summary.\n",
    "prompt_template = \"\"\"Write a pedantic summary of the following text. \n",
    "Describe characters.\n",
    "\n",
    "% TEXT:\n",
    "\n",
    "{text}\n",
    "\"\"\"\n",
    "\n",
    "prompt = PromptTemplate(template=prompt_template, input_variables=[\"text\"])\n",
    "\n",
    "# the attribute map_reduce instruct the chain to \n",
    "# - first apply the model to each chunck (map stage) \n",
    "# - then all map results and apply the model (reduce stage)\n",
    "chain = load_summarize_chain(\n",
    "    llm, \n",
    "    chain_type=\"map_reduce\", \n",
    "    map_prompt=prompt, \n",
    "    combine_prompt=prompt, \n",
    "    verbose=False)\n",
    "\n",
    "# run the chain against all the document chunks\n",
    "summary = chain.run(texts)\n",
    "\n",
    "print(summary)"
   ]
  },
  {
   "cell_type": "markdown",
   "id": "3fd5539d-41f5-4f4c-8919-7e8be5eaf040",
   "metadata": {},
   "source": [
    "**OUTPUT**\n",
    "\n",
    "Typical response\n",
    "\n",
    "\n",
    "Alice in Wonderland is a classic novel by Lewis Carroll that follows the story of Alice, a young girl who falls down a rabbit hole and finds herself in a strange and magical world. Along the way, she meets a variety of characters, including the White Rabbit, the Caterpillar, the Cheshire Cat, the Mad Hatter, the Queen of Hearts, and the Mock Turtle. Through her adventures, Alice learns valuable lessons about life and the importance of being true to oneself. The characters in the story are Alice, the White Rabbit, the Caterpillar, the Cheshire Cat, the Mad Hatter, the Queen of Hearts, and the Mock Turtle. Each character has their own unique personality and provides Alice with advice and guidance as she navigates her way through Wonderland."
   ]
  },
  {
   "cell_type": "markdown",
   "id": "ed4cc32a-4479-4164-bd60-7763a1613e58",
   "metadata": {},
   "source": [
    "---\n",
    "# Complex search on large document\n"
   ]
  },
  {
   "cell_type": "markdown",
   "id": "971f88a8-fb81-44ec-ac2d-bb8778482ea7",
   "metadata": {},
   "source": [
    "## List characters using summary and a prompt"
   ]
  },
  {
   "cell_type": "code",
   "execution_count": 39,
   "id": "b7983751-bf7c-4aa3-8913-613dc34610ab",
   "metadata": {
    "tags": []
   },
   "outputs": [
    {
     "name": "stdout",
     "output_type": "stream",
     "text": [
      "\n",
      "- The Cheshire Cat: A mischievous cat who appears and disappears at will. He is often seen grinning and is known for his clever riddles. \n",
      "\n",
      "- The Queen of Hearts: The Queen of Hearts is the ruler of Wonderland. She is a fierce and powerful ruler who is often seen as a tyrant. \n",
      "\n",
      "- The White Rabbit: The White Rabbit is a frantic creature who is always running late. He is often seen carrying a pocket watch and is known for his nervousness.\n"
     ]
    }
   ],
   "source": [
    "from langchain import PromptTemplate\n",
    "from langchain.chains.summarize import load_summarize_chain\n",
    "\n",
    "# setup a custom prompt\n",
    "# the Summarization Chain provides a defaults prompt: write a concise summary.\n",
    "prompt_template = \"\"\"\n",
    "Output a list of all characters. Describe each character. \n",
    "\n",
    "Expected response format:\n",
    "- character name: character description\n",
    "\n",
    "% TEXT:\n",
    "\n",
    "{text}\n",
    "\"\"\"\n",
    "\n",
    "prompt = PromptTemplate(template=prompt_template, input_variables=[\"text\"])\n",
    "\n",
    "# the attribute map_reduce instruct the chain to \n",
    "# - first apply the model to each chunck (map stage) \n",
    "# - then all map results and apply the model (reduce stage)\n",
    "chain = load_summarize_chain(\n",
    "    llm, \n",
    "    chain_type=\"map_reduce\", \n",
    "    map_prompt=prompt, \n",
    "    combine_prompt=prompt, \n",
    "    verbose=False)\n",
    "\n",
    "# run the chain against all the document chunks\n",
    "summary = chain.run(texts)\n",
    "\n",
    "print(summary)"
   ]
  },
  {
   "cell_type": "markdown",
   "id": "e3090fe5-8777-42cc-814c-6120e2d8e2da",
   "metadata": {},
   "source": [
    "**OUTPUT**\n",
    "\n",
    "Weird response. Alice is missing.\n",
    "\n",
    "```\n",
    "- The White Rabbit: The White Rabbit is a character who Alice meets in the woods. He is known for his frantic behavior and his tendency to be late. \n",
    "\n",
    "- The Cheshire Cat: The Cheshire Cat is a mysterious creature who Alice meets in the woods. He is known for his mischievous behavior and his ability to disappear and reappear at will.\n",
    "```"
   ]
  },
  {
   "cell_type": "markdown",
   "id": "199a92b3-024e-4b9e-a784-20070ef9415a",
   "metadata": {},
   "source": [
    "## List characters using summary and two prompt"
   ]
  },
  {
   "cell_type": "code",
   "execution_count": 41,
   "id": "d42bfa0b-9872-4368-af12-6610dbd9b459",
   "metadata": {
    "tags": []
   },
   "outputs": [
    {
     "name": "stdout",
     "output_type": "stream",
     "text": [
      "\n",
      "Found 16 part(s)\n",
      "\n",
      "• The Queen of Hearts - The Queen of Hearts is the ruler of Wonderland. She is known for her temper and her love of executions. \n",
      "\n",
      "• The White Rabbit - The White Rabbit is a talking rabbit who Alice follows into Wonderland. He is known for his frantic behavior and his tendency to be late. \n",
      "\n",
      "• The Mad Hatter - The Mad Hatter is a strange character who hosts a tea party with the March Hare and the Dormouse. He is known for his strange behavior and his nonsensical riddles. \n",
      "\n",
      "• The March Hare - The March Hare is a character who attends the Mad Hatter's tea party. He is known for his mischievous behavior and his tendency to play tricks on Alice. \n",
      "\n",
      "• Tweedledee and Tweedledum - Tweedledee and Tweedledum are two strange characters who Alice meets in the woods. They are known for their nonsensical conversations and their tendency to argue with each other. \n",
      "\n",
      "• The Cheshire Cat - The Cheshire Cat is a mysterious cat who appears and disappears at will. He is known for his enigmatic smile and his ability to answer Alice's questions.\n"
     ]
    }
   ],
   "source": [
    "from langchain.llms import OpenAI\n",
    "from langchain import PromptTemplate\n",
    "from langchain.chains.summarize import load_summarize_chain\n",
    "from langchain.text_splitter import RecursiveCharacterTextSplitter\n",
    " \n",
    "# Note, the default model is already 'text-davinci-003' \n",
    "# temperature 0 means no randomness\n",
    "llm = OpenAI(temperature=0.3, model_name='text-davinci-003')\n",
    "\n",
    "# Get your splitter ready\n",
    "text_splitter = RecursiveCharacterTextSplitter(chunk_size=2000, chunk_overlap=100)\n",
    " \n",
    "# Split your docs into texts\n",
    "texts = text_splitter.split_documents(alice_documents)\n",
    "print(f\"\\nFound {len(texts)} part(s)\")\n",
    "\n",
    "\n",
    "# setup. a custom prompt\n",
    "# the Summarization Chain provides a defaults prompt: write a concise summary.\n",
    "map_prompt_template = \"\"\"\n",
    "List all the characters.\n",
    "Output the list of characters as a bullet points list which shows the name and description of the characters. \n",
    "\n",
    "% TEXT:\n",
    "\n",
    "{text}\n",
    "\"\"\"\n",
    "\n",
    "map_prompt = PromptTemplate(template=map_prompt_template, input_variables=[\"text\"])\n",
    "\n",
    "\n",
    "# setup. a custom prompt\n",
    "# the Summarization Chain provides a defaults prompt: write a concise summary.\n",
    "# elements of the list of sample will diseapper from the list \n",
    "combine_prompt_template = \"\"\"\n",
    "Merge all characters lists.\n",
    "Output the list of characters as a bullet points list which shows the name and description of the characters. \n",
    "\n",
    "% TEXT:\n",
    "\n",
    "{text}\n",
    "\"\"\"\n",
    "\n",
    "combine_prompt = PromptTemplate(template=combine_prompt_template, input_variables=[\"text\"])\n",
    "\n",
    "\n",
    "# the attribute map_reduce instruct the chain to \n",
    "# - first apply the model to each chunck (map stage) \n",
    "# - then all map results and apply the model (reduce stage)\n",
    "chain = load_summarize_chain(\n",
    "    llm, \n",
    "    chain_type=\"map_reduce\", \n",
    "    map_prompt=map_prompt, \n",
    "    combine_prompt=combine_prompt, \n",
    "    verbose=False)\n",
    "\n",
    "# run the chain against all the document chunks\n",
    "summary = chain.run(texts)\n",
    "\n",
    "print(summary)"
   ]
  },
  {
   "cell_type": "code",
   "execution_count": null,
   "id": "8df8a79c-c1b6-4a95-a77a-03f5c9a10eaf",
   "metadata": {},
   "outputs": [],
   "source": [
    "**OUTPUT**\n",
    "\n",
    "May give random answers\n",
    "\n",
    "```\n",
    "- Muff Potter: An alcoholic who is falsely accused of murder.\n",
    "- Widow Douglas: A kind woman who takes in Huckleberry Finn and tries to civilize him.\n",
    "\n",
    "Merged Character List:\n",
    "- Wayback Machine: a digital archive of the World Wide Web and other information on the Internet. \n",
    "- Internet Archive: a non-profit organization that maintains the Wayback Machine. \n",
    "- Safari: a web archiving service. \n",
    "- Edge: a web archiving service. \n",
    "- Archive-It: a subscription service for archiving websites. \n",
    "- Michael Hart: Founder of Project Gutenberg\n",
    "- Volunteers: People from around the world who contribute to the project\n",
    "- Tom Sawyer: A young, mischievous boy growing up in the fictional town of St. Petersburg.\n",
    "- Joe Harper: Tom's best friend.\n",
    "- Huckleberry Finn: Tom's other best friend.\n",
    "- Becky Thatcher: A girl Tom has a crush on.\n",
    "- Aunt Polly: Tom's strict but loving guardian.\n",
    "- Injun Joe: The villain of the novel, Injun Joe is a dangerous and cruel man.\n",
    "- Alice: protagonist of the story; she is a young girl who falls down a rabbit-\n",
    "```\n",
    "\n",
    "````\n",
    "- The Duke and the King: Two con artists who Huck meets on his journey.\n",
    "- Pap Finn: Huck's drunken and abusive father.\n",
    "- Widow Douglas and Miss Watson: Two kind-hearted women who take Huck in.\n",
    "- Tom Sawyer: Huck's best friend and a mischievous young boy.\n",
    "- The Shepherdson Family: A rival family of the Grangerfords.\n",
    "- The Judge: A kind-hearted judge who helps Huck and Jim.\n",
    "- The Grangerford Children: A large family of children who Huck meets on his journey.\n",
    "- The Wilks Sisters: Three young girls who Huck meets on his journey.\n",
    "- The Grangerford Servants: A group of servants who work for the Grangerfords.\n",
    "- The Grangerford Dogs: A pack of dogs who accompany the Grangerfords on their travels.\n",
    "- The Boggs Family: A family of farmers who Huck meets on his journey.\n",
    "- The Phelps Family: A family of farmers who Huck meets on his journey.\n",
    "```"
   ]
  },
  {
   "cell_type": "markdown",
   "id": "57896107-ff51-4bb3-bc38-4cea0bb7f030",
   "metadata": {},
   "source": [
    "## List characters using formatted output"
   ]
  },
  {
   "cell_type": "code",
   "execution_count": 43,
   "id": "eed9ef0b-560d-49c9-9515-68d481484544",
   "metadata": {
    "tags": []
   },
   "outputs": [
    {
     "name": "stdout",
     "output_type": "stream",
     "text": [
      "\n",
      "Found 16 part(s)\n",
      "\n",
      "Response\n",
      "\n",
      "Answer: Alice, a young girl who falls down a rabbit hole and discovers a magical world; The White Rabbit, a talking rabbit who wears a waistcoat and carries a pocket watch; The Caterpillar, a large blue caterpillar who smokes a hookah and gives Alice advice; The Cheshire Cat, a mysterious cat with a wide grin who can disappear and reappear at will; The Mad Hatter, a mad tea party host who wears a top hat and speaks in riddles; The March Hare, a mad tea party guest who is always late; The Queen of Hearts, a tyrannical ruler who is obsessed with beheading people; The King of Hearts, the Queen's husband who is easily manipulated; The Duchess, a rude and unpleasant woman who is the Queen's advisor; The Gryphon, a strange creature who takes Alice to the Mock Turtle; The Mock Turtle, a sad creature who tells Alice stories of his past; The Jabberwocky, a terrifying creature that Alice must face in order to escape Wonderland; Tweedledum and Tweedledee, two characters who Alice meets in the forest; The Lobster Quadrille, a dance performed by the Mock Turtle and his friend; Humpty Dumpty, a character who Alice\n",
      "\n",
      "Characters\n",
      "['Answer: Alice', 'a young girl who falls down a rabbit hole and discovers a magical world; The White Rabbit', 'a talking rabbit who wears a waistcoat and carries a pocket watch; The Caterpillar', 'a large blue caterpillar who smokes a hookah and gives Alice advice; The Cheshire Cat', 'a mysterious cat with a wide grin who can disappear and reappear at will; The Mad Hatter', 'a mad tea party host who wears a top hat and speaks in riddles; The March Hare', 'a mad tea party guest who is always late; The Queen of Hearts', 'a tyrannical ruler who is obsessed with beheading people; The King of Hearts', \"the Queen's husband who is easily manipulated; The Duchess\", \"a rude and unpleasant woman who is the Queen's advisor; The Gryphon\", 'a strange creature who takes Alice to the Mock Turtle; The Mock Turtle', 'a sad creature who tells Alice stories of his past; The Jabberwocky', 'a terrifying creature that Alice must face in order to escape Wonderland; Tweedledum and Tweedledee', 'two characters who Alice meets in the forest; The Lobster Quadrille', 'a dance performed by the Mock Turtle and his friend; Humpty Dumpty', 'a character who Alice']\n"
     ]
    }
   ],
   "source": [
    "from langchain.llms import OpenAI\n",
    "from langchain import PromptTemplate\n",
    "from langchain.chains.summarize import load_summarize_chain\n",
    "from langchain.text_splitter import RecursiveCharacterTextSplitter\n",
    "from langchain.output_parsers import CommaSeparatedListOutputParser\n",
    "\n",
    "\n",
    "# Note, the default model is already 'text-davinci-003' \n",
    "# temperature 0 means no randomness\n",
    "llm = OpenAI(temperature=0.3, model_name='text-davinci-003')\n",
    "\n",
    "# Get your splitter ready\n",
    "text_splitter = RecursiveCharacterTextSplitter(chunk_size=2000, chunk_overlap=100)\n",
    " \n",
    "# Split your docs into texts\n",
    "texts = text_splitter.split_documents(alice_documents)\n",
    "print(f\"\\nFound {len(texts)} part(s)\")\n",
    "\n",
    "# stup a parser\n",
    "output_parser = CommaSeparatedListOutputParser()\n",
    "format_instructions = output_parser.get_format_instructions()\n",
    "\n",
    "# setup. a custom prompt\n",
    "# the Summarization Chain provides a defaults prompt: write a concise summary.\n",
    "map_prompt_template = \"\"\"\n",
    "List all the characters.\n",
    "Output the name and description of the characters. \n",
    "\n",
    "{format_instructions}\n",
    "\n",
    "% TEXT:\n",
    "\n",
    "{text}\n",
    "\"\"\"\n",
    "\n",
    "map_prompt = PromptTemplate(template=map_prompt_template, \n",
    "                        input_variables=[\"text\"],\n",
    "                        partial_variables={\"format_instructions\": format_instructions}\n",
    "                       )\n",
    "\n",
    "# setup. a custom prompt\n",
    "# the Summarization Chain provides a defaults prompt: write a concise summary.\n",
    "# elements of the list of sample will diseapper from the list \n",
    "combine_prompt_template = \"\"\"\n",
    "Merge all characters lists.\n",
    "Output the list of characters as a bullet points list which shows the name and description of the characters. \n",
    "\n",
    "{format_instructions}\n",
    "\n",
    "% TEXT:\n",
    "\n",
    "{text}\n",
    "\"\"\"\n",
    "\n",
    "combine_prompt = PromptTemplate(template=combine_prompt_template, \n",
    "                        input_variables=[\"text\"],\n",
    "                        partial_variables={\"format_instructions\": format_instructions}\n",
    "                       )\n",
    "\n",
    "\n",
    "# the attribute map_reduce instruct the chain to \n",
    "# - first apply the model to each chunck (map stage) \n",
    "# - then all map results and apply the model (reduce stage)\n",
    "chain = load_summarize_chain(\n",
    "    llm, \n",
    "    chain_type=\"map_reduce\", \n",
    "    map_prompt=map_prompt, \n",
    "    combine_prompt=combine_prompt, \n",
    "    verbose=False)\n",
    "\n",
    "# run the chain against all the document chunks\n",
    "response = chain.run(texts)\n",
    "\n",
    "\n",
    "print(\"\\nResponse\")\n",
    "print(response)\n",
    "\n",
    "characters = output_parser.parse(response)\n",
    "\n",
    "print(\"\\nCharacters\")\n",
    "print(characters)"
   ]
  },
  {
   "cell_type": "markdown",
   "id": "3be24559-f9c3-4b6d-b764-332335c26bce",
   "metadata": {},
   "source": [
    "## List characters using the vector DB\n",
    "- first get a list\n",
    "- then query each character"
   ]
  },
  {
   "cell_type": "code",
   "execution_count": 49,
   "id": "f415e54e-6d73-4753-a0a9-510805011cf7",
   "metadata": {
    "tags": []
   },
   "outputs": [
    {
     "name": "stdout",
     "output_type": "stream",
     "text": [
      "\n",
      "Found 49 part(s)\n",
      "\n",
      "Map Prompt\n",
      "input_variables=['text'] output_parser=None partial_variables={'format_instructions': 'Your response should be a list of comma separated values, eg: `foo, bar, baz`'} template='\\nYou will be given a text.\\nExtract the characters\\'s names.\\nIgnore details of Project Gutenberg.\\n\\n{format_instructions}. Add \"characters:\" in front of the list.\\n\\n% TEXT:\\n\\n{text}\\n' template_format='f-string' validate_template=True\n",
      "\n",
      "Part 1 Characters: ['Alice', 'Lewis Carroll', 'Georgie Gregg']\n",
      "\n",
      "Part 2 Characters: ['Alice', 'Caterpillar', 'Pig', 'Pepper', 'Queen', 'Mock Turtle', 'Lobster', 'Tarts Stealer.']\n",
      "\n",
      "Part 3 Characters: ['Alice', 'Rabbit-Hole']\n",
      "\n",
      "Part 4 Characters: ['Alice', 'Rabbit-Hole', 'Alice in Wonderland', 'White Rabbit', 'Dodo', 'Lory', 'Eaglet', 'Mock Turtle', 'Gryphon', 'Queen of Hearts']\n",
      "\n",
      "Part 5 Characters: ['Alice', 'Rabbit-Hole']\n",
      "\n",
      "Part 6 Characters: ['Alice']\n",
      "\n",
      "Part 7 Characters: ['Alice,']\n",
      "\n",
      "Part 8 Characters: ['Alice', 'The Pool of Tears']\n",
      "\n",
      "Part 9 Characters: ['Alice,']\n",
      "\n",
      "Part 10 Characters: ['Alice', 'Wonderland']\n",
      "\n",
      "Part 11 Characters: ['Alice', 'Caucus-Race', 'Long-Tale', 'White Rabbit', 'Dodo', 'Lory', 'Eaglet', 'Duck', 'Mouse', 'Bill', 'Caterpillar', 'Cheshire Cat', 'Mad Hatter', 'March Hare', 'Dormouse', 'Queen of Hearts', 'King of Hearts.']\n",
      "\n",
      "Part 12 Characters: ['Alice', 'Caucus Race', 'Long Tale']\n",
      "\n",
      "Part 13 Characters: ['Alice', 'Rabbit']\n",
      "\n",
      "Part 14 Characters: ['Alice', 'Rabbit', 'Bill']\n",
      "\n",
      "Part 15 Characters: ['Alice', 'Rabbit']\n",
      "\n",
      "Part 16 Characters: ['Alice', 'Rabbit']\n",
      "\n",
      "Part 17 Characters: ['Alice', 'Rabbit', 'Caterpillar']\n",
      "\n",
      "Part 18 Characters: ['Alice', 'Caterpillar']\n",
      "\n",
      "Part 19 Characters: ['Alice', 'Caterpillar']\n",
      "\n",
      "Part 20 Characters: ['Alice', 'Caterpillar']\n",
      "\n",
      "Part 21 Characters: ['Alice', 'Caterpillar', 'Pig', 'Pepper']\n",
      "\n",
      "Part 22 Characters: ['Pig', 'Pepper', 'Alice']\n",
      "\n",
      "Part 23 Characters: ['Alice', 'Pig', 'Pepper']\n",
      "\n",
      "Part 24 Characters: ['Alice', 'Pig', 'Pepper']\n",
      "\n",
      "Part 25 Characters: ['Alice', 'Pig', 'Pepper']\n",
      "\n",
      "Part 26 Characters: ['Alice', 'Pig', 'Pepper', 'Mad Hatter', 'March Hare', 'Dormouse']\n",
      "\n",
      "Part 27 Characters: ['Alice', 'The Mad Hatter', 'The March Hare', 'The Dormouse']\n",
      "\n",
      "Part 28 Characters: ['Alice', 'Mad Hatter', 'March Hare', 'Dormouse']\n",
      "\n",
      "Part 29 Characters: ['Alice,']\n",
      "\n",
      "Part 30 Characters: ['Alice', 'The Queen']\n",
      "\n",
      "Part 31 Characters: ['Alice', 'Queen', 'Croquet-Ground']\n",
      "\n",
      "Part 32 Characters: ['Alice', 'Queen', 'Croquet-Ground']\n",
      "\n",
      "Part 33 Characters: ['Alice', 'The Queen', 'The King', 'The Duchess', 'The Mock Turtle', 'The Gryphon', 'The Caterpillar', 'The Cheshire Cat.']\n",
      "\n",
      "Part 34 Characters: ['Alice', 'The Queen']\n",
      "\n",
      "Part 35 Characters: ['Alice', 'Mock Turtle']\n",
      "\n",
      "Part 36 Characters: ['Alice', 'Mock Turtle']\n",
      "\n",
      "Part 37 Characters: ['Alice', 'The Mock Turtle']\n",
      "\n",
      "Part 38 Characters: ['Alice', 'Mock Turtle', 'Lobster']\n",
      "\n",
      "Part 39 Characters: ['Alice', 'Lobster Quadrille']\n",
      "\n",
      "Part 40 Characters: ['Alice', 'Lobster']\n",
      "\n",
      "Part 41 Characters: ['Alice', 'Lobster Quadrille']\n",
      "\n",
      "Part 42 Characters: ['Alice', 'The Tarts']\n",
      "\n",
      "Part 43 Characters: ['Alice', 'The Queen of Hearts', 'The King of Hearts', 'The Knave of Hearts']\n",
      "\n",
      "Part 44 Characters: ['Alice', 'White Rabbit', 'Queen of Hearts', 'King of Hearts', 'Mad Hatter', 'March Hare', 'Dormouse.']\n",
      "\n",
      "Part 45 Characters: ['Alice', \"Alice's Evidence\"]\n",
      "\n",
      "Part 46 Characters: ['Alice', 'Evidence']\n",
      "\n",
      "Part 47 Characters: ['Alice', \"Alice's Evidence\"]\n",
      "\n",
      "Part 48 Characters: ['Alice', 'Evidence']\n",
      "\n",
      "Part 49 Characters: ['']\n"
     ]
    }
   ],
   "source": [
    "from langchain.llms import OpenAI\n",
    "from langchain import PromptTemplate\n",
    "from langchain.chains.summarize import load_summarize_chain\n",
    "from langchain.text_splitter import RecursiveCharacterTextSplitter\n",
    "from langchain.output_parsers import CommaSeparatedListOutputParser\n",
    "from langchain.schema import Document\n",
    "from pprint import pprint\n",
    "\n",
    "# Note, the default model is already 'text-davinci-003' \n",
    "# temperature 0 means no randomness\n",
    "#model_name=\"gpt-3.5-turbo\" # fdoes not work with map reduce\n",
    "model_name='text-davinci-003'\n",
    "llm = OpenAI(temperature=0.3, model_name=model_name)\n",
    "\n",
    "# Get your splitter ready\n",
    "text_splitter = RecursiveCharacterTextSplitter(chunk_size=700, chunk_overlap=100)\n",
    " \n",
    "# Split your docs into texts\n",
    "texts = text_splitter.split_documents(alice_documents)\n",
    "print(f\"\\nFound {len(texts)} part(s)\")\n",
    "\n",
    "output_parser = CommaSeparatedListOutputParser()\n",
    "format_instructions = output_parser.get_format_instructions()\n",
    "\n",
    "# setup. a custom prompt\n",
    "# the Summarization Chain provides a defaults prompt: write a concise summary.\n",
    "map_prompt_template = \"\"\"\n",
    "You will be given a text.\n",
    "Extract the characters's names.\n",
    "Ignore details of Project Gutenberg.\n",
    "\n",
    "{format_instructions}. Add \"characters:\" in front of the list.\n",
    "\n",
    "% TEXT:\n",
    "\n",
    "{text}\n",
    "\"\"\"\n",
    "\n",
    "map_prompt = PromptTemplate(template=map_prompt_template, \n",
    "                        input_variables=[\"text\"],\n",
    "                        partial_variables={\"format_instructions\": format_instructions}\n",
    "                       )\n",
    "\n",
    "print(\"\\nMap Prompt\")\n",
    "print(map_prompt)\n",
    "\n",
    "\n",
    "# the attribute map_reduce instruct the chain to \n",
    "# - first apply the model to each chunck (map stage) \n",
    "# - then all map results and apply the model (reduce stage)\n",
    "chain = load_summarize_chain(\n",
    "    llm, \n",
    "    chain_type=\"stuff\", \n",
    "    prompt=map_prompt,  \n",
    "    verbose=False)\n",
    "\n",
    "i = 0\n",
    "characters = {}\n",
    "prefix = \"Characters:\"\n",
    "for text in texts:\n",
    "    i += 1\n",
    "    \n",
    "    # run the chain against all the document chunks\n",
    "    # chain expect a list of documents\n",
    "    response = chain.run([text])\n",
    "\n",
    "    #print(f\"\\nResponse {i}\")\n",
    "    #print(response)\n",
    "\n",
    "    lines = response.split('\\n')\n",
    "    #print(f\"\\nlines {i}\")\n",
    "    #print(lines)\n",
    "    for line in lines:\n",
    "        #print(f\"\\nline {i}\")\n",
    "        #print(line)\n",
    "        if line.startswith(prefix):\n",
    "            part_characters = output_parser.parse(line.replace(prefix, ''))\n",
    "\n",
    "            print(f\"\\nPart {i} Characters: {part_characters}\")\n",
    " \n",
    "            #characters.extend(part_characters)\n",
    "            for character in part_characters:\n",
    "                if character in characters:\n",
    "                    characters[character] += 1\n",
    "                else:\n",
    "                    characters.update({character: 1})\n",
    "\n"
   ]
  },
  {
   "cell_type": "code",
   "execution_count": 50,
   "id": "4338f47d-796e-4ebf-9816-a89c2b0cf4e6",
   "metadata": {
    "tags": []
   },
   "outputs": [
    {
     "name": "stdout",
     "output_type": "stream",
     "text": [
      "\n",
      "All Characters\n",
      "{'': 1,\n",
      " 'Alice': 45,\n",
      " 'Alice in Wonderland': 1,\n",
      " \"Alice's Evidence\": 2,\n",
      " 'Alice,': 3,\n",
      " 'Bill': 2,\n",
      " 'Caterpillar': 7,\n",
      " 'Caucus Race': 1,\n",
      " 'Caucus-Race': 1,\n",
      " 'Cheshire Cat': 1,\n",
      " 'Croquet-Ground': 2,\n",
      " 'Dodo': 2,\n",
      " 'Dormouse': 3,\n",
      " 'Dormouse.': 1,\n",
      " 'Duck': 1,\n",
      " 'Eaglet': 2,\n",
      " 'Evidence': 2,\n",
      " 'Georgie Gregg': 1,\n",
      " 'Gryphon': 1,\n",
      " 'King of Hearts': 1,\n",
      " 'King of Hearts.': 1,\n",
      " 'Lewis Carroll': 1,\n",
      " 'Lobster': 3,\n",
      " 'Lobster Quadrille': 2,\n",
      " 'Long Tale': 1,\n",
      " 'Long-Tale': 1,\n",
      " 'Lory': 2,\n",
      " 'Mad Hatter': 4,\n",
      " 'March Hare': 4,\n",
      " 'Mock Turtle': 5,\n",
      " 'Mouse': 1,\n",
      " 'Pepper': 7,\n",
      " 'Pig': 7,\n",
      " 'Queen': 3,\n",
      " 'Queen of Hearts': 3,\n",
      " 'Rabbit': 5,\n",
      " 'Rabbit-Hole': 3,\n",
      " 'Tarts Stealer.': 1,\n",
      " 'The Caterpillar': 1,\n",
      " 'The Cheshire Cat.': 1,\n",
      " 'The Dormouse': 1,\n",
      " 'The Duchess': 1,\n",
      " 'The Gryphon': 1,\n",
      " 'The King': 1,\n",
      " 'The King of Hearts': 1,\n",
      " 'The Knave of Hearts': 1,\n",
      " 'The Mad Hatter': 1,\n",
      " 'The March Hare': 1,\n",
      " 'The Mock Turtle': 2,\n",
      " 'The Pool of Tears': 1,\n",
      " 'The Queen': 3,\n",
      " 'The Queen of Hearts': 1,\n",
      " 'The Tarts': 1,\n",
      " 'White Rabbit': 3,\n",
      " 'Wonderland': 1}\n"
     ]
    }
   ],
   "source": [
    "from pprint import pformat\n",
    "\n",
    "print(f\"\\nAll Characters\")\n",
    "pprint(characters)"
   ]
  },
  {
   "cell_type": "code",
   "execution_count": 57,
   "id": "303f8086-37ff-42b6-84b1-b247c320b87d",
   "metadata": {
    "tags": []
   },
   "outputs": [
    {
     "name": "stdout",
     "output_type": "stream",
     "text": [
      "['Alice', 'Caterpillar', 'Pig', 'Pepper', 'Queen', 'Mock Turtle', 'Lobster', 'Rabbit-Hole', 'White Rabbit', 'Dodo', 'Lory', 'Eaglet', 'Queen of Hearts', 'Alice,', 'Bill', 'Mad Hatter', 'March Hare', 'Dormouse', 'Rabbit', 'The Queen', 'Croquet-Ground', 'The Mock Turtle', 'Lobster Quadrille', \"Alice's Evidence\", 'Evidence']\n"
     ]
    }
   ],
   "source": [
    "## fikter out empty values, weird characters and less frequent names\n",
    "# the result is sensible to the chunck size as larger chunk will reduce the number of occurences\n",
    "\n",
    "characters_list = [ c for (c,v) in characters.items()\n",
    "                   if c != '' and c != 'None' and c != 'none' \n",
    "                   and v > 1 and len(c) > 2]\n",
    "\n",
    "print(characters_list)"
   ]
  },
  {
   "cell_type": "code",
   "execution_count": 52,
   "id": "c1c526cf-f23b-4e60-92d5-5d549883437c",
   "metadata": {
    "tags": []
   },
   "outputs": [
    {
     "name": "stdout",
     "output_type": "stream",
     "text": [
      "(1) - Found 5 relevant documen(s) for Mad Hatter\n",
      "(2) - Found 5 relevant documen(s) for Alice,\n",
      "(3) - Found 5 relevant documen(s) for Queen\n",
      "(4) - Found 5 relevant documen(s) for Pepper\n",
      "(5) - Found 5 relevant documen(s) for Eaglet\n",
      "(6) - Found 5 relevant documen(s) for Caterpillar\n",
      "(7) - Found 5 relevant documen(s) for White Rabbit\n",
      "(8) - Found 5 relevant documen(s) for Pig\n",
      "(9) - Found 5 relevant documen(s) for Lobster\n",
      "(10) - Found 5 relevant documen(s) for Dodo\n",
      "(11) - Found 5 relevant documen(s) for Alice\n",
      "(12) - Found 5 relevant documen(s) for The Mock Turtle\n",
      "(13) - Found 5 relevant documen(s) for Lory\n",
      "(14) - Found 5 relevant documen(s) for Queen of Hearts\n",
      "(15) - Found 5 relevant documen(s) for Rabbit-Hole\n",
      "(16) - Found 5 relevant documen(s) for Rabbit\n",
      "(17) - Found 5 relevant documen(s) for March Hare\n",
      "(18) - Found 5 relevant documen(s) for Dormouse\n",
      "(19) - Found 5 relevant documen(s) for Mock Turtle\n",
      "(20) - Found 5 relevant documen(s) for Bill\n",
      "(21) - Found 5 relevant documen(s) for The Queen\n",
      "(22) - Found 5 relevant documen(s) for Evidence\n",
      "(23) - Found 5 relevant documen(s) for Croquet-Ground\n",
      "(24) - Found 5 relevant documen(s) for Lobster Quadrille\n",
      "(25) - Found 5 relevant documen(s) for Alice's Evidence\n",
      "{'Alice': {'query': 'Who is Alice? . Give a funny answer 30 words long.',\n",
      "           'result': ' Alice is a curious character who is often found getting '\n",
      "                     'herself into interesting situations. She has a wild '\n",
      "                     'imagination and loves to explore the world around her. '\n",
      "                     'More often than not, she finds herself in some kind of '\n",
      "                     'trouble, but she always manages to find a way out of it. '\n",
      "                     'Alice is an adventurous spirit who loves to learn new '\n",
      "                     \"things and meet new people. She's always up for an \"\n",
      "                     'adventure and loves living life on the edge!'},\n",
      " \"Alice's Evidence\": {'query': \"Who is Alice's Evidence? . Give a funny answer \"\n",
      "                               '30 words long.',\n",
      "                      'result': \" Alice's Evidence is a very important witness \"\n",
      "                                'in the case of Wonderland v. Alice. He is a '\n",
      "                                'wise and experienced rabbit who is always '\n",
      "                                'prepared to testify with an astonishing '\n",
      "                                'collection of facts, anecdotes, and '\n",
      "                                'observations. He is known for his impeccable '\n",
      "                                'dress sense and his tendency to give '\n",
      "                                'long-winded answers. In the courtroom, he is '\n",
      "                                'a force to be reckoned with!'},\n",
      " 'Alice,': {'query': 'Who is Alice,? . Give a funny answer 30 words long.',\n",
      "            'result': '  Alice is a young girl who had a wild imagination and '\n",
      "                      'a thirst for adventure. She found herself in a strange '\n",
      "                      'world full of talking animals, nonsensical creatures, '\n",
      "                      'and a Queen of Hearts who was always ready to yell “Off '\n",
      "                      'with their heads!” Alice had the courage to take on '\n",
      "                      'whatever adventures came her way and often encountered '\n",
      "                      'interesting and funny characters on her journeys.'},\n",
      " 'Bill': {'query': 'Who is Bill? . Give a funny answer 30 words long.',\n",
      "          'result': ' Bill is a very small rabbit who is always late with his '\n",
      "                    'payments. He is always sending in little bills that are '\n",
      "                    \"too small to make a difference. He's like a mouse trying \"\n",
      "                    'to move a mountain, but he never gives up!'},\n",
      " 'Caterpillar': {'query': 'Who is Caterpillar? . Give a funny answer 30 words '\n",
      "                          'long.',\n",
      "                 'result': ' Caterpillar is a wise and mysterious being who '\n",
      "                           'often offers helpful advice to Alice in her '\n",
      "                           'adventures in Wonderland. He is always smoking a '\n",
      "                           'hookah and has the ability to speak in a strange, '\n",
      "                           'riddle like way that often leaves Alice feeling '\n",
      "                           'confused and frustrated. He can also change his '\n",
      "                           'size at will, making him both an intimidating and '\n",
      "                           'comical figure.'},\n",
      " 'Croquet-Ground': {'query': 'Who is Croquet-Ground? . Give a funny answer 30 '\n",
      "                             'words long.',\n",
      "                    'result': ' Croquet-Ground is the croquet master of '\n",
      "                              'Wonderland, a mysterious figure who is said to '\n",
      "                              'have mastered the art of croquet and is always '\n",
      "                              'on the lookout for worthy opponents. He is '\n",
      "                              'known for his eccentric style and always wears '\n",
      "                              'a fancy hat and coat. He is also known for his '\n",
      "                              'witty one-liners and rule-bending antics, '\n",
      "                              'making him the most entertaining croquet player '\n",
      "                              'in all of Wonderland!'},\n",
      " 'Dodo': {'query': 'Who is Dodo? . Give a funny answer 30 words long.',\n",
      "          'result': ' Dodo is a funny, forgetful bird who is always getting '\n",
      "                    'himself into trouble. He is a bit of an oddball, but '\n",
      "                    \"always manages to bring a smile to everyone's face. He is \"\n",
      "                    'known for his haphazard behavior and hilarious antics, '\n",
      "                    'which often lead to unexpected and comical results. He is '\n",
      "                    'an endearing character who is sure to bring joy to any '\n",
      "                    'situation.'},\n",
      " 'Dormouse': {'query': 'Who is Dormouse? . Give a funny answer 30 words long.',\n",
      "              'result': '\\n'\n",
      "                        'The Dormouse is a sleepy and forgetful creature who '\n",
      "                        'loves to nap and tell long, rambling stories. He '\n",
      "                        \"often gets lost in his own thoughts and can't seem to \"\n",
      "                        \"focus on what's going on around him. He's the \"\n",
      "                        'ultimate daydreamer, always off in his own world, and '\n",
      "                        'always ready for a nap.'},\n",
      " 'Eaglet': {'query': 'Who is Eaglet? . Give a funny answer 30 words long.',\n",
      "            'result': '\\n'\n",
      "                      'Eaglet is a very mischievous little fellow. He loves to '\n",
      "                      \"get into trouble and play pranks on people. He's always \"\n",
      "                      'coming up with inventive ways to cause chaos and has '\n",
      "                      'been known to steal tarts, cause caucus races, and even '\n",
      "                      'lead a mad tea-party. Everyone loves to have a laugh '\n",
      "                      \"with Eaglet, but they're always careful not to get too \"\n",
      "                      'close or they might find themselves in trouble!'},\n",
      " 'Evidence': {'query': 'Who is Evidence? . Give a funny answer 30 words long.',\n",
      "              'result': \" Evidence is Alice's imaginary friend! Evidence is \"\n",
      "                        'always there to provide Alice with moral support, '\n",
      "                        \"whether she's standing up to the Queen of Hearts or \"\n",
      "                        'taking part in a caucus race. Evidence is an '\n",
      "                        'invisible rabbit with an uncanny ability to appear '\n",
      "                        'and disappear whenever Alice needs him the most.'},\n",
      " 'Lobster': {'query': 'Who is Lobster? . Give a funny answer 30 words long.',\n",
      "             'result': '\\n'\n",
      "                       '\\n'\n",
      "                       'Lobster is an ambitious crustacean who dreams of one '\n",
      "                       'day achieving fame and fortune. He spends his days '\n",
      "                       'practicing the Lobster Quadrille, a complicated dance '\n",
      "                       'involving lots of fancy footwork, and hopes to one day '\n",
      "                       'make it into the crustacean Hall of Fame. Until then, '\n",
      "                       'he enjoys entertaining Alice with his signature '\n",
      "                       'moves!'},\n",
      " 'Lobster Quadrille': {'query': 'Who is Lobster Quadrille? . Give a funny '\n",
      "                                'answer 30 words long.',\n",
      "                       'result': ' The Lobster Quadrille is an incredibly '\n",
      "                                 'glamorous dance performed by aristocratic '\n",
      "                                 'lobsters. It involves lots of twirling and '\n",
      "                                 'spinning and is often accompanied by a '\n",
      "                                 \"classical music orchestra. It's a sight to \"\n",
      "                                 'behold and a dance that all of the lobster '\n",
      "                                 'elite aspire to master!'},\n",
      " 'Lory': {'query': 'Who is Lory? . Give a funny answer 30 words long.',\n",
      "          'result': ' Lory is the wise-cracking, sarcastic parrot who often '\n",
      "                    'joins Alice on her adventures. He loves to make jokes and '\n",
      "                    'has a knack for coming up with clever solutions to the '\n",
      "                    \"problems they encounter. He's always ready with a joke or \"\n",
      "                    'two and a bit of mischief to keep things interesting.'},\n",
      " 'Mad Hatter': {'query': 'Who is Mad Hatter? . Give a funny answer 30 words '\n",
      "                         'long.',\n",
      "                'result': ' The Mad Hatter is a mysterious character from '\n",
      "                          'Alice in Wonderland who loves tea parties and is '\n",
      "                          'always asking silly questions. He is often seen '\n",
      "                          'wearing a tall hat and has the ability to make '\n",
      "                          'anyone smile with his witty remarks. He is known '\n",
      "                          'for his unique sense of humor and his eccentric '\n",
      "                          'behavior. He is the ultimate party host!'},\n",
      " 'March Hare': {'query': 'Who is March Hare? . Give a funny answer 30 words '\n",
      "                         'long.',\n",
      "                'result': ' The March Hare is a mischievous character from '\n",
      "                          'Alice in Wonderland. He is known for his chaotic '\n",
      "                          'behavior and love for tea parties. He is always '\n",
      "                          'looking for an opportunity to cause some trouble '\n",
      "                          'and have a good time!'},\n",
      " 'Mock Turtle': {'query': 'Who is Mock Turtle? . Give a funny answer 30 words '\n",
      "                          'long.',\n",
      "                 'result': ' The Mock Turtle is an imaginary creature who is '\n",
      "                           'half turtle, half mockery. He often tells stories '\n",
      "                           'that are so long and twisted that you could get '\n",
      "                           \"lost in them, like a labyrinth. He's a bit of a \"\n",
      "                           'daydreamer, always off in his own world and '\n",
      "                           \"telling stories that don't really make sense to \"\n",
      "                           \"anyone else. He's often seen with his friend, the \"\n",
      "                           'Gryphon, who is a bit more grounded in reality.'},\n",
      " 'Pepper': {'query': 'Who is Pepper? . Give a funny answer 30 words long.',\n",
      "            'result': ' Pepper is Alice’s long lost pet pig. He was last seen '\n",
      "                      'running away from the Queen’s croquet ground with a '\n",
      "                      'basket full of stolen tarts, and has been on the run '\n",
      "                      'ever since! He’s become quite the fugitive, with a '\n",
      "                      'reputation for being a bit of a trouble-maker!'},\n",
      " 'Pig': {'query': 'Who is Pig? . Give a funny answer 30 words long.',\n",
      "         'result': ' Pig is an anthropomorphic pig character who is known for '\n",
      "                   'causing chaos and mayhem. He loves to stir up trouble and '\n",
      "                   \"loves to cause a scene. He's a bit of a troublemaker, but \"\n",
      "                   \"he always manages to make things right in the end. He's \"\n",
      "                   'incredibly friendly and always up for a good laugh, so '\n",
      "                   \"he's sure to put a smile on your face!\"},\n",
      " 'Queen': {'query': 'Who is Queen? . Give a funny answer 30 words long.',\n",
      "           'result': ' The Queen in Alice in Wonderland is the Queen of '\n",
      "                     'Hearts! She has a short temper and loves to shout \"Off '\n",
      "                     'with their heads!\" She is known for her red face and her '\n",
      "                     'love of croquet. Her court is full of strange characters '\n",
      "                     'such as the White Rabbit, the Mad Hatter, and the '\n",
      "                     'Cheshire Cat. Despite her occasional outbursts, she is a '\n",
      "                     'beloved character who has become a classic part of the '\n",
      "                     'Alice in Wonderland story.'},\n",
      " 'Queen of Hearts': {'query': 'Who is Queen of Hearts? . Give a funny answer '\n",
      "                              '30 words long.',\n",
      "                     'result': ' The Queen of Hearts is a flamboyant and '\n",
      "                               'eccentric monarch who loves to play croquet '\n",
      "                               'and host tea parties with her loyal subjects. '\n",
      "                               'She has a fiery temper and is known for her '\n",
      "                               'famous catchphrase, \"Off with their heads!\" '\n",
      "                               'Despite her sometimes outrageous behavior, she '\n",
      "                               'is beloved by her people and always ensures '\n",
      "                               'justice is served.'},\n",
      " 'Rabbit': {'query': 'Who is Rabbit? . Give a funny answer 30 words long.',\n",
      "            'result': ' Rabbit is a mischievous character who loves to cause '\n",
      "                      \"mayhem and send in unexpected bills! He's always trying \"\n",
      "                      'to surprise Alice with his antics, like hopping around '\n",
      "                      'her feet when she least expects it or sending her a '\n",
      "                      \"bill for a cup of tea that she didn't even ask for! \"\n",
      "                      \"He's a rascal, but Alice loves him anyway!\"},\n",
      " 'Rabbit-Hole': {'query': 'Who is Rabbit-Hole? . Give a funny answer 30 words '\n",
      "                          'long.',\n",
      "                 'result': ' Rabbit-Hole is a mischievous character who loves '\n",
      "                           'to send Alice on wild adventures. He is a sly one '\n",
      "                           'who loves to lead Alice on a wild journey of '\n",
      "                           'self-discovery and magical moments. He is always '\n",
      "                           'looking for ways to challenge and surprise Alice, '\n",
      "                           'which often leads to her being in some pretty '\n",
      "                           'sticky situations. In the end, though, Rabbit-Hole '\n",
      "                           'is always there to offer some sage advice and help '\n",
      "                           'her find her way back home.'},\n",
      " 'The Mock Turtle': {'query': 'Who is The Mock Turtle? . Give a funny answer '\n",
      "                              '30 words long.',\n",
      "                     'result': '\\n'\n",
      "                               'The Mock Turtle is a mythical creature who is '\n",
      "                               \"half turtle and half a laughingstock. He's \"\n",
      "                               'always telling bad jokes and singing off-key, '\n",
      "                               'but somehow he still manages to be the life of '\n",
      "                               \"the party. He's the one you call on when you \"\n",
      "                               'need a good laugh!'},\n",
      " 'The Queen': {'query': 'Who is The Queen? . Give a funny answer 30 words '\n",
      "                        'long.',\n",
      "               'result': ' The Queen is an eccentric and powerful monarch who '\n",
      "                         \"loves to play croquet. She's a bit of a troublemaker \"\n",
      "                         'and loves to cause chaos with her wild and '\n",
      "                         \"unpredictable behavior. She's also known for her \"\n",
      "                         \"wild wardrobe, as she's never seen wearing the same \"\n",
      "                         'outfit twice. You never know what the Queen will do '\n",
      "                         \"next, but one thing's for sure - it's sure to be \"\n",
      "                         'entertaining!'},\n",
      " 'White Rabbit': {'query': 'Who is White Rabbit? . Give a funny answer 30 '\n",
      "                           'words long.',\n",
      "                  'result': ' White Rabbit is a magical creature who is always '\n",
      "                            'running late and is always in a rush. He is the '\n",
      "                            'keeper of time in Wonderland and is always late '\n",
      "                            'for important events. He is always carrying a '\n",
      "                            'pocket watch and is often seen hopping around in '\n",
      "                            'a flurry of panic and anxiety. He is a lovable '\n",
      "                            'character who always manages to make people smile '\n",
      "                            'with his comical antics.'}}\n"
     ]
    }
   ],
   "source": [
    "from langchain.chains import RetrievalQA\n",
    "from langchain.vectorstores import Annoy\n",
    "from langchain.embeddings import OpenAIEmbeddings\n",
    "\n",
    "# Get embedding engine ready\n",
    "embeddings = OpenAIEmbeddings()\n",
    " \n",
    "# Embedd your texts andd store them in the vector database\n",
    "# dtabase is in memory. it might be savecd to a file and loader later on.\n",
    "db = Annoy.from_documents(texts, embeddings)\n",
    "\n",
    "# Init a retriever for this db\n",
    "# lookup for trelevqnt parts\n",
    "retriever = db.as_retriever(search_type=\"similarity\", \n",
    "                            search_kwargs={\"k\":5,\n",
    "                                           \"score_threshold\": 0.9\n",
    "                                          })\n",
    " \n",
    "instructions = \". Give a funny answer 30 words long.\"\n",
    "\n",
    "summary = {}\n",
    "i = 0\n",
    "\n",
    "\n",
    "# set remove duplicate strings\n",
    "for character in set(characters_list):\n",
    "    i += 1\n",
    "\n",
    "    # ra query\n",
    "    query = f\"Who is {character}? {instructions}\"\n",
    "\n",
    "    # retrieve and count indexed documents relevant for the query\n",
    "    docs = retriever.get_relevant_documents(query)\n",
    "    print(f\"({i}) - Found {len(docs)} relevant documen(s) for {character}\")\n",
    "\n",
    "   # NOTE score threshold not implemnted in Annoy\n",
    "   # if len(docs) < 10:\n",
    "   #   continue\n",
    "                                           \n",
    "\n",
    "    #samples = \"\\n\\n\".join([x.page_content[:200] for x in docs[:5]])\n",
    "    #print(samples)\n",
    "    \n",
    "\n",
    "    # create a chain to answer questions \n",
    "    qa = RetrievalQA.from_chain_type(\n",
    "        llm=OpenAI(), \n",
    "        chain_type=\"stuff\", \n",
    "        retriever=retriever, \n",
    "        return_source_documents=False)\n",
    "\n",
    "    response = qa({\"query\": query})\n",
    "    \n",
    "    summary[character] = response\n",
    "\n",
    "with open(f'{notebook_folder}/alice_characters_summary_annoy.txt', 'w') as file:\n",
    "    file.write(pformat(summary))\n",
    "\n",
    "print('\\n')\n",
    "pprint(summary)"
   ]
  },
  {
   "cell_type": "code",
   "execution_count": null,
   "id": "e6a94f92-2305-4cfd-94ff-521972e9e287",
   "metadata": {},
   "outputs": [],
   "source": []
  },
  {
   "cell_type": "code",
   "execution_count": null,
   "id": "9c558a63-141d-44d7-88fb-008aed2c7e42",
   "metadata": {},
   "outputs": [],
   "source": [
    "# TODO make it readable"
   ]
  },
  {
   "cell_type": "markdown",
   "id": "800d04cf-f5d4-4815-96e3-ca4985017e40",
   "metadata": {},
   "source": [
    "## Using chroma and similarity threshold\n",
    "\n",
    "**Resources**\n",
    "> - https://python.langchain.com/docs/modules/data_connection/vectorstores/integrations/chroma"
   ]
  },
  {
   "cell_type": "code",
   "execution_count": 63,
   "id": "74838e3c-bbe6-4380-9f83-8fa9c4b6eb1d",
   "metadata": {
    "tags": []
   },
   "outputs": [
    {
     "name": "stdout",
     "output_type": "stream",
     "text": [
      "(1) - Found 5 relevant document(s) for Mad Hatter\n",
      "(2) - Found 5 relevant document(s) for Alice,\n"
     ]
    },
    {
     "name": "stderr",
     "output_type": "stream",
     "text": [
      "/usr/local/lib/python3.10/site-packages/langchain/vectorstores/base.py:257: UserWarning: No relevant docs were retrieved using the relevance score threshold 0.7\n",
      "  warnings.warn(\n"
     ]
    },
    {
     "name": "stdout",
     "output_type": "stream",
     "text": [
      "(3) - Found 0 relevant document(s) for Queen\n",
      "(4) - Found 0 relevant document(s) for Pepper\n",
      "(5) - Found 0 relevant document(s) for Eaglet\n",
      "(6) - Found 1 relevant document(s) for Caterpillar\n",
      "(7) - Found 5 relevant document(s) for White Rabbit\n",
      "(8) - Found 1 relevant document(s) for Pig\n",
      "(9) - Found 0 relevant document(s) for Lobster\n",
      "(10) - Found 0 relevant document(s) for Dodo\n",
      "(11) - Found 5 relevant document(s) for Alice\n",
      "(12) - Found 3 relevant document(s) for The Mock Turtle\n",
      "(13) - Found 0 relevant document(s) for Lory\n",
      "(14) - Found 0 relevant document(s) for Queen of Hearts\n",
      "(15) - Found 5 relevant document(s) for Rabbit-Hole\n",
      "(16) - Found 5 relevant document(s) for Rabbit\n",
      "(17) - Found 1 relevant document(s) for March Hare\n",
      "(18) - Found 0 relevant document(s) for Dormouse\n",
      "(19) - Found 3 relevant document(s) for Mock Turtle\n",
      "(20) - Found 0 relevant document(s) for Bill\n",
      "(21) - Found 0 relevant document(s) for The Queen\n",
      "(22) - Found 0 relevant document(s) for Evidence\n",
      "(23) - Found 1 relevant document(s) for Croquet-Ground\n",
      "(24) - Found 1 relevant document(s) for Lobster Quadrille\n",
      "(25) - Found 5 relevant document(s) for Alice's Evidence\n",
      "{'Alice': {'query': 'Who is Alice? . Give a funny answer 30 words long.',\n",
      "           'result': '\\n'\n",
      "                     'Alice is a curious girl who loves to explore. She often '\n",
      "                     'finds herself in interesting and strange situations, '\n",
      "                     'like talking to caterpillars and playing a caucus race '\n",
      "                     'with a variety of animals. She has a wild imagination '\n",
      "                     'and is always ready for an adventure. With her courage '\n",
      "                     \"and wit, there's no telling what she'll do next!\"},\n",
      " \"Alice's Evidence\": {'query': \"Who is Alice's Evidence? . Give a funny answer \"\n",
      "                               '30 words long.',\n",
      "                      'result': \" Alice's Evidence is the jury of her peers, \"\n",
      "                                'made up of a curious assortment of characters '\n",
      "                                'from Wonderland, including the White Rabbit, '\n",
      "                                'the Cheshire Cat, the Mad Hatter, and the '\n",
      "                                'Caterpillar. They all come together to listen '\n",
      "                                'to her case and provide a verdict based on '\n",
      "                                \"her unique perspective. It's sure to be an \"\n",
      "                                'entertaining trial!'},\n",
      " 'Alice,': {'query': 'Who is Alice,? . Give a funny answer 30 words long.',\n",
      "            'result': ' Alice is a young girl who finds herself in strange and '\n",
      "                      'wonderful places. She often meets talking animals, '\n",
      "                      'attends mysterious tea parties, and embarks on wild '\n",
      "                      'adventures, all while learning valuable lessons about '\n",
      "                      'life. She is a brave, curious, and imaginative explorer '\n",
      "                      'who never ceases to amaze!'},\n",
      " 'Caterpillar': {'query': 'Who is Caterpillar? . Give a funny answer 30 words '\n",
      "                          'long.',\n",
      "                 'result': ' Caterpillar is a wise and witty creature who has '\n",
      "                           'an affinity for smoking hookah. He is known to '\n",
      "                           'offer sage advice to those who seek it, although '\n",
      "                           'his riddles can be quite confusing at times. He is '\n",
      "                           'a mysterious and comical character who often '\n",
      "                           'leaves people scratching their heads.'},\n",
      " 'Croquet-Ground': {'query': 'Who is Croquet-Ground? . Give a funny answer 30 '\n",
      "                             'words long.',\n",
      "                    'result': \" Croquet-Ground is the Queen's loyal butler and \"\n",
      "                              'faithful servant. He is a stick figure made of '\n",
      "                              'croquet hoops, mallets, and balls, and he wears '\n",
      "                              'a tall top hat made of clover leaves. He is '\n",
      "                              'always ready to serve the Queen with a smile, '\n",
      "                              'and is always ready to offer a friendly game of '\n",
      "                              \"croquet to her Majesty's guests.\"},\n",
      " 'Lobster Quadrille': {'query': 'Who is Lobster Quadrille? . Give a funny '\n",
      "                                'answer 30 words long.',\n",
      "                       'result': '\\n'\n",
      "                                 'Lobster Quadrille is the famous lobster who '\n",
      "                                 'loves to dance! He loves to dance the night '\n",
      "                                 'away and can often be found doing an '\n",
      "                                 'exciting jig on the beach. He loves to show '\n",
      "                                 'off his moves and even teaches some of the '\n",
      "                                 \"other sea creatures to dance. He's the life \"\n",
      "                                 'of the party, and everyone loves to watch '\n",
      "                                 'him show off his moves!'},\n",
      " 'Mad Hatter': {'query': 'Who is Mad Hatter? . Give a funny answer 30 words '\n",
      "                         'long.',\n",
      "                'result': \" The Mad Hatter is a character from Lewis Carroll's \"\n",
      "                          'famous book Alice in Wonderland. He is a wild and '\n",
      "                          'eccentric character who loves to throw wild tea '\n",
      "                          'parties and ask nonsensical questions. He is always '\n",
      "                          'dressed in bright colors and wearing a tall hat '\n",
      "                          'with a card that says \"In this style 10/6\". He is a '\n",
      "                          'bit of a mischievous character who loves to cause '\n",
      "                          'chaos and confusion. He is a beloved character who '\n",
      "                          'is adored by fans all around the world.'},\n",
      " 'March Hare': {'query': 'Who is March Hare? . Give a funny answer 30 words '\n",
      "                         'long.',\n",
      "                'result': ' The March Hare is a wild hare who is always late! '\n",
      "                          \"He's always running around in a hurry, trying to \"\n",
      "                          'get to places on time, but he never seems to make '\n",
      "                          \"it. He's always late for tea with Alice and the Mad \"\n",
      "                          'Hatter and is usually the center of attention in '\n",
      "                          \"the tea parties. He's known for his wild antics and \"\n",
      "                          'his silly stories, which always seem to make '\n",
      "                          'everyone laugh!'},\n",
      " 'Mock Turtle': {'query': 'Who is Mock Turtle? . Give a funny answer 30 words '\n",
      "                          'long.',\n",
      "                 'result': ' The Mock Turtle is an incredibly mysterious '\n",
      "                           'creature that has been known to make people laugh '\n",
      "                           'uncontrollably with its silly antics and peculiar '\n",
      "                           'behavior. It has been known to do things like wear '\n",
      "                           'a funny hat, dance around in circles, and tell '\n",
      "                           \"silly jokes that never seem to get old. It's a \"\n",
      "                           'creature that has been the source of many smiles '\n",
      "                           'and will continue to bring joy to everyone who '\n",
      "                           'meets it.'},\n",
      " 'Pig': {'query': 'Who is Pig? . Give a funny answer 30 words long.',\n",
      "         'result': ' Pig is a very silly character who loves to have fun and '\n",
      "                   'make people laugh. He loves to play pranks and is always '\n",
      "                   'up for an adventure. He is always looking for an '\n",
      "                   \"opportunity to show off his mischievous side. Pig's motto \"\n",
      "                   \"is 'Life is too short to be serious all the time!'\"},\n",
      " 'Rabbit': {'query': 'Who is Rabbit? . Give a funny answer 30 words long.',\n",
      "            'result': ' Rabbit is a wise little creature who is always on the '\n",
      "                      \"lookout for Alice's shenanigans. He isn't afraid to be \"\n",
      "                      'stern with her when she needs to be reminded of her '\n",
      "                      'manners, but he also knows how to have a little fun. '\n",
      "                      \"He's always up for a good game of hopscotch or \"\n",
      "                      'hide-and-seek, and he loves to play pranks on Alice and '\n",
      "                      \"her friends. He's a lovable, mischievous little rabbit \"\n",
      "                      'who is always up for an adventure!'},\n",
      " 'Rabbit-Hole': {'query': 'Who is Rabbit-Hole? . Give a funny answer 30 words '\n",
      "                          'long.',\n",
      "                 'result': ' Rabbit-Hole is an adventurous bunny who loves to '\n",
      "                           \"explore. He's always trying to find new and \"\n",
      "                           'exciting places, and he never stops looking for a '\n",
      "                           'good time. He loves to have fun, make new friends, '\n",
      "                           'and he always finds a way to make people smile. '\n",
      "                           'When it comes to having a good time, Rabbit-Hole '\n",
      "                           'knows exactly what to do!'},\n",
      " 'The Mock Turtle': {'query': 'Who is The Mock Turtle? . Give a funny answer '\n",
      "                              '30 words long.',\n",
      "                     'result': '\\n'\n",
      "                               'The Mock Turtle is a mysterious creature who '\n",
      "                               \"is said to be half-turtle, half-mockery. It's \"\n",
      "                               'said he was created by a mad scientist who '\n",
      "                               'wanted to combine the grace and speed of a '\n",
      "                               'turtle with the wit and humor of a '\n",
      "                               \"mockingbird. He's a paradoxical being who \"\n",
      "                               \"loves to laugh and make others laugh, but he's \"\n",
      "                               \"also wise and thoughtful. He's a beloved \"\n",
      "                               'figure in Wonderland, providing guidance and '\n",
      "                               'companionship to all who come his way.'},\n",
      " 'White Rabbit': {'query': 'Who is White Rabbit? . Give a funny answer 30 '\n",
      "                           'words long.',\n",
      "                  'result': '\\n'\n",
      "                            '\\n'\n",
      "                            'The White Rabbit is a curious creature who loves '\n",
      "                            \"to be punctual. He's always running late and is \"\n",
      "                            'forever trying to find a way to make up for lost '\n",
      "                            \"time. He's always in a hurry, but never fails to \"\n",
      "                            'show up with a smile, a pocket watch, and a few '\n",
      "                            \"carrots for Alice. He's a funny little fellow \"\n",
      "                            \"that loves to give advice, even if it's not \"\n",
      "                            'always the best.'}}\n"
     ]
    }
   ],
   "source": [
    "from langchain.chains import RetrievalQA\n",
    "from langchain.vectorstores import Chroma\n",
    "from langchain.embeddings import OpenAIEmbeddings\n",
    "\n",
    "\n",
    "# Get embedding engine ready\n",
    "embeddings = OpenAIEmbeddings()\n",
    " \n",
    "# Embedd your texts andd store them in the vector database\n",
    "# dtabase is in memory. it might be savecd to a file and loader later on.\n",
    "chroma_db = Chroma.from_documents(texts, embeddings)\n",
    "\n",
    "# Init a retriever for this db\n",
    "# lookup for trelevqnt parts\n",
    "retriever = chroma_db.as_retriever(search_type=\"similarity_score_threshold\", \n",
    "                            search_kwargs={\"k\":5,\n",
    "                                           \"score_threshold\": 0.7\n",
    "                                          })\n",
    "     \n",
    "instructions = \". Give a funny answer 30 words long.\"\n",
    "\n",
    "summary = {}\n",
    "i = 0\n",
    "\n",
    "\n",
    "# set remove duplicate strings\n",
    "for character in set(characters_list):\n",
    "    i += 1\n",
    "\n",
    "    # ra query\n",
    "    query = f\"Who is {character}? {instructions}\"\n",
    "\n",
    "    # retrieve and count indexed documents relevant for the query\n",
    "    docs = retriever.get_relevant_documents(query)\n",
    "    print(f\"({i}) - Found {len(docs)} relevant document(s) for {character}\")\n",
    "\n",
    "    # NOTE score threshold not implemnted in Annoy\n",
    "    if len(docs) < 1:\n",
    "        continue\n",
    "                                           \n",
    "\n",
    "    #samples = \"\\n\\n\".join([x.page_content[:200] for x in docs[:5]])\n",
    "    #print(samples)\n",
    "    \n",
    "\n",
    "    # create a chain to answer questions \n",
    "    qa = RetrievalQA.from_chain_type(\n",
    "        llm=OpenAI(), \n",
    "        chain_type=\"stuff\", \n",
    "        retriever=retriever, \n",
    "        return_source_documents=False)\n",
    "\n",
    "    response = qa({\"query\": query})\n",
    "    \n",
    "    summary[character] = response\n",
    "\n",
    "with open(f'{notebook_folder}/alice_characters_summary_chroma.txt', 'w') as file:\n",
    "    file.write(pformat(summary))\n",
    "\n",
    "print§('\\n')\n",
    "pprint(summary)"
   ]
  },
  {
   "cell_type": "markdown",
   "id": "594d78a2-69c0-4473-bd47-1d10b0d0de1f",
   "metadata": {},
   "source": [
    "## Turn into a readable response using summarization \n",
    "\n",
    "wrao the response into a document and display the result.\n",
    "\n",
    "It actually summarizes the dict response. "
   ]
  },
  {
   "cell_type": "code",
   "execution_count": 66,
   "id": "436396af-8bd6-4b31-9981-debf01c208b6",
   "metadata": {
    "tags": []
   },
   "outputs": [],
   "source": [
    "from langchain.schema import Document\n",
    "from pprint import pformat\n",
    "\n",
    "document = Document(\n",
    "    page_content=pformat(summary)\n",
    ")\n",
    "\n",
    "response =[document]"
   ]
  },
  {
   "cell_type": "code",
   "execution_count": 77,
   "id": "6e4b8002-8d5b-4534-a331-a962dfc0d45d",
   "metadata": {
    "tags": []
   },
   "outputs": [
    {
     "name": "stdout",
     "output_type": "stream",
     "text": [
      "\n",
      "- Alice: A curious girl who loves to explore and has a wild imagination.\n",
      "- Alice's Evidence: The jury of her peers made up of a curious assortment of characters from Wonderland.\n",
      "- Caterpillar: A wise and witty creature who has an affinity for smoking hookah.\n",
      "- Croquet-Ground: The Queen's loyal butler and faithful servant.\n",
      "- Lobster Quadrille: A famous lobster who loves to dance.\n",
      "- Mad Hatter: A wild and eccentric character who loves to throw wild tea parties and ask nonsensical questions.\n",
      "- March Hare: A wild hare who is always late and known for his wild antics and silly stories.\n",
      "- Mock Turtle: An incredibly mysterious creature that has been known to make people laugh uncontrollably.\n",
      "- Pig: A very silly character who loves to have fun and make people laugh.\n",
      "- Rabbit: A wise little creature who is always on the lookout for Alice's shenanigans.\n",
      "- Rabbit-Hole: An adventurous bunny who loves to explore and have fun.\n",
      "- The Mock Turtle: A mysterious creature who is said to be half-turtle, half-mockery.\n",
      "- White Rabbit: A curious creature who loves to be punctual and is always running late\n"
     ]
    }
   ],
   "source": [
    "from langchain import PromptTemplate\n",
    "from langchain.chains.summarize import load_summarize_chain\n",
    "\n",
    "# setup a custom prompt\n",
    "# the Summarization Chain provides a defaults prompt: write a concise summary.\n",
    "prompt_template = \"\"\"\n",
    "Return a pretty list of names and description.\n",
    "\n",
    "Expected response format:\n",
    "- character name: character description\n",
    "\n",
    "% TEXT:\n",
    "\n",
    "{text}\n",
    "\"\"\"\n",
    "\n",
    "prompt = PromptTemplate(template=prompt_template, input_variables=[\"text\"])\n",
    "\n",
    "# the attribute map_reduce instruct the chain to \n",
    "# - first apply the model to each chunck (map stage) \n",
    "# - then all map results and apply the model (reduce stage)\n",
    "chain = load_summarize_chain(\n",
    "    llm, \n",
    "    chain_type=\"stuff\", \n",
    "    prompt=prompt, \n",
    "    verbose=False)\n",
    "\n",
    "# run the chain against all the document chunks\n",
    "output = chain.run(response)\n",
    "\n",
    "print(output)"
   ]
  },
  {
   "cell_type": "markdown",
   "id": "c53cc494-1f40-4547-8a06-ac24216ad2a0",
   "metadata": {},
   "source": [
    "\n",
    "- Alice: A curious girl who loves to explore and has a wild imagination. \n",
    "- Alice's Evidence: A jury of Alice's peers from Wonderland, including the White Rabbit, the Cheshire Cat, the Mad Hatter, and the Caterpillar. \n",
    "- Caterpillar: A wise and witty creature who has an affinity for smoking hookah. \n",
    "- Croquet-Ground: The Queen's loyal butler and faithful servant, made of croquet hoops, mallets, and balls. \n",
    "- Lobster Quadrille: A famous lobster who loves to dance and show off his moves. \n",
    "- Mad Hatter: A wild and eccentric character who loves to throw wild tea parties and ask nonsensical questions. \n",
    "- March Hare: A wild hare who is always late and loves to tell silly stories. \n",
    "- Mock Turtle: An incredibly mysterious creature that has been known to make people laugh uncontrollably. \n",
    "- Pig: A very silly character who loves to have fun and make people laugh. \n",
    "- Rabbit: A wise little creature who is always on the lookout for Alice's shenanigans. \n",
    "- Rabbit-Hole: An adventurous bunny who loves to explore and have a good time. \n",
    "- The Mock"
   ]
  },
  {
   "cell_type": "markdown",
   "id": "4740a71c-f6cc-45fe-b8cb-4d44b3c13729",
   "metadata": {},
   "source": [
    "## Turn into a readable response using the chat model"
   ]
  },
  {
   "cell_type": "code",
   "execution_count": 67,
   "id": "e3638c8e-4af2-4476-8e45-a817254990b1",
   "metadata": {
    "tags": []
   },
   "outputs": [
    {
     "name": "stdout",
     "output_type": "stream",
     "text": [
      "- Alice: Alice is a curious girl who loves to explore. She often finds herself in interesting and strange situations, like talking to caterpillars and playing a caucus race with a variety of animals. She has a wild imagination and is always ready for an adventure. With her courage and wit, there's no telling what she'll do next!\n",
      "- Alice's Evidence: Alice's Evidence is the jury of her peers, made up of a curious assortment of characters from Wonderland, including the White Rabbit, the Cheshire Cat, the Mad Hatter, and the Caterpillar. They all come together to listen to her case and provide a verdict based on her unique perspective. It's sure to be an entertaining trial!\n",
      "- Alice,: Alice is a young girl who finds herself in strange and wonderful places. She often meets talking animals, attends mysterious tea parties, and embarks on wild adventures, all while learning valuable lessons about life. She is a brave, curious, and imaginative explorer who never ceases to amaze!\n",
      "- Caterpillar: Caterpillar is a wise and witty creature who has an affinity for smoking hookah. He is known to offer sage advice to those who seek it, although his riddles can be quite confusing at times. He is a mysterious and comical character who often leaves people scratching their heads.\n",
      "- Croquet-Ground: Croquet-Ground is the Queen's loyal butler and faithful servant. He is a stick figure made of croquet hoops, mallets, and balls, and he wears a tall top hat made of clover leaves. He is always ready to serve the Queen with a smile, and is always ready to offer a friendly game of croquet to her Majesty's guests.\n",
      "- Lobster Quadrille: Lobster Quadrille is the famous lobster who loves to dance! He loves to dance the night away and can often be found doing an exciting jig on the beach. He loves to show off his moves and even teaches some of the other sea creatures to dance. He's the life of the party, and everyone loves to watch him show off his moves!\n",
      "- Mad Hatter: The Mad Hatter is a character from Lewis Carroll's famous book Alice in Wonderland. He is a wild and eccentric character who loves to throw wild tea parties and ask nonsensical questions. He is always dressed in bright colors and wearing a tall hat with a card that says \"In this style 10/6\". He is a bit of a mischievous character who loves to cause chaos and confusion. He is a beloved character who is adored by fans all around the world.\n",
      "- March Hare: The March Hare is a wild hare who is always late! He's always running around in a hurry, trying to get to places on time, but he never seems to make it. He's always late for tea with Alice and the Mad Hatter and is usually the center of attention in the tea parties. He's known for his wild antics and his silly stories, which always seem to make everyone laugh!\n",
      "- Mock Turtle: The Mock Turtle is an incredibly mysterious creature that has been known to make people laugh uncontrollably with its silly antics and peculiar behavior. It has been known to do things like wear a funny hat, dance around in circles, and tell silly jokes that never seem to get old. It's a creature that has been the source of many smiles and will continue to bring joy to everyone who meets it.\n",
      "- Pig: Pig is a very silly character who loves to have fun and make people laugh. He loves to play pranks and is always up for an adventure. He is always looking for an opportunity to show off his mischievous side. Pig's motto is 'Life is too short to be serious all the time!'\n",
      "- Rabbit: Rabbit is a wise little creature who is always on the lookout for Alice's shenanigans. He isn't afraid to be stern with her when she needs to be reminded of her manners, but he also knows how to have a little fun. He's always up for a good game of hopscotch or hide-and-seek, and he loves to play pranks on Alice and her friends. He's a lovable, mischievous little rabbit who is always up for an adventure!\n",
      "- Rabbit-Hole: Rabbit-Hole is an adventurous bunny who loves to explore. He's always trying to find new and exciting places, and he never stops looking for a good time. He loves to have fun, make new friends, and he always finds a way to make people smile. When it comes to having a good time, Rabbit-Hole knows exactly what to do!\n",
      "- The Mock Turtle: The Mock Turtle is a mysterious creature who is said to be half-turtle, half-mockery. It's said he was created by a mad scientist who wanted to combine the grace and speed of a turtle with the wit and humor of a mockingbird. He's a paradoxical being who loves to laugh and make others laugh, but he's also wise and thoughtful. He's a beloved figure in Wonderland, providing guidance and companionship to all who come his way.\n",
      "- White Rabbit: The White Rabbit is a curious creature who loves to be punctual. He's always running late and is forever trying to find a way to make up for lost time. He's always in a hurry, but never fails to show up with a smile, a pocket watch, and a few carrots for Alice. He's a funny little fellow that loves to give advice, even if it's not always the best.\n"
     ]
    }
   ],
   "source": [
    "# To help construct our Chat Messages\n",
    "from langchain.schema import HumanMessage\n",
    "from langchain.prompts import PromptTemplate, ChatPromptTemplate, HumanMessagePromptTemplate\n",
    "\n",
    "# We will be using a chat model, defaults to gpt-3.5-turbo\n",
    "from langchain.chat_models import ChatOpenAI\n",
    "\n",
    "chat_model = ChatOpenAI(temperature=0, model_name='gpt-3.5-turbo')\n",
    "instructions = \"\"\"\n",
    "You will be given a python dictionnary with character names as key and description in the field result. \n",
    "Return a pretty list of names and description.\n",
    "\"\"\"\n",
    "\n",
    "characters = pformat(summary)\n",
    "\n",
    "# Make your prompt which combines the instructions w/ the trxt\n",
    "prompt = (instructions + characters)\n",
    "\n",
    "# Call the LLM\n",
    "output = chat_model([HumanMessage(content=prompt)])\n",
    "\n",
    "print (output.content)\n"
   ]
  },
  {
   "cell_type": "markdown",
   "id": "3220820f-d6ac-42a2-9437-f5d0277da887",
   "metadata": {},
   "source": [
    "---\n",
    "## Chroma can use metadata\n",
    "\n",
    "<div class=\"alert alert-block alert-warning\"> \n",
    "    TODO\n",
    "</div>\n"
   ]
  },
  {
   "cell_type": "markdown",
   "id": "757f697f-c205-4401-a5e3-372eebd1db62",
   "metadata": {},
   "source": [
    "---\n",
    "## Chroma can persist the database\n",
    "<div class=\"alert alert-block alert-warning\"> \n",
    "    TODO \n",
    "</div>\n",
    "\n",
    "```python\n",
    "db2.persist()\n",
    "docs = db2.similarity_search(query)\n",
    "\n",
    "# load from disk\n",
    "db3 = Chroma(persist_directory=\"./chroma_db\", embedding_function=embedding_function)\n",
    "docs = db3.similarity_search(query)\n",
    "print(docs[0].page_content)\n",
    "```"
   ]
  },
  {
   "cell_type": "markdown",
   "id": "d8fd1c4c-737b-4e65-9f98-59a5dbd66282",
   "metadata": {},
   "source": [
    "---\n",
    "## test gtp 3.5 ou 4 in chat\n",
    "\n",
    "<div class=\"alert alert-block alert-warning\"> \n",
    "    TODO\n",
    "</div>\n"
   ]
  }
 ],
 "metadata": {
  "availableInstances": [
   {
    "_defaultOrder": 0,
    "_isFastLaunch": true,
    "category": "General purpose",
    "gpuNum": 0,
    "memoryGiB": 4,
    "name": "ml.t3.medium",
    "vcpuNum": 2
   },
   {
    "_defaultOrder": 1,
    "_isFastLaunch": false,
    "category": "General purpose",
    "gpuNum": 0,
    "memoryGiB": 8,
    "name": "ml.t3.large",
    "vcpuNum": 2
   },
   {
    "_defaultOrder": 2,
    "_isFastLaunch": false,
    "category": "General purpose",
    "gpuNum": 0,
    "memoryGiB": 16,
    "name": "ml.t3.xlarge",
    "vcpuNum": 4
   },
   {
    "_defaultOrder": 3,
    "_isFastLaunch": false,
    "category": "General purpose",
    "gpuNum": 0,
    "memoryGiB": 32,
    "name": "ml.t3.2xlarge",
    "vcpuNum": 8
   },
   {
    "_defaultOrder": 4,
    "_isFastLaunch": true,
    "category": "General purpose",
    "gpuNum": 0,
    "memoryGiB": 8,
    "name": "ml.m5.large",
    "vcpuNum": 2
   },
   {
    "_defaultOrder": 5,
    "_isFastLaunch": false,
    "category": "General purpose",
    "gpuNum": 0,
    "memoryGiB": 16,
    "name": "ml.m5.xlarge",
    "vcpuNum": 4
   },
   {
    "_defaultOrder": 6,
    "_isFastLaunch": false,
    "category": "General purpose",
    "gpuNum": 0,
    "memoryGiB": 32,
    "name": "ml.m5.2xlarge",
    "vcpuNum": 8
   },
   {
    "_defaultOrder": 7,
    "_isFastLaunch": false,
    "category": "General purpose",
    "gpuNum": 0,
    "memoryGiB": 64,
    "name": "ml.m5.4xlarge",
    "vcpuNum": 16
   },
   {
    "_defaultOrder": 8,
    "_isFastLaunch": false,
    "category": "General purpose",
    "gpuNum": 0,
    "memoryGiB": 128,
    "name": "ml.m5.8xlarge",
    "vcpuNum": 32
   },
   {
    "_defaultOrder": 9,
    "_isFastLaunch": false,
    "category": "General purpose",
    "gpuNum": 0,
    "memoryGiB": 192,
    "name": "ml.m5.12xlarge",
    "vcpuNum": 48
   },
   {
    "_defaultOrder": 10,
    "_isFastLaunch": false,
    "category": "General purpose",
    "gpuNum": 0,
    "memoryGiB": 256,
    "name": "ml.m5.16xlarge",
    "vcpuNum": 64
   },
   {
    "_defaultOrder": 11,
    "_isFastLaunch": false,
    "category": "General purpose",
    "gpuNum": 0,
    "memoryGiB": 384,
    "name": "ml.m5.24xlarge",
    "vcpuNum": 96
   },
   {
    "_defaultOrder": 12,
    "_isFastLaunch": false,
    "category": "General purpose",
    "gpuNum": 0,
    "memoryGiB": 8,
    "name": "ml.m5d.large",
    "vcpuNum": 2
   },
   {
    "_defaultOrder": 13,
    "_isFastLaunch": false,
    "category": "General purpose",
    "gpuNum": 0,
    "memoryGiB": 16,
    "name": "ml.m5d.xlarge",
    "vcpuNum": 4
   },
   {
    "_defaultOrder": 14,
    "_isFastLaunch": false,
    "category": "General purpose",
    "gpuNum": 0,
    "memoryGiB": 32,
    "name": "ml.m5d.2xlarge",
    "vcpuNum": 8
   },
   {
    "_defaultOrder": 15,
    "_isFastLaunch": false,
    "category": "General purpose",
    "gpuNum": 0,
    "memoryGiB": 64,
    "name": "ml.m5d.4xlarge",
    "vcpuNum": 16
   },
   {
    "_defaultOrder": 16,
    "_isFastLaunch": false,
    "category": "General purpose",
    "gpuNum": 0,
    "memoryGiB": 128,
    "name": "ml.m5d.8xlarge",
    "vcpuNum": 32
   },
   {
    "_defaultOrder": 17,
    "_isFastLaunch": false,
    "category": "General purpose",
    "gpuNum": 0,
    "memoryGiB": 192,
    "name": "ml.m5d.12xlarge",
    "vcpuNum": 48
   },
   {
    "_defaultOrder": 18,
    "_isFastLaunch": false,
    "category": "General purpose",
    "gpuNum": 0,
    "memoryGiB": 256,
    "name": "ml.m5d.16xlarge",
    "vcpuNum": 64
   },
   {
    "_defaultOrder": 19,
    "_isFastLaunch": false,
    "category": "General purpose",
    "gpuNum": 0,
    "memoryGiB": 384,
    "name": "ml.m5d.24xlarge",
    "vcpuNum": 96
   },
   {
    "_defaultOrder": 20,
    "_isFastLaunch": true,
    "category": "Compute optimized",
    "gpuNum": 0,
    "memoryGiB": 4,
    "name": "ml.c5.large",
    "vcpuNum": 2
   },
   {
    "_defaultOrder": 21,
    "_isFastLaunch": false,
    "category": "Compute optimized",
    "gpuNum": 0,
    "memoryGiB": 8,
    "name": "ml.c5.xlarge",
    "vcpuNum": 4
   },
   {
    "_defaultOrder": 22,
    "_isFastLaunch": false,
    "category": "Compute optimized",
    "gpuNum": 0,
    "memoryGiB": 16,
    "name": "ml.c5.2xlarge",
    "vcpuNum": 8
   },
   {
    "_defaultOrder": 23,
    "_isFastLaunch": false,
    "category": "Compute optimized",
    "gpuNum": 0,
    "memoryGiB": 32,
    "name": "ml.c5.4xlarge",
    "vcpuNum": 16
   },
   {
    "_defaultOrder": 24,
    "_isFastLaunch": false,
    "category": "Compute optimized",
    "gpuNum": 0,
    "memoryGiB": 72,
    "name": "ml.c5.9xlarge",
    "vcpuNum": 36
   },
   {
    "_defaultOrder": 25,
    "_isFastLaunch": false,
    "category": "Compute optimized",
    "gpuNum": 0,
    "memoryGiB": 96,
    "name": "ml.c5.12xlarge",
    "vcpuNum": 48
   },
   {
    "_defaultOrder": 26,
    "_isFastLaunch": false,
    "category": "Compute optimized",
    "gpuNum": 0,
    "memoryGiB": 144,
    "name": "ml.c5.18xlarge",
    "vcpuNum": 72
   },
   {
    "_defaultOrder": 27,
    "_isFastLaunch": false,
    "category": "Compute optimized",
    "gpuNum": 0,
    "memoryGiB": 192,
    "name": "ml.c5.24xlarge",
    "vcpuNum": 96
   },
   {
    "_defaultOrder": 28,
    "_isFastLaunch": true,
    "category": "Accelerated computing",
    "gpuNum": 1,
    "memoryGiB": 16,
    "name": "ml.g4dn.xlarge",
    "vcpuNum": 4
   },
   {
    "_defaultOrder": 29,
    "_isFastLaunch": false,
    "category": "Accelerated computing",
    "gpuNum": 1,
    "memoryGiB": 32,
    "name": "ml.g4dn.2xlarge",
    "vcpuNum": 8
   },
   {
    "_defaultOrder": 30,
    "_isFastLaunch": false,
    "category": "Accelerated computing",
    "gpuNum": 1,
    "memoryGiB": 64,
    "name": "ml.g4dn.4xlarge",
    "vcpuNum": 16
   },
   {
    "_defaultOrder": 31,
    "_isFastLaunch": false,
    "category": "Accelerated computing",
    "gpuNum": 1,
    "memoryGiB": 128,
    "name": "ml.g4dn.8xlarge",
    "vcpuNum": 32
   },
   {
    "_defaultOrder": 32,
    "_isFastLaunch": false,
    "category": "Accelerated computing",
    "gpuNum": 4,
    "memoryGiB": 192,
    "name": "ml.g4dn.12xlarge",
    "vcpuNum": 48
   },
   {
    "_defaultOrder": 33,
    "_isFastLaunch": false,
    "category": "Accelerated computing",
    "gpuNum": 1,
    "memoryGiB": 256,
    "name": "ml.g4dn.16xlarge",
    "vcpuNum": 64
   },
   {
    "_defaultOrder": 34,
    "_isFastLaunch": false,
    "category": "Accelerated computing",
    "gpuNum": 1,
    "memoryGiB": 61,
    "name": "ml.p3.2xlarge",
    "vcpuNum": 8
   },
   {
    "_defaultOrder": 35,
    "_isFastLaunch": false,
    "category": "Accelerated computing",
    "gpuNum": 4,
    "memoryGiB": 244,
    "name": "ml.p3.8xlarge",
    "vcpuNum": 32
   },
   {
    "_defaultOrder": 36,
    "_isFastLaunch": false,
    "category": "Accelerated computing",
    "gpuNum": 8,
    "memoryGiB": 488,
    "name": "ml.p3.16xlarge",
    "vcpuNum": 64
   },
   {
    "_defaultOrder": 37,
    "_isFastLaunch": false,
    "category": "Accelerated computing",
    "gpuNum": 8,
    "memoryGiB": 768,
    "name": "ml.p3dn.24xlarge",
    "vcpuNum": 96
   },
   {
    "_defaultOrder": 38,
    "_isFastLaunch": false,
    "category": "Memory Optimized",
    "gpuNum": 0,
    "memoryGiB": 16,
    "name": "ml.r5.large",
    "vcpuNum": 2
   },
   {
    "_defaultOrder": 39,
    "_isFastLaunch": false,
    "category": "Memory Optimized",
    "gpuNum": 0,
    "memoryGiB": 32,
    "name": "ml.r5.xlarge",
    "vcpuNum": 4
   },
   {
    "_defaultOrder": 40,
    "_isFastLaunch": false,
    "category": "Memory Optimized",
    "gpuNum": 0,
    "memoryGiB": 64,
    "name": "ml.r5.2xlarge",
    "vcpuNum": 8
   },
   {
    "_defaultOrder": 41,
    "_isFastLaunch": false,
    "category": "Memory Optimized",
    "gpuNum": 0,
    "memoryGiB": 128,
    "name": "ml.r5.4xlarge",
    "vcpuNum": 16
   },
   {
    "_defaultOrder": 42,
    "_isFastLaunch": false,
    "category": "Memory Optimized",
    "gpuNum": 0,
    "memoryGiB": 256,
    "name": "ml.r5.8xlarge",
    "vcpuNum": 32
   },
   {
    "_defaultOrder": 43,
    "_isFastLaunch": false,
    "category": "Memory Optimized",
    "gpuNum": 0,
    "memoryGiB": 384,
    "name": "ml.r5.12xlarge",
    "vcpuNum": 48
   },
   {
    "_defaultOrder": 44,
    "_isFastLaunch": false,
    "category": "Memory Optimized",
    "gpuNum": 0,
    "memoryGiB": 512,
    "name": "ml.r5.16xlarge",
    "vcpuNum": 64
   },
   {
    "_defaultOrder": 45,
    "_isFastLaunch": false,
    "category": "Memory Optimized",
    "gpuNum": 0,
    "memoryGiB": 768,
    "name": "ml.r5.24xlarge",
    "vcpuNum": 96
   },
   {
    "_defaultOrder": 46,
    "_isFastLaunch": false,
    "category": "Accelerated computing",
    "gpuNum": 1,
    "memoryGiB": 16,
    "name": "ml.g5.xlarge",
    "vcpuNum": 4
   },
   {
    "_defaultOrder": 47,
    "_isFastLaunch": false,
    "category": "Accelerated computing",
    "gpuNum": 1,
    "memoryGiB": 32,
    "name": "ml.g5.2xlarge",
    "vcpuNum": 8
   },
   {
    "_defaultOrder": 48,
    "_isFastLaunch": false,
    "category": "Accelerated computing",
    "gpuNum": 1,
    "memoryGiB": 64,
    "name": "ml.g5.4xlarge",
    "vcpuNum": 16
   },
   {
    "_defaultOrder": 49,
    "_isFastLaunch": false,
    "category": "Accelerated computing",
    "gpuNum": 1,
    "memoryGiB": 128,
    "name": "ml.g5.8xlarge",
    "vcpuNum": 32
   },
   {
    "_defaultOrder": 50,
    "_isFastLaunch": false,
    "category": "Accelerated computing",
    "gpuNum": 1,
    "memoryGiB": 256,
    "name": "ml.g5.16xlarge",
    "vcpuNum": 64
   },
   {
    "_defaultOrder": 51,
    "_isFastLaunch": false,
    "category": "Accelerated computing",
    "gpuNum": 4,
    "memoryGiB": 192,
    "name": "ml.g5.12xlarge",
    "vcpuNum": 48
   },
   {
    "_defaultOrder": 52,
    "_isFastLaunch": false,
    "category": "Accelerated computing",
    "gpuNum": 4,
    "memoryGiB": 384,
    "name": "ml.g5.24xlarge",
    "vcpuNum": 96
   },
   {
    "_defaultOrder": 53,
    "_isFastLaunch": false,
    "category": "Accelerated computing",
    "gpuNum": 8,
    "memoryGiB": 768,
    "name": "ml.g5.48xlarge",
    "vcpuNum": 192
   }
  ],
  "instance_type": "ml.t3.medium",
  "kernelspec": {
   "display_name": "Python 3 (Base Python 3.0)",
   "language": "python",
   "name": "python3__SAGEMAKER_INTERNAL__arn:aws:sagemaker:eu-west-3:615547856133:image/sagemaker-base-python-310-v1"
  },
  "language_info": {
   "codemirror_mode": {
    "name": "ipython",
    "version": 3
   },
   "file_extension": ".py",
   "mimetype": "text/x-python",
   "name": "python",
   "nbconvert_exporter": "python",
   "pygments_lexer": "ipython3",
   "version": "3.10.8"
  }
 },
 "nbformat": 4,
 "nbformat_minor": 5
}
