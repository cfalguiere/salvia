{
 "cells": [
  {
   "cell_type": "markdown",
   "metadata": {},
   "source": [
    "# Dataset\n",
    "\n",
    "The dataset you use is \n",
    "\n",
    "Based on this tutorial:\n",
    "https://docs.aws.amazon.com/en_jp/sagemaker/latest/dg/automatic-model-tuning-ex-data.html\n",
    "\n",
    "TODO document the dataset"
   ]
  },
  {
   "cell_type": "markdown",
   "metadata": {},
   "source": [
    "# Session initialisation"
   ]
  },
  {
   "cell_type": "code",
   "execution_count": null,
   "metadata": {
    "tags": []
   },
   "outputs": [],
   "source": [
    "import sys\n",
    "!{sys.executable} -m pip install \"sagemaker>=2.121.0\"\n"
   ]
  },
  {
   "cell_type": "code",
   "execution_count": null,
   "metadata": {
    "pycharm": {
     "name": "#%%\n"
    },
    "tags": []
   },
   "outputs": [],
   "source": [
    "import boto3\n",
    "import sagemaker\n",
    "from sagemaker.workflow.pipeline_context import PipelineSession\n",
    "\n",
    "sagemaker_session = sagemaker.session.Session()\n",
    "region = sagemaker_session.boto_region_name\n",
    "role = sagemaker.get_execution_role()\n",
    "default_bucket = sagemaker_session.default_bucket()"
   ]
  },
  {
   "cell_type": "markdown",
   "metadata": {},
   "source": [
    "# Parameters"
   ]
  },
  {
   "cell_type": "code",
   "execution_count": null,
   "metadata": {
    "tags": []
   },
   "outputs": [],
   "source": [
    "from time import gmtime, strftime\n",
    "import time\n",
    "\n",
    "run_id = f\"{strftime('%y%m%d%H%M', gmtime())}\"\n",
    "\n",
    "stage_prefix = \"L\"\n",
    "project_prefix = \"bank\"\n",
    "variant_prefix = \"automl\""
   ]
  },
  {
   "cell_type": "code",
   "execution_count": null,
   "metadata": {},
   "outputs": [],
   "source": [
    "print(f\"{run_id=}\")"
   ]
  },
  {
   "cell_type": "markdown",
   "metadata": {},
   "source": [
    "# Data Acquisition"
   ]
  },
  {
   "cell_type": "code",
   "execution_count": null,
   "metadata": {
    "tags": []
   },
   "outputs": [],
   "source": [
    "data_source_uri = \"https://archive.ics.uci.edu/ml/machine-learning-databases/00222/bank-additional.zip\""
   ]
  },
  {
   "cell_type": "code",
   "execution_count": null,
   "metadata": {
    "tags": []
   },
   "outputs": [],
   "source": [
    "import os\n",
    "from io import BytesIO\n",
    "from zipfile import ZipFile\n",
    "from urllib.request import urlopen\n",
    "\n",
    "data_folder = os.path.join(\"./generated/data\", stage_prefix, project_prefix, variant_prefix)\n",
    "os.makedirs(data_folder, exist_ok=True)\n",
    "\n",
    "raw_data_folder = os.path.join(data_folder, \"raw\")\n",
    "os.makedirs(raw_data_folder, exist_ok=True)\n",
    "\n",
    "response = urlopen(data_source_uri)\n",
    "source_zip = ZipFile(BytesIO(response.read()))\n",
    "source_zip.extractall(raw_data_folder) "
   ]
  },
  {
   "cell_type": "code",
   "execution_count": null,
   "metadata": {
    "tags": []
   },
   "outputs": [],
   "source": [
    "import pandas as pd\n",
    "pd.set_option('display.max_columns', 500)     # Make sure we can see all of the columns\n",
    "pd.set_option('display.max_rows', 5)         # Keep the output on one page"
   ]
  },
  {
   "cell_type": "code",
   "execution_count": null,
   "metadata": {
    "tags": []
   },
   "outputs": [],
   "source": [
    "dataset_folder = os.path.join(raw_data_folder, \"bank-additional\")"
   ]
  },
  {
   "cell_type": "code",
   "execution_count": null,
   "metadata": {
    "tags": []
   },
   "outputs": [],
   "source": [
    "os.listdir(dataset_folder)"
   ]
  },
  {
   "cell_type": "code",
   "execution_count": null,
   "metadata": {
    "tags": []
   },
   "outputs": [],
   "source": [
    "raw_dataset_path = os.path.join(dataset_folder, \"bank-additional-full.csv\")\n",
    "df = pd.read_csv(raw_dataset_path, sep=';')"
   ]
  },
  {
   "cell_type": "code",
   "execution_count": null,
   "metadata": {
    "tags": []
   },
   "outputs": [],
   "source": [
    "df.head(10)"
   ]
  },
  {
   "cell_type": "markdown",
   "metadata": {},
   "source": [
    "# Data Preparation"
   ]
  },
  {
   "cell_type": "code",
   "execution_count": null,
   "metadata": {},
   "outputs": [],
   "source": [
    "# save as comma separated as AutoML requires comma separated CSV\n",
    "\n",
    "def save_dataset(df, prefix):\n",
    "    os.makedirs(os.path.join(data_folder, f\"{prefix}\"), exist_ok=True)\n",
    "    local_filename = os.path.join(data_folder, f\"{prefix}/{prefix}.csv\")\n",
    "    df.to_csv(local_filename, index=False, header=True)\n",
    "    return local_filename\n",
    "\n",
    "input_dataset_path = save_dataset(df, \"input\")"
   ]
  },
  {
   "cell_type": "code",
   "execution_count": null,
   "metadata": {
    "tags": []
   },
   "outputs": [],
   "source": [
    "# uppload\n",
    "base_uri = f\"s3://{default_bucket}/{stage_prefix}/{project_prefix}/{variant_prefix}\"\n",
    "\n",
    "input_data_uri = sagemaker.s3.S3Uploader.upload(\n",
    "        local_path=input_dataset_path,\n",
    "        desired_s3_uri=f\"{base_uri}/input\"\n",
    "    )"
   ]
  },
  {
   "cell_type": "code",
   "execution_count": null,
   "metadata": {
    "tags": []
   },
   "outputs": [],
   "source": [
    "print(input_data_uri)"
   ]
  },
  {
   "cell_type": "code",
   "execution_count": null,
   "metadata": {
    "tags": []
   },
   "outputs": [],
   "source": [
    "input_df = df = pd.read_csv(input_data_uri)\n",
    "input_df.head(10)"
   ]
  },
  {
   "cell_type": "markdown",
   "metadata": {},
   "source": [
    "## Training Parameters\n",
    "\n",
    "TODO"
   ]
  },
  {
   "cell_type": "code",
   "execution_count": null,
   "metadata": {
    "pycharm": {
     "name": "#%%\n"
    },
    "tags": []
   },
   "outputs": [],
   "source": [
    "max_candidates = 5\n",
    "validation_fraction = 0.2\n",
    "total_job_runtime_in_seconds = 1800\n",
    "\n",
    "label_column = \"y\""
   ]
  },
  {
   "cell_type": "markdown",
   "metadata": {},
   "source": [
    "## AutoML Training"
   ]
  },
  {
   "cell_type": "code",
   "execution_count": null,
   "metadata": {
    "tags": []
   },
   "outputs": [],
   "source": [
    "from sagemaker.automl.automl import AutoML\n",
    "from sagemaker.automl.automl import AutoMLInput\n",
    "from sagemaker.workflow.automl_step import AutoMLStep\n",
    "\n",
    " \n",
    "automl = AutoML(\n",
    "    role=role,\n",
    "    target_attribute_name=label_column,\n",
    "    validation_fraction=validation_fraction,\n",
    "    sagemaker_session=sagemaker_session,\n",
    "    #total_job_runtime_in_seconds=total_job_runtime_in_seconds, \n",
    "    max_candidates = max_candidates,\n",
    "    mode=\"ENSEMBLING\"\n",
    ")\n",
    "\n",
    "input_raw = AutoMLInput(\n",
    "    inputs=input_data_uri,    \n",
    "    target_attribute_name=label_column\n",
    ")\n",
    "\n",
    "step_args = automl.fit(\n",
    "    inputs=[input_raw],\n",
    "    job_name=f\"{stage_prefix}-{project_prefix}-{variant_prefix}-J{run_id}\"\n",
    ")\n"
   ]
  },
  {
   "cell_type": "markdown",
   "metadata": {},
   "source": [
    "# Inspect the best candidate"
   ]
  },
  {
   "cell_type": "code",
   "execution_count": null,
   "metadata": {
    "tags": []
   },
   "outputs": [],
   "source": [
    "automl.__dict__"
   ]
  },
  {
   "cell_type": "code",
   "execution_count": null,
   "metadata": {
    "tags": []
   },
   "outputs": [],
   "source": [
    "automl.latest_auto_ml_job.__dict__"
   ]
  },
  {
   "cell_type": "code",
   "execution_count": null,
   "metadata": {
    "tags": []
   },
   "outputs": [],
   "source": [
    "best_candidate = automl.best_candidate()"
   ]
  },
  {
   "cell_type": "code",
   "execution_count": null,
   "metadata": {},
   "outputs": [],
   "source": [
    "from pprint import pprint"
   ]
  },
  {
   "cell_type": "code",
   "execution_count": null,
   "metadata": {
    "tags": []
   },
   "outputs": [],
   "source": [
    "pprint(best_candidate)"
   ]
  },
  {
   "cell_type": "code",
   "execution_count": null,
   "metadata": {
    "tags": []
   },
   "outputs": [],
   "source": [
    "print(best_candidate['InferenceContainers'][0]['ModelDataUrl'])"
   ]
  },
  {
   "cell_type": "code",
   "execution_count": null,
   "metadata": {
    "tags": []
   },
   "outputs": [],
   "source": [
    "print(best_candidate['CandidateName'])"
   ]
  },
  {
   "cell_type": "code",
   "execution_count": null,
   "metadata": {
    "tags": []
   },
   "outputs": [],
   "source": [
    "pprint(best_candidate['FinalAutoMLJobObjectiveMetric'])"
   ]
  },
  {
   "cell_type": "code",
   "execution_count": null,
   "metadata": {
    "tags": []
   },
   "outputs": [],
   "source": [
    "pprint(best_candidate['CandidateProperties']['CandidateArtifactLocations'])"
   ]
  },
  {
   "cell_type": "code",
   "execution_count": null,
   "metadata": {
    "tags": []
   },
   "outputs": [],
   "source": [
    "pprint(best_candidate['CandidateProperties']['CandidateMetrics'])"
   ]
  },
  {
   "cell_type": "code",
   "execution_count": null,
   "metadata": {
    "tags": []
   },
   "outputs": [],
   "source": [
    "#pprint(automl.list_candidates())"
   ]
  },
  {
   "cell_type": "markdown",
   "metadata": {},
   "source": [
    "# Export best candidate"
   ]
  },
  {
   "cell_type": "code",
   "execution_count": null,
   "metadata": {
    "tags": []
   },
   "outputs": [],
   "source": [
    "from sagemaker.s3 import S3Downloader\n",
    "\n",
    "model_output_folder = os.path.join(\"./generated/model\", stage_prefix, project_prefix, variant_prefix, run_id)\n",
    "os.makedirs(data_folder, exist_ok=True)\n",
    "\n",
    "\n",
    "explainability_folder = os.path.join(model_output_folder, \"explainability\")\n",
    "os.makedirs(explainability_folder, exist_ok=True)\n",
    "\n",
    "explainability_uri = best_candidate['CandidateProperties']['CandidateArtifactLocations']['Explainability'] \n",
    "S3Downloader.download(s3_uri=explainability_uri,\n",
    "                      local_path=explainability_folder,\n",
    "                      sagemaker_session=sagemaker_session)\n",
    "\n",
    "model_insight_folder = os.path.join(model_output_folder, \"model-insight\")\n",
    "os.makedirs(model_insight_folder, exist_ok=True)\n",
    "\n",
    "model_insights_uri = best_candidate['CandidateProperties']['CandidateArtifactLocations']['ModelInsights'] \n",
    "S3Downloader.download(s3_uri=model_insights_uri,\n",
    "                      local_path=model_insight_folder,\n",
    "                      sagemaker_session=sagemaker_session)\n",
    "\n",
    "\n",
    "model_data_folder = os.path.join(model_output_folder, \"model-data\")\n",
    "os.makedirs(model_data_folder, exist_ok=True)\n",
    "\n",
    "model_data_uri = best_candidate['InferenceContainers'][0]['ModelDataUrl'] \n",
    "S3Downloader.download(s3_uri=model_data_uri,\n",
    "                      local_path=model_data_folder,\n",
    "                      sagemaker_session=sagemaker_session)\n",
    "\n",
    "esponse = urlopen(data_source_uri)\n",
    "source_zip = ZipFile(BytesIO(response.read()))\n",
    "source_zip.extractall(raw_data_folder) \n",
    "\n",
    "print(f\"{model_output_folder=}\")"
   ]
  },
  {
   "cell_type": "code",
   "execution_count": null,
   "metadata": {
    "tags": []
   },
   "outputs": [],
   "source": [
    "import tarfile\n",
    "\n",
    "tar_filename = os.path.join(model_data_folder, \"model.tar.gz\")\n",
    "with tarfile.open(tar_filename, 'r') as archive:\n",
    "    archive.extractall(model_data_folder)"
   ]
  },
  {
   "cell_type": "markdown",
   "metadata": {
    "tags": []
   },
   "source": [
    "# TODO"
   ]
  },
  {
   "cell_type": "code",
   "execution_count": null,
   "metadata": {
    "tags": []
   },
   "outputs": [],
   "source": [
    "step_auto_ml_training"
   ]
  },
  {
   "cell_type": "markdown",
   "metadata": {},
   "source": [
    "## Define a Create Model Step to Create a Model\n",
    "\n",
    "In order to perform batch transformation using the example model, create a SageMaker model.\n"
   ]
  },
  {
   "cell_type": "code",
   "execution_count": null,
   "metadata": {
    "tags": []
   },
   "outputs": [],
   "source": [
    "from sagemaker.workflow.model_step import ModelStep\n",
    "\n",
    "best_auto_ml_model = step_auto_ml_training.get_best_auto_ml_model(\n",
    "    role, \n",
    "    sagemaker_session=pipeline_session\n",
    ")\n",
    "\n",
    "step_args_create_model = best_auto_ml_model.create(\n",
    "    instance_type=instance_type_param\n",
    ")\n",
    "\n",
    "step_create_model = ModelStep(\n",
    "    name=\"AutoMLCreateModel\", \n",
    "    step_args=step_args_create_model\n",
    ") "
   ]
  },
  {
   "cell_type": "markdown",
   "metadata": {},
   "source": [
    "## Define a Register Model Step to Create a Model Package\n"
   ]
  },
  {
   "cell_type": "code",
   "execution_count": null,
   "metadata": {
    "tags": []
   },
   "outputs": [],
   "source": [
    "from sagemaker.model_metrics import ModelMetrics, MetricsSource\n",
    "\n",
    "model_metrics = ModelMetrics(\n",
    "    model_statistics=MetricsSource(\n",
    "        s3_uri=step_auto_ml_training.properties.BestCandidateProperties.ModelInsightsJsonReportPath,\n",
    "        content_type=\"application/json\",\n",
    "    ),\n",
    "    explainability=MetricsSource(\n",
    "        s3_uri=step_auto_ml_training.properties.BestCandidateProperties.ExplainabilityJsonReportPath,\n",
    "        content_type=\"application/json\",\n",
    "    ),\n",
    ")\n",
    "\n",
    "register_args = best_auto_ml_model.register(\n",
    "    content_types=[\"text/csv\"],\n",
    "    response_types=[\"text/csv\"],\n",
    "    inference_instances=[\"ml.t2.medium\", \"ml.m5.xlarge\"],\n",
    "    transform_instances=[\"ml.m5.xlarge\"],\n",
    "    model_package_group_name=model_package_group_name,\n",
    "    approval_status=model_approval_status,\n",
    "    model_metrics=model_metrics\n",
    ")\n",
    "\n",
    "step_register = ModelStep(\n",
    "    name=\"AutoMLRegisterModel\", \n",
    "    step_args=register_args\n",
    ")"
   ]
  },
  {
   "cell_type": "code",
   "execution_count": null,
   "metadata": {},
   "outputs": [],
   "source": []
  }
 ],
 "metadata": {
  "instance_type": "ml.t3.medium",
  "kernelspec": {
   "display_name": "Python 3 (Data Science 3.0)",
   "language": "python",
   "name": "python3__SAGEMAKER_INTERNAL__arn:aws:sagemaker:eu-west-1:470317259841:image/sagemaker-data-science-310-v1"
  },
  "language_info": {
   "codemirror_mode": {
    "name": "ipython",
    "version": 3
   },
   "file_extension": ".py",
   "mimetype": "text/x-python",
   "name": "python",
   "nbconvert_exporter": "python",
   "pygments_lexer": "ipython3",
   "version": "3.10.6"
  }
 },
 "nbformat": 4,
 "nbformat_minor": 4
}
