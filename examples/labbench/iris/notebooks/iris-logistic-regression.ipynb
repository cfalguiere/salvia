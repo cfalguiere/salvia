{
 "cells": [
  {
   "cell_type": "markdown",
   "id": "3f98a1ea-a9f9-4953-89d9-317261de8c90",
   "metadata": {},
   "source": [
    "# Logistic Regression on IRIS Dataset using the Scikit-learn library."
   ]
  },
  {
   "cell_type": "code",
   "execution_count": 28,
   "id": "a8e49179-7637-4823-b611-df042c5e2fd3",
   "metadata": {
    "tags": []
   },
   "outputs": [],
   "source": [
    "# Import libraries\n",
    "import numpy as np\n",
    "import matplotlib.pyplot as plt\n",
    "from sklearn import datasets"
   ]
  },
  {
   "cell_type": "markdown",
   "id": "7e09abce-bb1d-4a26-b550-692ddb4cc25d",
   "metadata": {},
   "source": [
    "## Data Acquisition"
   ]
  },
  {
   "cell_type": "code",
   "execution_count": 3,
   "id": "44d6cdfe-2e3c-47d6-b386-87d39c55ac19",
   "metadata": {
    "tags": []
   },
   "outputs": [],
   "source": [
    "# Import the iris dataset\n",
    "iris = datasets.load_iris()\n",
    "X = iris.data[:, :4]  # keep first four features.\n",
    "y = iris.target"
   ]
  },
  {
   "cell_type": "code",
   "execution_count": 4,
   "id": "e2e0543e-3c74-4492-8fdd-0823c35c2b3d",
   "metadata": {
    "tags": []
   },
   "outputs": [
    {
     "data": {
      "text/plain": [
       "'iris.csv'"
      ]
     },
     "execution_count": 4,
     "metadata": {},
     "output_type": "execute_result"
    }
   ],
   "source": [
    "dataset_file = iris.filename\n",
    "dataset_file"
   ]
  },
  {
   "cell_type": "code",
   "execution_count": 5,
   "id": "abd0d002-bb70-419b-be1c-57e19eea9f41",
   "metadata": {
    "tags": []
   },
   "outputs": [
    {
     "name": "stdout",
     "output_type": "stream",
     "text": [
      "X (150, 4)\n",
      "y 150\n"
     ]
    }
   ],
   "source": [
    "print(f\"X {X.shape}\")\n",
    "print(f\"y {len(y)}\")"
   ]
  },
  {
   "cell_type": "code",
   "execution_count": 6,
   "id": "71d5c76f-c246-4217-8ec7-4267b1c5b8ae",
   "metadata": {
    "tags": []
   },
   "outputs": [
    {
     "name": "stdout",
     "output_type": "stream",
     "text": [
      "[[5.1 3.5 1.4 0.2]\n",
      " [4.9 3.  1.4 0.2]\n",
      " [4.7 3.2 1.3 0.2]\n",
      " [4.6 3.1 1.5 0.2]\n",
      " [5.  3.6 1.4 0.2]]\n"
     ]
    }
   ],
   "source": [
    "print(X[:5, :])"
   ]
  },
  {
   "cell_type": "markdown",
   "id": "85e8dca6-eb02-465e-85fc-f806ad10b33d",
   "metadata": {},
   "source": [
    "## Feature Engineering"
   ]
  },
  {
   "cell_type": "code",
   "execution_count": 7,
   "id": "99cd3557-3156-41be-b51d-7205ddb1f83b",
   "metadata": {
    "tags": []
   },
   "outputs": [],
   "source": [
    "# split dataset into train and test\n",
    "from sklearn.model_selection import train_test_split\n",
    "X_train, X_test, y_train, y_test = train_test_split(X, y, test_size = 0.25, random_state = 0)"
   ]
  },
  {
   "cell_type": "code",
   "execution_count": 8,
   "id": "af76a2b9-7716-4d13-9116-197f874f35f8",
   "metadata": {
    "tags": []
   },
   "outputs": [
    {
     "name": "stdout",
     "output_type": "stream",
     "text": [
      "X_train (112, 4)\n",
      "X_test (38, 4)\n",
      "y_train 112\n",
      "y_test 38\n"
     ]
    }
   ],
   "source": [
    "print(f\"X_train {X_train.shape}\")\n",
    "print(f\"X_test {X_test.shape}\")\n",
    "print(f\"y_train {len(y_train)}\")\n",
    "print(f\"y_test {len(y_test)}\")"
   ]
  },
  {
   "cell_type": "markdown",
   "id": "7af1baa2-34bb-41a5-9845-b015f5a6726c",
   "metadata": {},
   "source": [
    "## Training"
   ]
  },
  {
   "cell_type": "code",
   "execution_count": 9,
   "id": "60f2fbe0-aa4f-4617-9887-09f0b5f3795a",
   "metadata": {
    "tags": []
   },
   "outputs": [],
   "source": [
    "# normalize data\n",
    "from sklearn.preprocessing import StandardScaler\n",
    "sc = StandardScaler()\n",
    "X_train = sc.fit_transform(X_train)\n",
    "X_test = sc.transform(X_test)"
   ]
  },
  {
   "cell_type": "code",
   "execution_count": 10,
   "id": "15d43f2f-19d6-4ea1-bbab-dc31aa7c3559",
   "metadata": {
    "tags": []
   },
   "outputs": [
    {
     "name": "stdout",
     "output_type": "stream",
     "text": [
      "[[ 0.01543995 -0.11925475  0.22512685  0.35579762]\n",
      " [-0.09984503 -1.04039491  0.11355956 -0.02984109]\n",
      " [ 1.05300481 -0.11925475  0.95031423  1.12707506]\n",
      " [-1.36797986  0.34131533 -1.39259884 -1.31530348]\n",
      " [ 1.1682898   0.11103029  0.72717965  1.38416753]]\n"
     ]
    }
   ],
   "source": [
    "print(X_train[:5, :])"
   ]
  },
  {
   "cell_type": "markdown",
   "id": "21691739-cc73-4bf9-be75-6050b73daf22",
   "metadata": {},
   "source": [
    "## Evaluation"
   ]
  },
  {
   "cell_type": "code",
   "execution_count": 11,
   "id": "9d4ed70e-9998-47fa-b5e1-58071329e876",
   "metadata": {
    "tags": []
   },
   "outputs": [
    {
     "data": {
      "text/plain": [
       "LogisticRegression(random_state=0)"
      ]
     },
     "execution_count": 11,
     "metadata": {},
     "output_type": "execute_result"
    }
   ],
   "source": [
    "# Fit Logistic Regression \n",
    "from sklearn.linear_model import LogisticRegression\n",
    "solver = 'lbfgs'\n",
    "classifier = LogisticRegression(random_state = 0, solver=solver, multi_class='auto')\n",
    "classifier.fit(X_train, y_train)"
   ]
  },
  {
   "cell_type": "code",
   "execution_count": 12,
   "id": "eb5f5455-2739-45cf-b7eb-12442e3632ac",
   "metadata": {
    "tags": []
   },
   "outputs": [],
   "source": [
    "# Predict using test set\n",
    "y_pred = classifier.predict(X_test)\n",
    "\n",
    "# Predict probabilities using test set\n",
    "probs_y = classifier.predict_proba(X_test)\n",
    "probs_y_rounded = np.round(probs_y, 2)"
   ]
  },
  {
   "cell_type": "code",
   "execution_count": 13,
   "id": "adacacda-9c81-48a8-91ab-9bef0d321be4",
   "metadata": {
    "tags": []
   },
   "outputs": [
    {
     "name": "stdout",
     "output_type": "stream",
     "text": [
      "y_test     | y_pred     | Setosa(%)  | versicolor(%) | virginica(%)\n",
      "-----------------------------------------------------------------\n",
      "2          | 2          | 0.0        | 0.03          | 0.97      \n",
      "1          | 1          | 0.01       | 0.95          | 0.04      \n",
      "0          | 0          | 1.0        | 0.0           | 0.0       \n",
      "2          | 2          | 0.0        | 0.08          | 0.92      \n",
      "0          | 0          | 0.98       | 0.02          | 0.0       \n",
      "2          | 2          | 0.0        | 0.01          | 0.99      \n",
      "0          | 0          | 0.98       | 0.02          | 0.0       \n",
      "1          | 1          | 0.01       | 0.71          | 0.28      \n",
      "1          | 1          | 0.0        | 0.73          | 0.27      \n",
      "1          | 1          | 0.02       | 0.89          | 0.08      \n",
      "2          | 2          | 0.0        | 0.44          | 0.56      \n",
      "1          | 1          | 0.02       | 0.76          | 0.22      \n",
      "1          | 1          | 0.01       | 0.85          | 0.13      \n",
      "1          | 1          | 0.0        | 0.69          | 0.3       \n",
      "1          | 1          | 0.01       | 0.75          | 0.24      \n",
      "0          | 0          | 0.99       | 0.01          | 0.0       \n",
      "1          | 1          | 0.02       | 0.72          | 0.26      \n",
      "1          | 1          | 0.03       | 0.86          | 0.11      \n",
      "0          | 0          | 0.94       | 0.06          | 0.0       \n",
      "0          | 0          | 0.99       | 0.01          | 0.0       \n",
      "2          | 2          | 0.0        | 0.17          | 0.83      \n",
      "1          | 1          | 0.04       | 0.71          | 0.25      \n",
      "0          | 0          | 0.98       | 0.02          | 0.0       \n",
      "0          | 0          | 0.96       | 0.04          | 0.0       \n",
      "2          | 2          | 0.0        | 0.35          | 0.65      \n",
      "0          | 0          | 1.0        | 0.0           | 0.0       \n",
      "0          | 0          | 0.99       | 0.01          | 0.0       \n",
      "1          | 1          | 0.02       | 0.87          | 0.11      \n",
      "1          | 1          | 0.09       | 0.9           | 0.02      \n",
      "0          | 0          | 0.97       | 0.03          | 0.0       \n",
      "2          | 2          | 0.0        | 0.21          | 0.79      \n",
      "1          | 1          | 0.06       | 0.69          | 0.25      \n",
      "0          | 0          | 0.98       | 0.02          | 0.0       \n",
      "2          | 2          | 0.0        | 0.35          | 0.65      \n",
      "2          | 2          | 0.0        | 0.04          | 0.96      \n",
      "1          | 1          | 0.07       | 0.81          | 0.11      \n",
      "0          | 0          | 0.97       | 0.03          | 0.0       \n",
      "1          | 2          | 0.0        | 0.42          | 0.58      \n",
      "-----------------------------------------------------------------\n",
      "\n"
     ]
    }
   ],
   "source": [
    "res = \"{:<10} | {:<10} | {:<10} | {:<13} | {:<5}\".format(\"y_test\", \"y_pred\", \"Setosa(%)\", \"versicolor(%)\", \"virginica(%)\\n\")\n",
    "res += \"-\"*65+\"\\n\"\n",
    "res += \"\\n\".join(\"{:<10} | {:<10} | {:<10} | {:<13} | {:<10}\".format(x, y, a, b, c) for x, y, a, b, c in zip(y_test, y_pred, probs_y_rounded[:,0], probs_y_rounded[:,1], probs_y_rounded[:,2]))\n",
    "res += \"\\n\"+\"-\"*65+\"\\n\"\n",
    "print(res)"
   ]
  },
  {
   "cell_type": "code",
   "execution_count": 14,
   "id": "fd42e58c-5a03-42dc-b91f-bc221a239f16",
   "metadata": {
    "tags": []
   },
   "outputs": [],
   "source": [
    "accuracy = classifier.score(X_test, y_pred)"
   ]
  },
  {
   "cell_type": "code",
   "execution_count": 15,
   "id": "a5836872-3baa-4268-a70f-ffc56183c841",
   "metadata": {
    "tags": []
   },
   "outputs": [
    {
     "name": "stdout",
     "output_type": "stream",
     "text": [
      "accuracy 1.0\n"
     ]
    }
   ],
   "source": [
    "print(f\"accuracy {accuracy}\")"
   ]
  },
  {
   "cell_type": "code",
   "execution_count": 16,
   "id": "8197374b-d0b6-4e8f-8edd-35388a7e7c6c",
   "metadata": {
    "tags": []
   },
   "outputs": [
    {
     "name": "stdout",
     "output_type": "stream",
     "text": [
      "[[13  0  0]\n",
      " [ 0 15  1]\n",
      " [ 0  0  9]]\n"
     ]
    }
   ],
   "source": [
    "# confusion matrix\n",
    "from sklearn.metrics import confusion_matrix\n",
    "cm = confusion_matrix(y_test, y_pred)\n",
    "print(cm)\n"
   ]
  },
  {
   "cell_type": "code",
   "execution_count": 35,
   "id": "4cf58407-287e-4485-959c-5fb5900f0041",
   "metadata": {
    "tags": []
   },
   "outputs": [
    {
     "data": {
      "image/png": "[encoded data removed]",
      "text/plain": [
       "<Figure size 640x480 with 2 Axes>"
      ]
     },
     "metadata": {},
     "output_type": "display_data"
    }
   ],
   "source": [
    "# Plot confusion matrix\n",
    "import seaborn as sns\n",
    "import pandas as pd\n",
    "import os\n",
    "\n",
    "# confusion matrix sns heatmap \n",
    "fig = plt.figure()\n",
    "\n",
    "ax = plt.axes()\n",
    "df_cm = cm\n",
    "sns.heatmap(df_cm, annot=True, annot_kws={\"size\": 30}, fmt='d',cmap=\"Blues\", ax = ax )\n",
    "ax.set_title('Confusion Matrix')\n",
    "plt.show()\n",
    "\n",
    "output_folder=\"generated\"\n",
    "os.makedirs(output_folder, exist_ok=True)\n",
    "fig.savefig(os.path.join(output_folder, 'cm.png'))"
   ]
  },
  {
   "cell_type": "code",
   "execution_count": 21,
   "id": "23c9a73d-c584-43cc-8fcd-9137bcfa755c",
   "metadata": {
    "tags": []
   },
   "outputs": [
    {
     "data": {
      "image/png": "[encoded data removed]",
      "text/plain": [
       "<Figure size 640x480 with 1 Axes>"
      ]
     },
     "metadata": {},
     "output_type": "display_data"
    }
   ],
   "source": [
    "# Plot the dataset points\n",
    "plt.scatter(X[:, 0], X[:, 1], c=y, edgecolors=\"k\", cmap=plt.cm.Paired)\n",
    "\n",
    "\n",
    "plt.xticks(())\n",
    "plt.yticks(())\n",
    "\n",
    "plt.show()"
   ]
  },
  {
   "cell_type": "markdown",
   "id": "7020bbf8-7db7-4873-b459-0c916176840d",
   "metadata": {},
   "source": [
    "## Experiment Tracking"
   ]
  },
  {
   "cell_type": "code",
   "execution_count": 6,
   "id": "ce78f211-fc2a-4cd8-bbb6-cb800360e70a",
   "metadata": {
    "tags": []
   },
   "outputs": [
    {
     "name": "stdout",
     "output_type": "stream",
     "text": [
      "Requirement already satisfied: sagemaker-experiments==0.1.42 in /opt/conda/lib/python3.10/site-packages (0.1.42)\n",
      "Requirement already satisfied: boto3>=1.16.27 in /opt/conda/lib/python3.10/site-packages (from sagemaker-experiments==0.1.42) (1.26.24)\n",
      "Requirement already satisfied: botocore<1.30.0,>=1.29.24 in /opt/conda/lib/python3.10/site-packages (from boto3>=1.16.27->sagemaker-experiments==0.1.42) (1.29.24)\n",
      "Requirement already satisfied: jmespath<2.0.0,>=0.7.1 in /opt/conda/lib/python3.10/site-packages (from boto3>=1.16.27->sagemaker-experiments==0.1.42) (0.10.0)\n",
      "Requirement already satisfied: s3transfer<0.7.0,>=0.6.0 in /opt/conda/lib/python3.10/site-packages (from boto3>=1.16.27->sagemaker-experiments==0.1.42) (0.6.0)\n",
      "Requirement already satisfied: urllib3<1.27,>=1.25.4 in /opt/conda/lib/python3.10/site-packages (from botocore<1.30.0,>=1.29.24->boto3>=1.16.27->sagemaker-experiments==0.1.42) (1.26.13)\n",
      "Requirement already satisfied: python-dateutil<3.0.0,>=2.1 in /opt/conda/lib/python3.10/site-packages (from botocore<1.30.0,>=1.29.24->boto3>=1.16.27->sagemaker-experiments==0.1.42) (2.8.2)\n",
      "Requirement already satisfied: six>=1.5 in /opt/conda/lib/python3.10/site-packages (from python-dateutil<3.0.0,>=2.1->botocore<1.30.0,>=1.29.24->boto3>=1.16.27->sagemaker-experiments==0.1.42) (1.16.0)\n",
      "\u001b[33mWARNING: Running pip as the 'root' user can result in broken permissions and conflicting behaviour with the system package manager. It is recommended to use a virtual environment instead: https://pip.pypa.io/warnings/venv\u001b[0m\u001b[33m\n",
      "\u001b[0m"
     ]
    }
   ],
   "source": [
    "! pip install 'sagemaker-experiments==0.1.42'  # noqa"
   ]
  },
  {
   "cell_type": "markdown",
   "id": "b4bb61d2-447d-4745-aee9-64293f2c9b2c",
   "metadata": {},
   "source": [
    "TODO requires a job or training job"
   ]
  },
  {
   "cell_type": "code",
   "execution_count": 31,
   "id": "3e69cd1a-400f-490e-9f84-e1f65fe65e54",
   "metadata": {
    "tags": []
   },
   "outputs": [
    {
     "name": "stdout",
     "output_type": "stream",
     "text": [
      "02e0c366-848e-11ed-9c0a-1f9491087f11\n"
     ]
    },
    {
     "name": "stderr",
     "output_type": "stream",
     "text": [
      "WARNING:root:Cannot write metrics in this environment.\n"
     ]
    }
   ],
   "source": [
    "from smexperiments import experiment, tracker\n",
    "import uuid\n",
    "\n",
    "import sagemaker\n",
    "from sagemaker import get_execution_role\n",
    "\n",
    "role = get_execution_role()\n",
    "sess = sagemaker.Session()\n",
    "\n",
    "try:\n",
    "    my_experiment = experiment.Experiment.create(experiment_name='iris-LR')\n",
    "except:\n",
    "    my_experiment =experiment.Experiment.load(experiment_name='iris-LR')\n",
    "\n",
    "tid = uuid.uuid1()\n",
    "print(tid)\n",
    "my_trial = my_experiment.create_trial(trial_name=f'LR-{tid}')\n",
    "\n",
    "# use `with` statement to ensure `my_tracker.close()` is called\n",
    "with tracker.Tracker.create(display_name=\"Training\") as my_tracker:\n",
    "    # log hyper parameter of learning rate\n",
    "    my_tracker.log_parameter('solver', solver)\n",
    "    # log dataset\n",
    "    my_tracker.log_input(name='input', value=dataset_file)\n",
    "    # log hyper metric of learning rate\n",
    "    my_tracker.log_metric('accuracy', accuracy)\n",
    "    my_tracker.log_metric(metric_name='accuracy', value=accuracy, iteration_number=1)\n",
    "\n",
    "    # log a table\n",
    "    #my_tracker.log_table('Confusion Matrix', cm)\n",
    "\n",
    "    # log a figure\n",
    "    my_tracker.log_artifact('cm.png', name='confusion-matrix-plot')\n",
    "                            \n",
    "    # associate the trial component with the trial\n",
    "    my_trial.add_trial_component(my_tracker)"
   ]
  },
  {
   "cell_type": "markdown",
   "id": "8548f3ab-8313-44d2-ae06-00a405e1ce10",
   "metadata": {},
   "source": [
    "# required packages"
   ]
  },
  {
   "cell_type": "code",
   "execution_count": 5,
   "id": "7f2ba5d1-745d-4e04-8b59-8bc93810492e",
   "metadata": {
    "tags": []
   },
   "outputs": [
    {
     "name": "stdout",
     "output_type": "stream",
     "text": [
      "Package                              Version\n",
      "------------------------------------ --------------------\n",
      "alabaster                            0.7.12\n",
      "anaconda-client                      1.11.0\n",
      "anaconda-project                     0.11.1\n",
      "anyio                                3.5.0\n",
      "appdirs                              1.4.4\n",
      "argon2-cffi                          21.3.0\n",
      "argon2-cffi-bindings                 21.2.0\n",
      "arrow                                1.2.2\n",
      "astroid                              2.11.7\n",
      "astropy                              5.1\n",
      "asttokens                            2.2.1\n",
      "atomicwrites                         1.4.0\n",
      "attrs                                21.4.0\n",
      "Automat                              20.2.0\n",
      "autopep8                             1.6.0\n",
      "autovizwidget                        0.20.0\n",
      "awscli                               1.27.24\n",
      "Babel                                2.9.1\n",
      "backcall                             0.2.0\n",
      "backports.functools-lru-cache        1.6.4\n",
      "backports.tempfile                   1.0\n",
      "backports.weakref                    1.0.post1\n",
      "bcrypt                               3.2.0\n",
      "beautifulsoup4                       4.11.1\n",
      "binaryornot                          0.4.4\n",
      "bitarray                             2.5.1\n",
      "bkcharts                             0.2\n",
      "black                                22.6.0\n",
      "bleach                               4.1.0\n",
      "bokeh                                3.0.2\n",
      "boto3                                1.26.24\n",
      "botocore                             1.29.24\n",
      "Bottleneck                           1.3.5\n",
      "brotlipy                             0.7.0\n",
      "certifi                              2022.9.24\n",
      "cffi                                 1.15.1\n",
      "chardet                              4.0.0\n",
      "charset-normalizer                   2.0.4\n",
      "click                                8.0.4\n",
      "cloudpickle                          2.0.0\n",
      "clyent                               1.2.2\n",
      "colorama                             0.4.4\n",
      "colorcet                             3.0.0\n",
      "conda                                22.11.0\n",
      "conda-content-trust                  0.1.3\n",
      "conda-pack                           0.6.0\n",
      "conda-package-handling               1.8.1\n",
      "conda-token                          0.4.0\n",
      "constantly                           15.1.0\n",
      "contextlib2                          21.6.0\n",
      "contourpy                            1.0.6\n",
      "cookiecutter                         2.1.1\n",
      "cryptography                         38.0.4\n",
      "cssselect                            1.1.0\n",
      "cycler                               0.11.0\n",
      "Cython                               0.29.32\n",
      "cytoolz                              0.11.0\n",
      "daal4py                              2021.6.0\n",
      "dask                                 2022.7.0\n",
      "datashader                           0.14.1\n",
      "datashape                            0.5.4\n",
      "debugpy                              1.5.1\n",
      "decorator                            5.1.1\n",
      "defusedxml                           0.7.1\n",
      "diff-match-patch                     20200713\n",
      "dill                                 0.3.6\n",
      "distributed                          2022.7.0\n",
      "distro                               1.8.0\n",
      "docker                               6.0.1\n",
      "docker-compose                       1.29.2\n",
      "dockerpty                            0.4.1\n",
      "docopt                               0.6.2\n",
      "docutils                             0.16\n",
      "dparse                               0.6.2\n",
      "entrypoints                          0.4\n",
      "et-xmlfile                           1.1.0\n",
      "executing                            1.2.0\n",
      "fastjsonschema                       2.16.2\n",
      "filelock                             3.6.0\n",
      "flake8                               4.0.1\n",
      "Flask                                1.1.2\n",
      "fonttools                            4.25.0\n",
      "fqdn                                 1.5.1\n",
      "fsspec                               2022.7.1\n",
      "future                               0.18.2\n",
      "gensim                               4.1.2\n",
      "glob2                                0.7\n",
      "gmpy2                                2.1.2\n",
      "google-pasta                         0.2.0\n",
      "greenlet                             1.1.1\n",
      "h5py                                 3.7.0\n",
      "hdijupyterutils                      0.20.0\n",
      "HeapDict                             1.0.1\n",
      "holoviews                            1.15.0\n",
      "hvplot                               0.8.0\n",
      "hyperlink                            21.0.0\n",
      "idna                                 3.3\n",
      "imagecodecs                          2021.8.26\n",
      "imageio                              2.19.3\n",
      "imagesize                            1.4.1\n",
      "importlib-metadata                   4.11.3\n",
      "incremental                          21.3.0\n",
      "inflection                           0.5.1\n",
      "iniconfig                            1.1.1\n",
      "intake                               0.6.5\n",
      "intervaltree                         3.1.0\n",
      "ipykernel                            6.17.1\n",
      "ipython                              8.7.0\n",
      "ipython-genutils                     0.2.0\n",
      "ipywidgets                           7.6.5\n",
      "isoduration                          20.11.0\n",
      "isort                                5.9.3\n",
      "itemadapter                          0.3.0\n",
      "itemloaders                          1.0.4\n",
      "itsdangerous                         2.0.1\n",
      "jdcal                                1.4.1\n",
      "jedi                                 0.18.1\n",
      "jeepney                              0.7.1\n",
      "jellyfish                            0.9.0\n",
      "Jinja2                               3.1.2\n",
      "jinja2-time                          0.2.0\n",
      "jmespath                             0.10.0\n",
      "joblib                               1.2.0\n",
      "json5                                0.9.6\n",
      "jsonpointer                          2.3\n",
      "jsonschema                           4.17.3\n",
      "jupyter                              1.0.0\n",
      "jupyter_client                       7.4.8\n",
      "jupyter-console                      6.4.3\n",
      "jupyter_core                         5.1.0\n",
      "jupyter-events                       0.5.0\n",
      "jupyter_server                       2.0.0\n",
      "jupyter_server_terminals             0.4.2\n",
      "jupyterlab                           3.4.4\n",
      "jupyterlab-pygments                  0.1.2\n",
      "jupyterlab-server                    2.10.3\n",
      "jupyterlab-widgets                   1.0.0\n",
      "keyring                              23.4.0\n",
      "kiwisolver                           1.4.2\n",
      "lazy-object-proxy                    1.6.0\n",
      "libarchive-c                         2.9\n",
      "llvmlite                             0.38.0\n",
      "locket                               1.0.0\n",
      "lxml                                 4.9.1\n",
      "lz4                                  3.1.3\n",
      "Markdown                             3.3.4\n",
      "MarkupSafe                           2.0.1\n",
      "matplotlib                           3.5.2\n",
      "matplotlib-inline                    0.1.6\n",
      "mccabe                               0.7.0\n",
      "mistune                              2.0.4\n",
      "mkl-fft                              1.3.1\n",
      "mkl-random                           1.2.2\n",
      "mkl-service                          2.4.0\n",
      "mock                                 4.0.3\n",
      "mpmath                               1.2.1\n",
      "msgpack                              1.0.3\n",
      "multipledispatch                     0.6.0\n",
      "multiprocess                         0.70.14\n",
      "munkres                              1.1.4\n",
      "mypy-extensions                      0.4.3\n",
      "nbclassic                            0.4.8\n",
      "nbclient                             0.5.13\n",
      "nbconvert                            7.2.6\n",
      "nbformat                             5.5.0\n",
      "nest-asyncio                         1.5.5\n",
      "networkx                             2.8.4\n",
      "nltk                                 3.7\n",
      "nose                                 1.3.7\n",
      "notebook                             6.5.2\n",
      "notebook_shim                        0.2.2\n",
      "numba                                0.55.1\n",
      "numexpr                              2.8.3\n",
      "numpy                                1.23.5\n",
      "numpydoc                             1.4.0\n",
      "olefile                              0.46\n",
      "openpyxl                             3.0.10\n",
      "packaging                            21.3\n",
      "pandas                               1.4.4\n",
      "pandocfilters                        1.5.0\n",
      "panel                                0.13.1\n",
      "param                                1.12.0\n",
      "paramiko                             2.12.0\n",
      "parsel                               1.6.0\n",
      "parso                                0.8.3\n",
      "partd                                1.2.0\n",
      "pathos                               0.3.0\n",
      "pathspec                             0.9.0\n",
      "patsy                                0.5.2\n",
      "pep8                                 1.7.1\n",
      "pexpect                              4.8.0\n",
      "pickleshare                          0.7.5\n",
      "Pillow                               9.3.0\n",
      "pip                                  22.3.1\n",
      "pkginfo                              1.8.2\n",
      "platformdirs                         2.5.2\n",
      "plotly                               5.9.0\n",
      "pluggy                               1.0.0\n",
      "ply                                  3.11\n",
      "pox                                  0.3.2\n",
      "poyo                                 0.5.0\n",
      "ppft                                 1.7.6.6\n",
      "prometheus-client                    0.14.1\n",
      "prompt-toolkit                       3.0.20\n",
      "Protego                              0.1.16\n",
      "protobuf                             3.20.3\n",
      "protobuf3-to-dict                    0.1.5\n",
      "psutil                               5.9.0\n",
      "ptyprocess                           0.7.0\n",
      "pure-eval                            0.2.2\n",
      "pure-sasl                            0.6.2\n",
      "py                                   1.11.0\n",
      "pyarrow                              10.0.1\n",
      "pyasn1                               0.4.8\n",
      "pyasn1-modules                       0.2.8\n",
      "pycodestyle                          2.8.0\n",
      "pycosat                              0.6.3\n",
      "pycparser                            2.21\n",
      "pyct                                 0.4.8\n",
      "pycurl                               7.45.1\n",
      "PyDispatcher                         2.0.5\n",
      "pydocstyle                           6.1.1\n",
      "pyerfa                               2.0.0\n",
      "pyflakes                             2.4.0\n",
      "pyfunctional                         1.4.3\n",
      "Pygments                             2.11.2\n",
      "PyHamcrest                           2.0.2\n",
      "PyHive                               0.6.5\n",
      "pykerberos                           1.2.4\n",
      "pylint                               3.0.0a5\n",
      "pyls-spyder                          0.4.0\n",
      "PyNaCl                               1.5.0\n",
      "pyodbc                               4.0.34\n",
      "pyOpenSSL                            22.0.0\n",
      "pyparsing                            3.0.9\n",
      "PyQt5-sip                            12.11.0\n",
      "pyrsistent                           0.18.0\n",
      "PySocks                              1.7.1\n",
      "pytest                               7.1.2\n",
      "python-dateutil                      2.8.2\n",
      "python-dotenv                        0.21.0\n",
      "python-json-logger                   2.0.4\n",
      "python-lsp-black                     1.2.1\n",
      "python-lsp-jsonrpc                   1.0.0\n",
      "python-lsp-server                    1.5.0\n",
      "python-slugify                       5.0.2\n",
      "python-snappy                        0.6.0\n",
      "pytz                                 2022.1\n",
      "pyviz-comms                          2.0.2\n",
      "PyWavelets                           1.3.0\n",
      "pyxdg                                0.27\n",
      "PyYAML                               5.4.1\n",
      "pyzmq                                24.0.1\n",
      "QDarkStyle                           3.0.2\n",
      "qstylizer                            0.1.10\n",
      "QtAwesome                            1.0.3\n",
      "qtconsole                            5.3.2\n",
      "QtPy                                 2.2.0\n",
      "queuelib                             1.5.0\n",
      "regex                                2022.7.9\n",
      "requests                             2.28.1\n",
      "requests-file                        1.5.1\n",
      "requests-kerberos                    0.12.0\n",
      "rfc3339-validator                    0.1.4\n",
      "rfc3986-validator                    0.1.1\n",
      "rope                                 0.22.0\n",
      "rsa                                  4.7.2\n",
      "Rtree                                0.9.7\n",
      "ruamel.yaml                          0.17.21\n",
      "ruamel.yaml.clib                     0.2.6\n",
      "ruamel-yaml-conda                    0.15.100\n",
      "s3fs                                 0.4.2\n",
      "s3transfer                           0.6.0\n",
      "sagemaker                            2.120.0\n",
      "sagemaker-data-insights              0.3.3\n",
      "sagemaker-datawrangler               0.3.8\n",
      "sagemaker-experiments                0.1.42\n",
      "sagemaker-scikit-learn-extension     2.5.0\n",
      "sagemaker-studio-analytics-extension 0.0.14\n",
      "sagemaker-studio-sparkmagic-lib      0.1.4\n",
      "sasl                                 0.3.1\n",
      "schema                               0.7.5\n",
      "scikit-image                         0.19.2\n",
      "scikit-learn                         1.0.1\n",
      "scikit-learn-intelex                 2021.20221004.171507\n",
      "scipy                                1.9.1\n",
      "Scrapy                               2.6.2\n",
      "seaborn                              0.11.2\n",
      "SecretStorage                        3.3.1\n",
      "Send2Trash                           1.8.0\n",
      "service-identity                     18.1.0\n",
      "setuptools                           63.4.1\n",
      "sip                                  6.6.2\n",
      "six                                  1.16.0\n",
      "smart-open                           5.2.1\n",
      "smclarify                            0.3\n",
      "smdebug-rulesconfig                  1.0.1\n",
      "sniffio                              1.2.0\n",
      "snowballstemmer                      2.2.0\n",
      "sortedcollections                    2.1.0\n",
      "sortedcontainers                     2.4.0\n",
      "soupsieve                            2.3.1\n",
      "sparkmagic                           0.20.0\n",
      "Sphinx                               5.0.2\n",
      "sphinxcontrib-applehelp              1.0.2\n",
      "sphinxcontrib-devhelp                1.0.2\n",
      "sphinxcontrib-htmlhelp               2.0.0\n",
      "sphinxcontrib-jsmath                 1.0.1\n",
      "sphinxcontrib-qthelp                 1.0.3\n",
      "sphinxcontrib-serializinghtml        1.1.5\n",
      "spyder                               5.3.3\n",
      "spyder-kernels                       2.3.3\n",
      "SQLAlchemy                           1.4.39\n",
      "stack-data                           0.6.2\n",
      "statsmodels                          0.13.2\n",
      "sympy                                1.10.1\n",
      "tables                               3.6.1\n",
      "tabulate                             0.8.10\n",
      "TBB                                  0.2\n",
      "tblib                                1.7.0\n",
      "tenacity                             8.0.1\n",
      "terminado                            0.13.1\n",
      "testpath                             0.6.0\n",
      "text-unidecode                       1.3\n",
      "textdistance                         4.2.1\n",
      "texttable                            1.6.7\n",
      "threadpoolctl                        2.2.0\n",
      "three-merge                          0.1.1\n",
      "thrift                               0.17.0\n",
      "thrift-sasl                          0.4.3\n",
      "tifffile                             2021.7.2\n",
      "tinycss                              0.4\n",
      "tinycss2                             1.2.1\n",
      "tldextract                           3.2.0\n",
      "toml                                 0.10.2\n",
      "tomli                                2.0.1\n",
      "tomlkit                              0.11.1\n",
      "toolz                                0.11.2\n",
      "tornado                              6.2\n",
      "tqdm                                 4.64.1\n",
      "traitlets                            5.6.0\n",
      "Twisted                              22.10.0\n",
      "typing_extensions                    4.3.0\n",
      "ujson                                5.6.0\n",
      "Unidecode                            1.2.0\n",
      "uri-template                         1.2.0\n",
      "urllib3                              1.26.13\n",
      "w3lib                                1.21.0\n",
      "watchdog                             2.1.6\n",
      "wcwidth                              0.2.5\n",
      "webcolors                            1.12\n",
      "webencodings                         0.5.1\n",
      "websocket-client                     0.58.0\n",
      "Werkzeug                             2.0.3\n",
      "whatthepatch                         1.0.2\n",
      "wheel                                0.37.1\n",
      "widgetsnbextension                   3.5.2\n",
      "wrapt                                1.14.1\n",
      "wurlitzer                            3.0.2\n",
      "xarray                               0.20.1\n",
      "xlrd                                 2.0.1\n",
      "XlsxWriter                           3.0.3\n",
      "xyzservices                          2022.9.0\n",
      "yapf                                 0.31.0\n",
      "zict                                 2.1.0\n",
      "zipp                                 3.8.0\n",
      "zope.interface                       5.4.0\n"
     ]
    }
   ],
   "source": [
    "! pip list  # noqa"
   ]
  },
  {
   "cell_type": "code",
   "execution_count": null,
   "id": "83dd08ba-262c-48ae-8c18-ec80c0a19f1b",
   "metadata": {},
   "outputs": [],
   "source": []
  }
 ],
 "metadata": {
  "instance_type": "ml.t3.medium",
  "kernelspec": {
   "display_name": "Python 3 (Data Science 3.0)",
   "language": "python",
   "name": "python3__SAGEMAKER_INTERNAL__arn:aws:sagemaker:eu-west-1:470317259841:image/sagemaker-data-science-310-v1"
  },
  "language_info": {
   "codemirror_mode": {
    "name": "ipython",
    "version": 3
   },
   "file_extension": ".py",
   "mimetype": "text/x-python",
   "name": "python",
   "nbconvert_exporter": "python",
   "pygments_lexer": "ipython3",
   "version": "3.10.6"
  }
 },
 "nbformat": 4,
 "nbformat_minor": 5
}
