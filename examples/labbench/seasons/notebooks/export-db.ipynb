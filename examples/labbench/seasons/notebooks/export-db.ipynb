{
 "cells": [
  {
   "cell_type": "code",
   "execution_count": null,
   "id": "5a036e67-aa3e-4a0f-aac0-b7da69f79915",
   "metadata": {
    "tags": []
   },
   "outputs": [],
   "source": [
    "!pip install sqlalchemy-aurora-data-api\n"
   ]
  },
  {
   "cell_type": "code",
   "execution_count": null,
   "id": "9b9b24a9-3d01-429b-b8ae-b7eabe0f325a",
   "metadata": {
    "tags": []
   },
   "outputs": [],
   "source": [
    "import logging\n",
    "import tempfile\n",
    "import os\n",
    "import json\n",
    "from pprint import pprint\n",
    "\n",
    "import pandas as pd\n",
    "import boto3\n",
    "import sagemaker\n",
    "\n",
    "from sqlalchemy import create_engine\n",
    "from sqlalchemy import exc\n"
   ]
  },
  {
   "cell_type": "markdown",
   "id": "ed3c72f1-be57-4aa6-b827-c40598894515",
   "metadata": {},
   "source": [
    "# DAO"
   ]
  },
  {
   "cell_type": "code",
   "execution_count": null,
   "id": "2ee38ac0-6632-448e-bff2-1eccb7b2eb09",
   "metadata": {
    "tags": []
   },
   "outputs": [],
   "source": [
    "def get_engine(db_config, echo=False):\n",
    "     # require Data Api - https://pypi.org/project/sqlalchemy-aurora-data-api/\n",
    "    # aws rds modify-db-cluster --db-cluster-identifier DB_CLUSTER_NAME --enable-http-endpoint --apply-immediately\n",
    "    # may have to run -it twice\n",
    "    # aws secretsmanager create-secret --name rds-db-credentials/MY_DB\n",
    "    # aws secretsmanager put-secret-value --secret-id rds-db-credentials/MY_DB --secret-string \"$(jq -n '.username=env.PGUSER | .password=env.PGPASSWORD')\"\n",
    "    # aws rds-data execute-statement --resource-arn RESOURCE_ARN --secret-arn SECRET_ARN --sql \"select * from pg_catalog.pg_tables\"\n",
    "    # mysql show tables; or  SELECT table_name FROM user_tables;\n",
    "    # db demo must exists already aws rds-data execute-statement  ...CREATE DATABASE IF NOT EXISTS demo;\"\n",
    "\n",
    "    logger.info('Creating engine')\n",
    "    engine = create_engine(db_config[\"db_url\"],  # demo if exists\n",
    "                           echo=echo,\n",
    "                           connect_args=dict(aurora_cluster_arn=db_config[\"cluster_arn\"], secret_arn=db_config[\"secret_arn\"]))\n",
    "\n",
    "    logger.info('Engine created')\n",
    "\n",
    "    #with engine.connect() as conn:\n",
    "        #for result in conn.execute(\"CREATE DATABASE IF NOT EXISTS demo;\"):\n",
    "        #    print(result)\n",
    "\n",
    "    return engine\n"
   ]
  },
  {
   "cell_type": "code",
   "execution_count": null,
   "id": "33c619d2-8d99-4681-85ea-e31ddbaca167",
   "metadata": {
    "tags": []
   },
   "outputs": [],
   "source": [
    "def store(df, engine, schema=None):\n",
    "    logger.info('Entering store')\n",
    "\n",
    "    logger.info('Connecting...')\n",
    "    #_wait_for_serverless(engine)\n",
    "    with engine.connect() as conn:\n",
    "        logger.info('Connecting...')\n",
    "\n",
    "        logger.info(f'Dumping data {df.shape[0]} rows')\n",
    "        df.to_sql('transactions', con=conn, schema=schema, if_exists='append')\n",
    "        # TODO error maagemebt\n",
    "\n"
   ]
  },
  {
   "cell_type": "code",
   "execution_count": null,
   "id": "58622b20-de46-493a-b7cd-c656bd6aa48f",
   "metadata": {
    "tags": []
   },
   "outputs": [],
   "source": [
    "def query(query):\n",
    "    sql_df = pd.read_sql(\n",
    "        query,\n",
    "        con=engine,\n",
    "        parse_dates=[\n",
    "            'created_at',\n",
    "            'updated_at'\n",
    "        ]\n",
    "    )\n",
    "    return sql_df"
   ]
  },
  {
   "cell_type": "code",
   "execution_count": null,
   "id": "b7d0ac76-aa39-4f2c-b2d1-8c8ea9561947",
   "metadata": {
    "tags": []
   },
   "outputs": [],
   "source": [
    "def export_to_s3(df, name):\n",
    "    # create a temporary directory using the context manager\n",
    "    with tempfile.TemporaryDirectory() as tmpdirname:\n",
    "        local_path = os.path.join(tmpdirname, f\"{name}.parquet.gzip\")\n",
    "\n",
    "        df.to_parquet(local_path, compression='gzip')  \n",
    "\n",
    "        data_uri = sagemaker.s3.S3Uploader.upload(\n",
    "            local_path=local_path,\n",
    "            desired_s3_uri=base_uri,\n",
    "        )"
   ]
  },
  {
   "cell_type": "code",
   "execution_count": null,
   "id": "13113fcc-86d6-4698-a924-353643bbd76e",
   "metadata": {
    "tags": []
   },
   "outputs": [],
   "source": [
    "def read_from_s3(name):\n",
    "    with tempfile.TemporaryDirectory() as tmpdirname:\n",
    "        local_path = os.path.join(tmpdirname, f\"{name}.parquet.gzip\")\n",
    "        sagemaker.s3.S3Downloader.download(\n",
    "            f\"{base_uri}/{name}.parquet.gzip\", local_path\n",
    "        )\n",
    "        df = pd.read_parquet(local_path)  \n",
    "    return df"
   ]
  },
  {
   "cell_type": "code",
   "execution_count": null,
   "id": "73a26b01-4074-4065-b681-9c33544352b7",
   "metadata": {
    "tags": []
   },
   "outputs": [],
   "source": [
    "config_file_name = \"../secure.config.json\"\n",
    "with open(config_file_name) as f:\n",
    "    config = json.load(f)\n",
    "\n",
    "db_config = config[\"db\"]\n",
    "pprint(db_config)"
   ]
  },
  {
   "cell_type": "code",
   "execution_count": null,
   "id": "af53e986-5b20-4f42-aef5-b5941f9d2fc7",
   "metadata": {
    "tags": []
   },
   "outputs": [],
   "source": [
    "\n",
    "logging.basicConfig()\n",
    "logger = logging.getLogger(__name__)"
   ]
  },
  {
   "cell_type": "code",
   "execution_count": null,
   "id": "9f55f7ee-453a-48ce-b6d6-5e97ac69187a",
   "metadata": {
    "tags": []
   },
   "outputs": [],
   "source": [
    "logger.setLevel(logging.ERROR)\n",
    "logging.getLogger(\"sqlalchemy.engine.Engine\").setLevel(logging.ERROR)"
   ]
  },
  {
   "cell_type": "code",
   "execution_count": null,
   "id": "fba10978-4f18-48f9-ba5f-4d5571196aef",
   "metadata": {
    "tags": []
   },
   "outputs": [],
   "source": [
    "sagemaker_session = sagemaker.session.Session()\n",
    "region = sagemaker_session.boto_region_name"
   ]
  },
  {
   "cell_type": "code",
   "execution_count": null,
   "id": "35bc54b2-7811-4501-b91b-47e44e42d6ad",
   "metadata": {
    "tags": []
   },
   "outputs": [],
   "source": [
    "engine = get_engine(db_config, echo=False)"
   ]
  },
  {
   "cell_type": "code",
   "execution_count": null,
   "id": "fe2dcc62-9ba5-4e7e-8827-330a745ae493",
   "metadata": {
    "tags": []
   },
   "outputs": [],
   "source": [
    "default_bucket = sagemaker_session.default_bucket()\n",
    "base_uri = f\"s3://{default_bucket}/labbench/seasons\"\n",
    "print(f\"{base_uri=}\")"
   ]
  },
  {
   "cell_type": "markdown",
   "id": "787c65ca-a643-4759-bf0b-fd0dfd540dbd",
   "metadata": {},
   "source": [
    "# end of initialization"
   ]
  },
  {
   "cell_type": "markdown",
   "id": "59df47ff-c72b-41d5-b468-76e534f233c5",
   "metadata": {},
   "source": [
    "# get data of a day"
   ]
  },
  {
   "cell_type": "code",
   "execution_count": null,
   "id": "af469fe6-fec7-4f71-81fe-9bef8a7e2ff1",
   "metadata": {
    "tags": []
   },
   "outputs": [],
   "source": [
    "query(\"SELECT * FROM transactions where dt like '2023-01-01%'\")"
   ]
  },
  {
   "cell_type": "markdown",
   "id": "0980ad77-2e05-433d-bee9-b9c1931d025b",
   "metadata": {
    "tags": []
   },
   "source": [
    "# min and max dates"
   ]
  },
  {
   "cell_type": "code",
   "execution_count": null,
   "id": "ae7d416a-192e-43b3-8af1-d16eedce366c",
   "metadata": {
    "tags": []
   },
   "outputs": [],
   "source": [
    "query(\"SELECT min(dt) FROM transactions\")"
   ]
  },
  {
   "cell_type": "code",
   "execution_count": null,
   "id": "39861c9a-28f1-43b6-b1e2-060dcadf412d",
   "metadata": {
    "tags": []
   },
   "outputs": [],
   "source": [
    "query(\"SELECT max(dt) FROM transactions\")"
   ]
  },
  {
   "cell_type": "markdown",
   "id": "4334a86d-1c4d-4eb3-a5c8-7bbd1c4529d2",
   "metadata": {},
   "source": [
    "# generate days "
   ]
  },
  {
   "cell_type": "code",
   "execution_count": null,
   "id": "c5b2f162-52b8-46e4-ab6f-9679c26b0b60",
   "metadata": {
    "tags": []
   },
   "outputs": [],
   "source": [
    "start_date = '2022-08-17'\n",
    "end_date = '2023-01-16'\n",
    "days = pd.date_range(start_date, end_date, freq='d')"
   ]
  },
  {
   "cell_type": "code",
   "execution_count": null,
   "id": "e8662dcb-6040-4f51-9f13-7687544012fd",
   "metadata": {
    "tags": []
   },
   "outputs": [],
   "source": [
    "days"
   ]
  },
  {
   "cell_type": "code",
   "execution_count": null,
   "id": "a7b11510-d1ed-4aac-bc37-90d0fa9cabd3",
   "metadata": {
    "tags": []
   },
   "outputs": [],
   "source": [
    "#days = ['2022-08-17', '2023-01-16']"
   ]
  },
  {
   "cell_type": "code",
   "execution_count": null,
   "id": "b0d4a05b-bc08-42ff-a156-259fffe939a9",
   "metadata": {
    "tags": []
   },
   "outputs": [],
   "source": [
    "for day in days:\n",
    "    day_filter = str(day)[0:10]\n",
    "    df_n = query(f\"SELECT count(*) FROM transactions where dt like '{day_filter}%'\" )\n",
    "    print(f\"{day}: {df_n['count(*)'][0]}\")"
   ]
  },
  {
   "cell_type": "markdown",
   "id": "bc1d514b-f212-485c-84f8-ab5c465786c9",
   "metadata": {},
   "source": [
    "# export as parquet onto S3 - then read parquet from S3"
   ]
  },
  {
   "cell_type": "code",
   "execution_count": null,
   "id": "3fb61a18-f235-441b-8ee0-f0301ef492fa",
   "metadata": {
    "tags": []
   },
   "outputs": [],
   "source": [
    "period = \"2022-09-01\"\n",
    "name = f\"seasons-{period}\""
   ]
  },
  {
   "cell_type": "code",
   "execution_count": null,
   "id": "d26582ed-3683-4ac5-a45d-1fc7f69ce494",
   "metadata": {
    "tags": []
   },
   "outputs": [],
   "source": [
    "export_df = query(f\"SELECT * FROM transactions where dt like '{period}%'\")\n",
    "export_to_s3(export_df, name)"
   ]
  },
  {
   "cell_type": "code",
   "execution_count": null,
   "id": "2f086e75-3adc-4f29-9a66-8dead8b212ff",
   "metadata": {
    "tags": []
   },
   "outputs": [],
   "source": [
    "read_from_s3(name)"
   ]
  },
  {
   "cell_type": "markdown",
   "id": "b5f6dd96-397c-4f1f-998f-417af2987c22",
   "metadata": {},
   "source": [
    "# export db day by day"
   ]
  },
  {
   "cell_type": "code",
   "execution_count": null,
   "id": "2d8c3801-677d-4dd9-935d-5d486c2e4735",
   "metadata": {
    "tags": []
   },
   "outputs": [],
   "source": [
    "start_date = '2022-08-17'\n",
    "end_date = '2023-01-16'\n",
    "days = pd.date_range(start_date, end_date, freq='d')"
   ]
  },
  {
   "cell_type": "code",
   "execution_count": null,
   "id": "f87e56dc-e78b-440a-91c0-5734fad998a0",
   "metadata": {
    "tags": []
   },
   "outputs": [],
   "source": [
    "for day in days:\n",
    "    day_filter = str(day)[0:10]\n",
    "    name = f\"seasons-{day_filter}\"\n",
    "    export_df = query(f\"SELECT * FROM transactions where dt like '{day_filter}%'\")\n",
    "    export_to_s3(export_df, name)\n",
    "    print(f\"{day_filter=} exported\")"
   ]
  },
  {
   "cell_type": "code",
   "execution_count": null,
   "id": "3ef93bf9-da7e-42f6-8e41-f271974f1567",
   "metadata": {},
   "outputs": [],
   "source": []
  },
  {
   "cell_type": "code",
   "execution_count": null,
   "id": "62962a81-49f4-44e7-a083-9589f139c802",
   "metadata": {
    "tags": []
   },
   "outputs": [],
   "source": [
    "for day in days:\n",
    "    day_filter = str(day)[0:10]\n",
    "    name = f\"seasons-{day_filter}\"\n",
    "    df = read_from_s3(name)\n",
    "    print(f\"{day_filter=} {df.shape}\")\n"
   ]
  },
  {
   "cell_type": "code",
   "execution_count": null,
   "id": "0fefeffb-ce18-47bc-8d5d-8900e0e50828",
   "metadata": {
    "tags": []
   },
   "outputs": [],
   "source": [
    "for day in days:\n",
    "    day_filter = str(day)[0:10]\n",
    "    name = f\"seasons-{day_filter}\"\n",
    "    df = read_from_s3(name)\n",
    "    print(df.head(10))\n"
   ]
  },
  {
   "cell_type": "markdown",
   "id": "dfa6536f-b0a8-4cf8-9705-e61b4b7fc16e",
   "metadata": {},
   "source": [
    "# purge db for 2022"
   ]
  },
  {
   "cell_type": "code",
   "execution_count": null,
   "id": "d7b2bebe-d30a-47a3-85b6-ee02bb926da9",
   "metadata": {
    "tags": []
   },
   "outputs": [],
   "source": [
    "query(\"DELETE FROM transactions where dt between '2022-01-01' and '2023-01-01'\")"
   ]
  },
  {
   "cell_type": "code",
   "execution_count": null,
   "id": "0dca6fe0-dc88-4785-a632-b60f3247b920",
   "metadata": {
    "tags": []
   },
   "outputs": [],
   "source": [
    "query(\"SELECT min(dt) FROM transactions\")"
   ]
  },
  {
   "cell_type": "code",
   "execution_count": null,
   "id": "ed7684a3-5a73-40e7-80ed-512c2b347bef",
   "metadata": {},
   "outputs": [],
   "source": []
  }
 ],
 "metadata": {
  "forced_instance_type": "ml.t3.medium",
  "forced_lcc_arn": "",
  "instance_type": "ml.t3.medium",
  "kernelspec": {
   "display_name": "Python 3 (Data Science 3.0)",
   "language": "python",
   "name": "python3__SAGEMAKER_INTERNAL__arn:aws:sagemaker:eu-west-3:615547856133:image/sagemaker-data-science-310-v1"
  },
  "language_info": {
   "codemirror_mode": {
    "name": "ipython",
    "version": 3
   },
   "file_extension": ".py",
   "mimetype": "text/x-python",
   "name": "python",
   "nbconvert_exporter": "python",
   "pygments_lexer": "ipython3",
   "version": "3.10.6"
  }
 },
 "nbformat": 4,
 "nbformat_minor": 5
}
