{
 "cells": [
  {
   "cell_type": "markdown",
   "id": "0f3cf865-fe24-455c-9c2b-81b2c71571ec",
   "metadata": {},
   "source": [
    "# Experiments for service monitoring\n"
   ]
  },
  {
   "cell_type": "markdown",
   "id": "a1545620-67be-4cb3-b081-2b7df3ebf168",
   "metadata": {},
   "source": []
  },
  {
   "cell_type": "markdown",
   "id": "64208286-7b4a-43f9-91a1-ca2c1c658394",
   "metadata": {},
   "source": [
    "# API Test"
   ]
  },
  {
   "cell_type": "code",
   "execution_count": null,
   "id": "98641878-733c-4452-9edf-092223e4545d",
   "metadata": {
    "tags": []
   },
   "outputs": [],
   "source": [
    "from pprint import pprint\n",
    "import boto3\n",
    "\n",
    "sagemaker_label = 'sagemaker'\n",
    "\n",
    "sm = boto3.Session().client(sagemaker_label)"
   ]
  },
  {
   "cell_type": "markdown",
   "id": "f30c058a-d42e-4335-98b9-11036784b6a9",
   "metadata": {},
   "source": [
    "## Domain"
   ]
  },
  {
   "cell_type": "code",
   "execution_count": null,
   "id": "7da59e1d-52c3-4b8d-91a9-adb5dbb0ac5a",
   "metadata": {},
   "outputs": [],
   "source": [
    "domains = sm.list_domains()\n",
    "pprint(domains)"
   ]
  },
  {
   "cell_type": "markdown",
   "id": "fad2f4f5-65a0-4a8b-bc73-1009e762f93e",
   "metadata": {
    "tags": []
   },
   "source": [
    "## Service Quotas"
   ]
  },
  {
   "cell_type": "code",
   "execution_count": null,
   "id": "16bb2f6c-5d44-410a-a31b-04c1540f821d",
   "metadata": {
    "tags": []
   },
   "outputs": [],
   "source": [
    "# bring your own access key and secret jkey\n",
    "import secure_config"
   ]
  },
  {
   "cell_type": "code",
   "execution_count": null,
   "id": "448e33c7-81a8-45a1-ad4b-ddb723e09288",
   "metadata": {
    "tags": []
   },
   "outputs": [],
   "source": [
    "sq_session = boto3.Session(\n",
    "    region_name='eu-west-1',\n",
    "    aws_access_key_id=secure_config.access_key,\n",
    "    aws_secret_access_key=secure_config.secret_key\n",
    ")"
   ]
  },
  {
   "cell_type": "code",
   "execution_count": null,
   "id": "3536013c-15a9-40cc-a8f7-ab10018f9ab9",
   "metadata": {
    "tags": []
   },
   "outputs": [],
   "source": [
    "sq_client = sq_session.client('service-quotas')"
   ]
  },
  {
   "cell_type": "code",
   "execution_count": null,
   "id": "91fcb266-62ea-4259-8cc0-991e7f997593",
   "metadata": {
    "tags": []
   },
   "outputs": [],
   "source": [
    "print(\"Services:\")\n",
    "next_page = True\n",
    "page = 0\n",
    "parameters = { \n",
    "    'MaxResults':99\n",
    "}\n",
    "while next_page and page<10:\n",
    "    response = sq_client.list_services(**parameters)\n",
    "    #print(f\"{page=}\")\n",
    "    #pprint(response)\n",
    "    for service in response['Services']:\n",
    "        print(f\"{service['ServiceCode']} -> {service['ServiceName']}\")\n",
    "    if 'NextToken' in response:  \n",
    "        parameters['NextToken'] = response['NextToken']\n",
    "        page += 1\n",
    "    else:\n",
    "        next_page = False"
   ]
  },
  {
   "cell_type": "code",
   "execution_count": null,
   "id": "e8653e19-36c6-4353-9743-84787ab3bca6",
   "metadata": {
    "tags": []
   },
   "outputs": [],
   "source": [
    "print(\"Quotas:\")\n",
    "next_page = True\n",
    "page = 0\n",
    "parameters = { \n",
    "    'ServiceCode':'ec2',\n",
    "    'MaxResults':99\n",
    "}\n",
    "while next_page and page<10:\n",
    "    response = sq_client.list_aws_default_service_quotas(**parameters)\n",
    "    print(f\"{page=}\")\n",
    "    #pprint(response)\n",
    "    for quota in response['Quotas']:\n",
    "        name = quota['QuotaName']\n",
    "        value = quota['Value']\n",
    "        unit = quota['Unit'] if quota['Unit'] != 'None' else \"\"\n",
    "        print(f\"{name}: {value} {unit}\")\n",
    "    if 'NextToken' in response:  \n",
    "        parameters['NextToken'] = response['NextToken']\n",
    "        page += 1\n",
    "    else:\n",
    "        next_page = False"
   ]
  },
  {
   "cell_type": "code",
   "execution_count": null,
   "id": "ee4727d1-97bf-4982-b73e-94c34da95b01",
   "metadata": {},
   "outputs": [],
   "source": [
    "response = client.get_service_quota(\n",
    "    ServiceCode='string',\n",
    "    QuotaCode='string'\n",
    ")"
   ]
  },
  {
   "cell_type": "markdown",
   "id": "59881003-501f-4d15-ae85-73f1e72efe27",
   "metadata": {},
   "source": [
    "sagemaker pipeline requires\n",
    "\n",
    "[ml.trn1.32xlarge, ml.p2.xlarge, ml.m5.4xlarge, ml.m4.16xlarge, ml.p4d.24xlarge, ml.g5.2xlarge, ml.c5n.xlarge, ml.p3.16xlarge, ml.m5.large, ml.p2.16xlarge, ml.g5.4xlarge, ml.c4.2xlarge, ml.c5.2xlarge, ml.c4.4xlarge, ml.g5.8xlarge, ml.c5.4xlarge, ml.c5n.18xlarge, ml.g4dn.xlarge, ml.g4dn.12xlarge, ml.c4.8xlarge, ml.g4dn.2xlarge, ml.c5.9xlarge, ml.g4dn.4xlarge, ml.c5.xlarge, ml.g4dn.16xlarge, ml.c4.xlarge, ml.g4dn.8xlarge, ml.g5.xlarge, ml.c5n.2xlarge, ml.g5.12xlarge, ml.g5.24xlarge, ml.c5n.4xlarge, ml.trn1.2xlarge, ml.c5.18xlarge, ml.p3dn.24xlarge, ml.g5.48xlarge, ml.g5.16xlarge, ml.p3.2xlarge, ml.m5.xlarge, ml.m4.10xlarge, ml.c5n.9xlarge, ml.m5.12xlarge, ml.m4.xlarge, ml.m5.24xlarge, ml.m4.2xlarge, ml.p2.8xlarge, ml.m5.2xlarge, ml.p4de.24xlarge, ml.p3.8xlarge, ml.m4.4xlarge]"
   ]
  },
  {
   "cell_type": "markdown",
   "id": "ea7fe949-fb08-42bd-b660-e2b23dd57749",
   "metadata": {},
   "source": [
    "# Multiregion"
   ]
  },
  {
   "cell_type": "code",
   "execution_count": null,
   "id": "486dec95-f89b-4878-b5a3-f82854cd4785",
   "metadata": {
    "tags": []
   },
   "outputs": [],
   "source": [
    "from pprint import pprint\n",
    "from boto3.session import Session\n",
    "import botocore\n",
    "\n",
    "sagemaker_label = 'sagemaker'\n",
    "\n",
    "session = Session()\n",
    "sagemaker_regions = session.get_available_regions(sagemaker_label)\n",
    "\n",
    "pprint(sagemaker_regions)"
   ]
  },
  {
   "cell_type": "code",
   "execution_count": null,
   "id": "028df4fe-5e58-452e-8528-db213a0ccdec",
   "metadata": {
    "tags": []
   },
   "outputs": [],
   "source": [
    "region_filter = 'eu'\n",
    "selected_regions = [region for region in sagemaker_regions if region.startswith(region_filter)]\n",
    "\n",
    "pprint(selected_regions)"
   ]
  },
  {
   "cell_type": "code",
   "execution_count": null,
   "id": "6a43e766-f21f-4e51-838e-f1a058a13800",
   "metadata": {
    "tags": []
   },
   "outputs": [],
   "source": [
    "sagemaker_clients = { (region,  Session(region_name = region).client(sagemaker_label))\n",
    "                       for region in selected_regions}\n",
    "\n",
    "pprint(sagemaker_clients)"
   ]
  },
  {
   "cell_type": "markdown",
   "id": "4ea9edc0-ceb3-4ebb-a7ad-a72872389002",
   "metadata": {},
   "source": [
    "## Domains"
   ]
  },
  {
   "cell_type": "code",
   "execution_count": null,
   "id": "2d98926c-20b7-49d9-8688-1e939e463f0a",
   "metadata": {
    "tags": []
   },
   "outputs": [],
   "source": [
    "domain_ref = { }\n",
    "for region, client in sagemaker_clients:\n",
    "    # print(f\"\\n {region=}\")\n",
    "    try:\n",
    "        response = client.list_domains()\n",
    "        # pprint(response)\n",
    "        domains = response['Domains']\n",
    "        # pprint(domains)\n",
    "        domain_ids = []\n",
    "        for domain in domains:\n",
    "            # pprint(domain)\n",
    "            domain_id = domain['DomainId']\n",
    "            domain_name = domain['DomainName']\n",
    "            domain_status = domain['Status']\n",
    "            print(f\"{region=} {domain_id} {domain_name} {domain_status}\")\n",
    "            domain_ids.append(domain_id)\n",
    "        if domain_ids:\n",
    "            domain_ref[region] = domain_ids\n",
    "    except botocore.exceptions.ClientError as exc:\n",
    "        # print('skipped')\n",
    "        pass\n",
    "    \n",
    "print(\"\\ndomain_ref\")\n",
    "pprint(domain_ref)"
   ]
  },
  {
   "cell_type": "markdown",
   "id": "6af4998f-d18e-4be7-ab8b-910df646e4c4",
   "metadata": {},
   "source": [
    "### Domain - User Profiles\n",
    "\n",
    "API reference\n",
    "```python\n",
    "response = client.list_user_profiles(\n",
    "    NextToken='string',\n",
    "    MaxResults=123,\n",
    "    SortOrder='Ascending'|'Descending',\n",
    "    SortBy='CreationTime'|'LastModifiedTime',\n",
    "    DomainIdEquals='string',\n",
    "    UserProfileNameContains='string'\n",
    ")\n",
    "```"
   ]
  },
  {
   "cell_type": "code",
   "execution_count": null,
   "id": "b75dc3f8-6c86-4c85-92bc-010ff9721814",
   "metadata": {
    "tags": []
   },
   "outputs": [],
   "source": [
    "for region, client in sagemaker_clients:\n",
    "    if region in domain_ref:\n",
    "        # print(f\"\\n {region=}\")\n",
    "        for domain_id in domain_ref[region]:\n",
    "            # print(f\"\\n {domain_id=}\")\n",
    "            try:\n",
    "                response = client.list_user_profiles(\n",
    "                    DomainIdEquals=domain_id\n",
    "                )\n",
    "                # pprint(response)\n",
    "                user_profiles = response['UserProfiles']\n",
    "                # pprint(user_profiles)\n",
    "                for user_profile in user_profiles:\n",
    "                    # pprint(user_profile)\n",
    "                    user_profile_name = user_profile['UserProfileName']\n",
    "                    user_profile_status = user_profile['Status']\n",
    "                    print(f\"{region=} {domain_id} {user_profile_name} {user_profile_status}\")\n",
    "            except botocore.exceptions.ClientError as exc:\n",
    "                print('skipped')\n",
    "                pass"
   ]
  },
  {
   "cell_type": "markdown",
   "id": "8d2f83d8-5a1a-447f-bc73-d219a86a383d",
   "metadata": {
    "tags": []
   },
   "source": [
    "### Domain - Spaces\n",
    "\n",
    "API Reference\n",
    "```python\n",
    "response = client.list_spaces(\n",
    "    NextToken='string',\n",
    "    MaxResults=123,\n",
    "    SortOrder='Ascending'|'Descending',\n",
    "    SortBy='CreationTime'|'LastModifiedTime',\n",
    "    DomainIdEquals='string',\n",
    "    SpaceNameContains='string'\n",
    ")\n",
    "```"
   ]
  },
  {
   "cell_type": "code",
   "execution_count": null,
   "id": "645fa740-7ded-4b54-9e16-f0d49bc17fe5",
   "metadata": {
    "tags": []
   },
   "outputs": [],
   "source": [
    "for region, client in sagemaker_clients:\n",
    "    if region in domain_ref:\n",
    "        # print(f\"\\n {region=}\")\n",
    "        for domain_id in domain_ref[region]:\n",
    "            # print(f\"\\n {domain_id=}\")\n",
    "            try:\n",
    "                response = client.list_spaces(\n",
    "                    DomainIdEquals=domain_id\n",
    "                )\n",
    "                # pprint(response)\n",
    "                spaces= response['Spaces']\n",
    "                # pprint(user_profiles)\n",
    "                for space in spaces:\n",
    "                    # pprint(user_profile)\n",
    "                    space_name = space['SpaceName']\n",
    "                    space_status = space['Status']\n",
    "                    print(f\"{region=} {domain_id} {space_name} {space_status}\")\n",
    "            except botocore.exceptions.ClientError as exc:\n",
    "                print('skipped')\n",
    "                pass"
   ]
  },
  {
   "cell_type": "markdown",
   "id": "09c0840d-3c75-411d-a028-af18d92bdb01",
   "metadata": {},
   "source": [
    "### Domain - Apps\n",
    "\n",
    "API Reference\n",
    "```python\n",
    "response = client.list_apps(\n",
    "    NextToken='string',\n",
    "    MaxResults=123,\n",
    "    SortOrder='Ascending'|'Descending',\n",
    "    SortBy='CreationTime',\n",
    "    DomainIdEquals='string',\n",
    "    UserProfileNameEquals='string',\n",
    "    SpaceNameEquals='string'\n",
    ")\n",
    "```"
   ]
  },
  {
   "cell_type": "code",
   "execution_count": null,
   "id": "f7c8c5b5-217e-46a4-8f50-fce6301fad6d",
   "metadata": {
    "tags": []
   },
   "outputs": [],
   "source": [
    "for region, client in sagemaker_clients:\n",
    "    if region in domain_ref:\n",
    "        # print(f\"\\n {region=}\")\n",
    "        for domain_id in domain_ref[region]:\n",
    "            # print(f\"\\n {domain_id=}\")\n",
    "            try:\n",
    "                response = client.list_apps(\n",
    "                    DomainIdEquals=domain_id\n",
    "                )\n",
    "                # pprint(response)\n",
    "                apps = response['Apps']\n",
    "                # pprint(apps)\n",
    "                for app in apps:\n",
    "                    # pprint(user_profile)\n",
    "                    app_name = app['AppName']\n",
    "                    app_type = app['AppType']\n",
    "                    user_profile_name = app['UserProfileName']\n",
    "                    app_status = app['Status']\n",
    "                    print(f\"{region=} {domain_id} {user_profile_name} {app_type} {app_name} {app_status}\")\n",
    "            except botocore.exceptions.ClientError as exc:\n",
    "                print('skipped')\n",
    "                pass"
   ]
  },
  {
   "cell_type": "markdown",
   "id": "c4a21a90-c139-4222-b039-2dc89f00498e",
   "metadata": {
    "tags": []
   },
   "source": [
    "### Domain - Instances\n",
    "\n",
    "API Reference\n",
    "```python\n",
    "response = client.list_apps(\n",
    "    NextToken='string',\n",
    "    MaxResults=123,\n",
    "    SortOrder='Ascending'|'Descending',\n",
    "    SortBy='CreationTime',\n",
    "    DomainIdEquals='string',\n",
    "    UserProfileNameEquals='string',\n",
    "    SpaceNameEquals='string'\n",
    ")\n",
    "```\n",
    "\n",
    "```python\n",
    "response = client.describe_app(\n",
    "    DomainId='string',\n",
    "    UserProfileName='string',\n",
    "    AppType='JupyterServer'|'KernelGateway'|'TensorBoard'|'RStudioServerPro'|'RSessionGateway',\n",
    "    AppName='string',\n",
    "    SpaceName='string'\n",
    ")\n",
    "```"
   ]
  },
  {
   "cell_type": "code",
   "execution_count": null,
   "id": "575aa302-8c1c-4ca0-9750-a044ee47de38",
   "metadata": {
    "tags": []
   },
   "outputs": [],
   "source": [
    "for region, client in sagemaker_clients:\n",
    "    if region in domain_ref:\n",
    "        # print(f\"\\n {region=}\")\n",
    "        for domain_id in domain_ref[region]:\n",
    "            # print(f\"\\n {domain_id=}\")\n",
    "            try:\n",
    "                response = client.list_apps(\n",
    "                    DomainIdEquals=domain_id\n",
    "                )\n",
    "                # pprint(response)\n",
    "                apps = response['Apps']\n",
    "                # pprint(apps)\n",
    "                for app in apps:\n",
    "                    # pprint(user_profile)\n",
    "                    app_name = app['AppName']\n",
    "                    app_type = app['AppType']\n",
    "                    user_profile_name = app['UserProfileName']\n",
    "                    app_status = app['Status']\n",
    "                    response = client.describe_app(\n",
    "                        DomainId=domain_id,\n",
    "                        UserProfileName=user_profile_name,\n",
    "                        AppType=app_type,\n",
    "                        AppName=app_name\n",
    "                    )\n",
    "                    # pprint(response)\n",
    "                    instance_type = response['ResourceSpec']['InstanceType']\n",
    "                    print(f\"{region=} {domain_id} {user_profile_name} {app_type} {instance_type} {app_status}\")\n",
    "            except botocore.exceptions.ClientError as exc:\n",
    "                print('skipped')\n",
    "                pass\n",
    "\n"
   ]
  },
  {
   "cell_type": "markdown",
   "id": "1db1bbad-961e-48a2-b75f-8d7511b2b5bf",
   "metadata": {},
   "source": [
    "### Domain - Conffiguration\n",
    "\n",
    "esp. instances quotas\n",
    "\n",
    "API Reference\n",
    "\n",
    "```python\n",
    "response = client.describe_domain(\n",
    "    DomainId='string'\n",
    ")\n",
    "```\n"
   ]
  },
  {
   "cell_type": "code",
   "execution_count": null,
   "id": "b7c8d3bd-cf88-4c72-afc6-cdde5800456a",
   "metadata": {
    "tags": []
   },
   "outputs": [],
   "source": [
    "for region, client in sagemaker_clients:\n",
    "    if region in domain_ref:\n",
    "        print(f\"\\n {region=}\")\n",
    "        for domain_id in domain_ref[region]:\n",
    "            print(f\"\\n {domain_id=}\")\n",
    "            try:\n",
    "                response = response = client.describe_domain(\n",
    "                    DomainId=domain_id\n",
    "                )\n",
    "                pprint(response)\n",
    "            except botocore.exceptions.ClientError as exc:\n",
    "                print('skipped')\n",
    "                pass\n"
   ]
  },
  {
   "cell_type": "markdown",
   "id": "55ba4322-5d43-4a85-8053-cc8456fa91e5",
   "metadata": {},
   "source": [
    "### Addtional API for Domain\n",
    "\n",
    "```python\n",
    "response = client.describe_domain(\n",
    "    DomainId='string'\n",
    ")\n",
    "```\n",
    "\n",
    "```python\n",
    "response = client.describe_user_profile(\n",
    "    DomainId='string',\n",
    "    UserProfileName='string'\n",
    ")\n",
    "```\n",
    "\n",
    "```python\n",
    "response = client.describe_space(\n",
    "    DomainId='string',\n",
    "    SpaceName='string'\n",
    ")\n",
    "```\n",
    "\n",
    "```python\n",
    "response = client.describe_app(\n",
    "    DomainId='string',\n",
    "    UserProfileName='string',\n",
    "    AppType='JupyterServer'|'KernelGateway'|'TensorBoard'|'RStudioServerPro'|'RSessionGateway',\n",
    "    AppName='string',\n",
    "    SpaceName='string'\n",
    ")\n",
    "```"
   ]
  },
  {
   "cell_type": "code",
   "execution_count": null,
   "id": "50aece7b-0470-4cb2-b89a-15dd15f39927",
   "metadata": {},
   "outputs": [],
   "source": []
  },
  {
   "cell_type": "markdown",
   "id": "ec678e74-370b-4b4c-9420-421d94f73358",
   "metadata": {},
   "source": [
    "# References"
   ]
  },
  {
   "cell_type": "markdown",
   "id": "526b53e9-eb2d-4b4f-8453-fa676309e920",
   "metadata": {},
   "source": [
    "\n",
    "[SageMaker API Documentation](https://sagemaker.readthedocs.io/en/stable/api/index.html)\n",
    "[SageMaker Boto3 API Documentation](https://boto3.amazonaws.com/v1/documentation/api/latest/reference/services/sagemaker.html)\n"
   ]
  },
  {
   "cell_type": "markdown",
   "id": "85def29d-4db3-4472-ad11-ebd8a917fdd1",
   "metadata": {},
   "source": [
    "import_hub_content()\n",
    "list_actions()\n",
    "list_algorithms()\n",
    "list_aliases()\n",
    "list_app_image_configs()\n",
    "list_artifacts()\n",
    "list_associations()\n",
    "list_auto_ml_jobs()\n",
    "list_candidates_for_auto_ml_job()\n",
    "list_code_repositories()\n",
    "list_compilation_jobs()\n",
    "list_contexts()\n",
    "list_data_quality_job_definitions()\n",
    "list_device_fleets()\n",
    "list_devices()\n",
    "list_domains()\n",
    "list_edge_deployment_plans()\n",
    "list_edge_packaging_jobs()\n",
    "list_endpoint_configs()\n",
    "list_endpoints()\n",
    "list_experiments()\n",
    "list_feature_groups()\n",
    "list_flow_definitions()\n",
    "list_hub_content_versions()\n",
    "list_hub_contents()\n",
    "list_hubs()\n",
    "list_human_task_uis()\n",
    "list_hyper_parameter_tuning_jobs()\n",
    "list_image_versions()\n",
    "list_images()\n",
    "list_inference_experiments()\n",
    "list_inference_recommendations_job_steps()\n",
    "list_inference_recommendations_jobs()\n",
    "list_labeling_jobs()\n",
    "list_labeling_jobs_for_workteam()\n",
    "list_lineage_groups()\n",
    "list_model_bias_job_definitions()\n",
    "list_model_card_export_jobs()\n",
    "list_model_card_versions()\n",
    "list_model_cards()\n",
    "list_model_explainability_job_definitions()\n",
    "list_model_metadata()\n",
    "list_model_package_groups()\n",
    "list_model_packages()\n",
    "list_model_quality_job_definitions()\n",
    "list_models()\n",
    "list_monitoring_alert_history()\n",
    "list_monitoring_alerts()\n",
    "list_monitoring_executions()\n",
    "list_monitoring_schedules()\n",
    "list_notebook_instance_lifecycle_configs()\n",
    "list_notebook_instances()\n",
    "list_pipeline_execution_steps()\n",
    "list_pipeline_executions()\n",
    "list_pipeline_parameters_for_execution()\n",
    "list_pipelines()\n",
    "list_processing_jobs()\n",
    "list_projects()\n",
    "list_stage_devices()\n",
    "list_studio_lifecycle_configs()\n",
    "list_subscribed_workteams()\n",
    "list_tags()\n",
    "list_training_jobs()\n",
    "list_training_jobs_for_hyper_parameter_tuning_job()\n",
    "list_transform_jobs()\n",
    "list_trial_components()\n",
    "list_trials()\n",
    "list_workforces()\n",
    "list_workteams()"
   ]
  },
  {
   "cell_type": "markdown",
   "id": "a2c98760-6602-42e8-ab07-c3ad31f894e6",
   "metadata": {},
   "source": [
    "\n",
    "describe_action()\n",
    "describe_algorithm()\n",
    "describe_app_image_config()\n",
    "describe_artifact()\n",
    "describe_auto_ml_job()\n",
    "describe_code_repository()\n",
    "describe_compilation_job()\n",
    "describe_context()\n",
    "describe_data_quality_job_definition()\n",
    "describe_device()\n",
    "describe_device_fleet()\n",
    "describe_edge_deployment_plan()\n",
    "describe_edge_packaging_job()\n",
    "describe_endpoint()\n",
    "describe_endpoint_config()\n",
    "describe_experiment()\n",
    "describe_feature_group()\n",
    "describe_feature_metadata()\n",
    "describe_flow_definition()\n",
    "describe_hub()\n",
    "describe_hub_content()\n",
    "describe_human_task_ui()\n",
    "describe_hyper_parameter_tuning_job()\n",
    "describe_image()\n",
    "describe_image_version()\n",
    "describe_inference_experiment()\n",
    "describe_inference_recommendations_job()\n",
    "describe_labeling_job()\n",
    "describe_lineage_group()\n",
    "describe_model()\n",
    "describe_model_bias_job_definition()\n",
    "describe_model_card()\n",
    "describe_model_card_export_job()\n",
    "describe_model_explainability_job_definition()\n",
    "describe_model_package()\n",
    "describe_model_package_group()\n",
    "describe_model_quality_job_definition()\n",
    "describe_monitoring_schedule()\n",
    "describe_notebook_instance()\n",
    "describe_notebook_instance_lifecycle_config()\n",
    "describe_pipeline()\n",
    "describe_pipeline_definition_for_execution()\n",
    "describe_pipeline_execution()\n",
    "describe_processing_job()\n",
    "describe_project()\n",
    "describe_studio_lifecycle_config()\n",
    "describe_subscribed_workteam()\n",
    "describe_training_job()\n",
    "describe_transform_job()\n",
    "describe_trial()\n",
    "describe_trial_component()\n",
    "describe_workforce()\n",
    "describe_workteam()"
   ]
  },
  {
   "cell_type": "markdown",
   "id": "c5b7baff-59c8-4555-aa7e-7c0d7292e3f1",
   "metadata": {},
   "source": [
    "Client:\n",
    "\n",
    "this is the original boto3 API abstraction\n",
    "it provides low-level AWS service access\n",
    "all AWS service operations are supported by clients\n",
    "it exposes botocore client to the developer\n",
    "it typically maps 1:1 with the AWS service API\n",
    "it exposes snake-cased method names (e.g. ListBuckets API => list_buckets method)\n",
    "typically yields primitive, non-marshalled data (e.g. DynamoDB attributes are dicts representing primitive DynamoDB values)\n",
    "requires you to code result pagination\n",
    "it is generated from an AWS service description\n",
    "\n",
    "Here's an example of client-level access to an S3 bucket's objects:\n",
    "\n",
    "import boto3\n",
    "\n",
    "client = boto3.client('s3')\n",
    "\n",
    "response = client.list_objects_v2(Bucket='mybucket')\n",
    "\n",
    "for content in response['Contents']:\n",
    "    obj_dict = client.get_object(Bucket='mybucket', Key=content['Key'])\n",
    "    print(content['Key'], obj_dict['LastModified'])\n",
    "Note: this client-level code is limited to listing at most 1000 objects. You would have to use a paginator, or implement your own loop, calling list_objects_v2() repeatedly with a continuation marker if there were more than 1000 objects."
   ]
  },
  {
   "cell_type": "markdown",
   "id": "1ac7141e-1c88-49a6-8d68-fda0d72584bc",
   "metadata": {},
   "source": [
    "Resource:\n",
    "\n",
    "this is the newer boto3 API abstraction\n",
    "it provides a high-level, object-oriented API\n",
    "it does not provide 100% API coverage of AWS services\n",
    "it uses identifiers and attributes\n",
    "it has actions (operations on resources)\n",
    "it exposes sub-resources and collections of AWS resources\n",
    "typically yields marshalled data, not primitive AWS data (e.g. DynamoDB attributes are native Python values representing primitive DynamoDB values)\n",
    "does result pagination for you\n",
    "it is generated from an AWS resource description\n",
    "Here's the equivalent example using resource-level access to an S3 bucket's objects:\n",
    "\n",
    "import boto3\n",
    "\n",
    "s3 = boto3.resource('s3')\n",
    "\n",
    "bucket = s3.Bucket('mybucket')\n",
    "\n",
    "for obj in bucket.objects.all():\n",
    "    print(obj.key, obj.last_modified)\n",
    "Note: in this case you do not have to make a second API call to get the objects; they're available to you as a collection on the bucket. These collections of sub-resources are lazily-loaded.\n",
    "\n",
    "You can see that the Resource version of the code is much simpler, more compact, and has more capability (for example it does pagination for you and it exposes properties instead of a raw dictionary). The Client version of the code would actually be more complicated than shown above if you wanted to include pagination.\n",
    "\n",
    "Finally, onto Session which is fundamental to both Client and Resource and how both get access to AWS credentials, for example."
   ]
  }
 ],
 "metadata": {
  "instance_type": "ml.t3.medium",
  "kernelspec": {
   "display_name": "Python 3 (Data Science 3.0)",
   "language": "python",
   "name": "python3__SAGEMAKER_INTERNAL__arn:aws:sagemaker:eu-west-1:470317259841:image/sagemaker-data-science-310-v1"
  },
  "language_info": {
   "codemirror_mode": {
    "name": "ipython",
    "version": 3
   },
   "file_extension": ".py",
   "mimetype": "text/x-python",
   "name": "python",
   "nbconvert_exporter": "python",
   "pygments_lexer": "ipython3",
   "version": "3.10.6"
  }
 },
 "nbformat": 4,
 "nbformat_minor": 5
}
